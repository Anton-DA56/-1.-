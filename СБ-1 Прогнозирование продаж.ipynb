{
 "cells": [
  {
   "cell_type": "markdown",
   "metadata": {},
   "source": [
    "## Проект: Прогнозирование продаж на предстоящий год интеренет-магазина \"Стримчик\"\n",
    "\n",
    "Интернет-магазин «Стримчик», который продаёт по всему миру компьютерные игры. Из открытых источников доступны исторические данные о продажах игр, оценки пользователей и экспертов, жанры и платформы (например, Xbox или PlayStation). Необходимо выявить определяющие успешность игры закономерности. Это позволит сделать ставку на потенциально популярный продукт и спланировать рекламные кампании.\n",
    "\n",
    "Для достижения поставленной задачи будут реализованы следующие этапы:\n",
    "\n",
    "1)Открытие файла и ознакомление с общей информацией.\n",
    "\n",
    "2)Предобработка данных, включающий в себя работу с пропусками, дубликатами и другими ошибками препятсвующие дальнейшеё работе.\n",
    "\n",
    "3)Исследовательский анализ.\n",
    "\n",
    "4)Визуализация данных и составление корректных выводов по полученной информации.\n",
    "\n",
    "5)Составление и проверка необходимых гипотез.\n",
    "\n",
    "6)Общий вывод."
   ]
  },
  {
   "cell_type": "markdown",
   "metadata": {},
   "source": [
    "## Открытие файла с данными и изучение общей информации."
   ]
  },
  {
   "cell_type": "code",
   "execution_count": 1,
   "metadata": {},
   "outputs": [],
   "source": [
    "import pandas  as pd\n",
    "import matplotlib.pyplot as plt\n",
    "import numpy as np\n",
    "import seaborn as sns\n",
    "from scipy import stats as st"
   ]
  },
  {
   "cell_type": "code",
   "execution_count": 2,
   "metadata": {},
   "outputs": [
    {
     "data": {
      "text/html": [
       "<div>\n",
       "<style scoped>\n",
       "    .dataframe tbody tr th:only-of-type {\n",
       "        vertical-align: middle;\n",
       "    }\n",
       "\n",
       "    .dataframe tbody tr th {\n",
       "        vertical-align: top;\n",
       "    }\n",
       "\n",
       "    .dataframe thead th {\n",
       "        text-align: right;\n",
       "    }\n",
       "</style>\n",
       "<table border=\"1\" class=\"dataframe\">\n",
       "  <thead>\n",
       "    <tr style=\"text-align: right;\">\n",
       "      <th></th>\n",
       "      <th>Name</th>\n",
       "      <th>Platform</th>\n",
       "      <th>Year_of_Release</th>\n",
       "      <th>Genre</th>\n",
       "      <th>NA_sales</th>\n",
       "      <th>EU_sales</th>\n",
       "      <th>JP_sales</th>\n",
       "      <th>Other_sales</th>\n",
       "      <th>Critic_Score</th>\n",
       "      <th>User_Score</th>\n",
       "      <th>Rating</th>\n",
       "    </tr>\n",
       "  </thead>\n",
       "  <tbody>\n",
       "    <tr>\n",
       "      <th>0</th>\n",
       "      <td>Wii Sports</td>\n",
       "      <td>Wii</td>\n",
       "      <td>2006.0</td>\n",
       "      <td>Sports</td>\n",
       "      <td>41.36</td>\n",
       "      <td>28.96</td>\n",
       "      <td>3.77</td>\n",
       "      <td>8.45</td>\n",
       "      <td>76.0</td>\n",
       "      <td>8</td>\n",
       "      <td>E</td>\n",
       "    </tr>\n",
       "    <tr>\n",
       "      <th>1</th>\n",
       "      <td>Super Mario Bros.</td>\n",
       "      <td>NES</td>\n",
       "      <td>1985.0</td>\n",
       "      <td>Platform</td>\n",
       "      <td>29.08</td>\n",
       "      <td>3.58</td>\n",
       "      <td>6.81</td>\n",
       "      <td>0.77</td>\n",
       "      <td>NaN</td>\n",
       "      <td>NaN</td>\n",
       "      <td>NaN</td>\n",
       "    </tr>\n",
       "    <tr>\n",
       "      <th>2</th>\n",
       "      <td>Mario Kart Wii</td>\n",
       "      <td>Wii</td>\n",
       "      <td>2008.0</td>\n",
       "      <td>Racing</td>\n",
       "      <td>15.68</td>\n",
       "      <td>12.76</td>\n",
       "      <td>3.79</td>\n",
       "      <td>3.29</td>\n",
       "      <td>82.0</td>\n",
       "      <td>8.3</td>\n",
       "      <td>E</td>\n",
       "    </tr>\n",
       "    <tr>\n",
       "      <th>3</th>\n",
       "      <td>Wii Sports Resort</td>\n",
       "      <td>Wii</td>\n",
       "      <td>2009.0</td>\n",
       "      <td>Sports</td>\n",
       "      <td>15.61</td>\n",
       "      <td>10.93</td>\n",
       "      <td>3.28</td>\n",
       "      <td>2.95</td>\n",
       "      <td>80.0</td>\n",
       "      <td>8</td>\n",
       "      <td>E</td>\n",
       "    </tr>\n",
       "    <tr>\n",
       "      <th>4</th>\n",
       "      <td>Pokemon Red/Pokemon Blue</td>\n",
       "      <td>GB</td>\n",
       "      <td>1996.0</td>\n",
       "      <td>Role-Playing</td>\n",
       "      <td>11.27</td>\n",
       "      <td>8.89</td>\n",
       "      <td>10.22</td>\n",
       "      <td>1.00</td>\n",
       "      <td>NaN</td>\n",
       "      <td>NaN</td>\n",
       "      <td>NaN</td>\n",
       "    </tr>\n",
       "    <tr>\n",
       "      <th>...</th>\n",
       "      <td>...</td>\n",
       "      <td>...</td>\n",
       "      <td>...</td>\n",
       "      <td>...</td>\n",
       "      <td>...</td>\n",
       "      <td>...</td>\n",
       "      <td>...</td>\n",
       "      <td>...</td>\n",
       "      <td>...</td>\n",
       "      <td>...</td>\n",
       "      <td>...</td>\n",
       "    </tr>\n",
       "    <tr>\n",
       "      <th>16710</th>\n",
       "      <td>Samurai Warriors: Sanada Maru</td>\n",
       "      <td>PS3</td>\n",
       "      <td>2016.0</td>\n",
       "      <td>Action</td>\n",
       "      <td>0.00</td>\n",
       "      <td>0.00</td>\n",
       "      <td>0.01</td>\n",
       "      <td>0.00</td>\n",
       "      <td>NaN</td>\n",
       "      <td>NaN</td>\n",
       "      <td>NaN</td>\n",
       "    </tr>\n",
       "    <tr>\n",
       "      <th>16711</th>\n",
       "      <td>LMA Manager 2007</td>\n",
       "      <td>X360</td>\n",
       "      <td>2006.0</td>\n",
       "      <td>Sports</td>\n",
       "      <td>0.00</td>\n",
       "      <td>0.01</td>\n",
       "      <td>0.00</td>\n",
       "      <td>0.00</td>\n",
       "      <td>NaN</td>\n",
       "      <td>NaN</td>\n",
       "      <td>NaN</td>\n",
       "    </tr>\n",
       "    <tr>\n",
       "      <th>16712</th>\n",
       "      <td>Haitaka no Psychedelica</td>\n",
       "      <td>PSV</td>\n",
       "      <td>2016.0</td>\n",
       "      <td>Adventure</td>\n",
       "      <td>0.00</td>\n",
       "      <td>0.00</td>\n",
       "      <td>0.01</td>\n",
       "      <td>0.00</td>\n",
       "      <td>NaN</td>\n",
       "      <td>NaN</td>\n",
       "      <td>NaN</td>\n",
       "    </tr>\n",
       "    <tr>\n",
       "      <th>16713</th>\n",
       "      <td>Spirits &amp; Spells</td>\n",
       "      <td>GBA</td>\n",
       "      <td>2003.0</td>\n",
       "      <td>Platform</td>\n",
       "      <td>0.01</td>\n",
       "      <td>0.00</td>\n",
       "      <td>0.00</td>\n",
       "      <td>0.00</td>\n",
       "      <td>NaN</td>\n",
       "      <td>NaN</td>\n",
       "      <td>NaN</td>\n",
       "    </tr>\n",
       "    <tr>\n",
       "      <th>16714</th>\n",
       "      <td>Winning Post 8 2016</td>\n",
       "      <td>PSV</td>\n",
       "      <td>2016.0</td>\n",
       "      <td>Simulation</td>\n",
       "      <td>0.00</td>\n",
       "      <td>0.00</td>\n",
       "      <td>0.01</td>\n",
       "      <td>0.00</td>\n",
       "      <td>NaN</td>\n",
       "      <td>NaN</td>\n",
       "      <td>NaN</td>\n",
       "    </tr>\n",
       "  </tbody>\n",
       "</table>\n",
       "<p>16715 rows × 11 columns</p>\n",
       "</div>"
      ],
      "text/plain": [
       "                                Name Platform  Year_of_Release         Genre  \\\n",
       "0                         Wii Sports      Wii           2006.0        Sports   \n",
       "1                  Super Mario Bros.      NES           1985.0      Platform   \n",
       "2                     Mario Kart Wii      Wii           2008.0        Racing   \n",
       "3                  Wii Sports Resort      Wii           2009.0        Sports   \n",
       "4           Pokemon Red/Pokemon Blue       GB           1996.0  Role-Playing   \n",
       "...                              ...      ...              ...           ...   \n",
       "16710  Samurai Warriors: Sanada Maru      PS3           2016.0        Action   \n",
       "16711               LMA Manager 2007     X360           2006.0        Sports   \n",
       "16712        Haitaka no Psychedelica      PSV           2016.0     Adventure   \n",
       "16713               Spirits & Spells      GBA           2003.0      Platform   \n",
       "16714            Winning Post 8 2016      PSV           2016.0    Simulation   \n",
       "\n",
       "       NA_sales  EU_sales  JP_sales  Other_sales  Critic_Score User_Score  \\\n",
       "0         41.36     28.96      3.77         8.45          76.0          8   \n",
       "1         29.08      3.58      6.81         0.77           NaN        NaN   \n",
       "2         15.68     12.76      3.79         3.29          82.0        8.3   \n",
       "3         15.61     10.93      3.28         2.95          80.0          8   \n",
       "4         11.27      8.89     10.22         1.00           NaN        NaN   \n",
       "...         ...       ...       ...          ...           ...        ...   \n",
       "16710      0.00      0.00      0.01         0.00           NaN        NaN   \n",
       "16711      0.00      0.01      0.00         0.00           NaN        NaN   \n",
       "16712      0.00      0.00      0.01         0.00           NaN        NaN   \n",
       "16713      0.01      0.00      0.00         0.00           NaN        NaN   \n",
       "16714      0.00      0.00      0.01         0.00           NaN        NaN   \n",
       "\n",
       "      Rating  \n",
       "0          E  \n",
       "1        NaN  \n",
       "2          E  \n",
       "3          E  \n",
       "4        NaN  \n",
       "...      ...  \n",
       "16710    NaN  \n",
       "16711    NaN  \n",
       "16712    NaN  \n",
       "16713    NaN  \n",
       "16714    NaN  \n",
       "\n",
       "[16715 rows x 11 columns]"
      ]
     },
     "execution_count": 2,
     "metadata": {},
     "output_type": "execute_result"
    }
   ],
   "source": [
    "df = pd.read_csv('/datasets/games.csv')\n",
    "df"
   ]
  },
  {
   "cell_type": "code",
   "execution_count": 3,
   "metadata": {},
   "outputs": [
    {
     "name": "stdout",
     "output_type": "stream",
     "text": [
      "<class 'pandas.core.frame.DataFrame'>\n",
      "RangeIndex: 16715 entries, 0 to 16714\n",
      "Data columns (total 11 columns):\n",
      " #   Column           Non-Null Count  Dtype  \n",
      "---  ------           --------------  -----  \n",
      " 0   Name             16713 non-null  object \n",
      " 1   Platform         16715 non-null  object \n",
      " 2   Year_of_Release  16446 non-null  float64\n",
      " 3   Genre            16713 non-null  object \n",
      " 4   NA_sales         16715 non-null  float64\n",
      " 5   EU_sales         16715 non-null  float64\n",
      " 6   JP_sales         16715 non-null  float64\n",
      " 7   Other_sales      16715 non-null  float64\n",
      " 8   Critic_Score     8137 non-null   float64\n",
      " 9   User_Score       10014 non-null  object \n",
      " 10  Rating           9949 non-null   object \n",
      "dtypes: float64(6), object(5)\n",
      "memory usage: 1.4+ MB\n"
     ]
    }
   ],
   "source": [
    "df.info()"
   ]
  },
  {
   "cell_type": "markdown",
   "metadata": {},
   "source": [
    "### Вывод: в данном датафрейме всего 16715 строк, имеются пропуски, дубликаты, нарушение в типизации данных и названия колонок имеют лексическую ошибку."
   ]
  },
  {
   "cell_type": "markdown",
   "metadata": {},
   "source": [
    "## Предобработка данных."
   ]
  },
  {
   "cell_type": "markdown",
   "metadata": {},
   "source": [
    "### Замена названия столбцов (приведение к нижнему регистру)."
   ]
  },
  {
   "cell_type": "code",
   "execution_count": 4,
   "metadata": {},
   "outputs": [
    {
     "data": {
      "text/html": [
       "<div>\n",
       "<style scoped>\n",
       "    .dataframe tbody tr th:only-of-type {\n",
       "        vertical-align: middle;\n",
       "    }\n",
       "\n",
       "    .dataframe tbody tr th {\n",
       "        vertical-align: top;\n",
       "    }\n",
       "\n",
       "    .dataframe thead th {\n",
       "        text-align: right;\n",
       "    }\n",
       "</style>\n",
       "<table border=\"1\" class=\"dataframe\">\n",
       "  <thead>\n",
       "    <tr style=\"text-align: right;\">\n",
       "      <th></th>\n",
       "      <th>name</th>\n",
       "      <th>platform</th>\n",
       "      <th>year_of_release</th>\n",
       "      <th>genre</th>\n",
       "      <th>na_sales</th>\n",
       "      <th>eu_sales</th>\n",
       "      <th>jp_sales</th>\n",
       "      <th>other_sales</th>\n",
       "      <th>critic_score</th>\n",
       "      <th>user_score</th>\n",
       "      <th>rating</th>\n",
       "    </tr>\n",
       "  </thead>\n",
       "  <tbody>\n",
       "    <tr>\n",
       "      <th>0</th>\n",
       "      <td>Wii Sports</td>\n",
       "      <td>Wii</td>\n",
       "      <td>2006.0</td>\n",
       "      <td>Sports</td>\n",
       "      <td>41.36</td>\n",
       "      <td>28.96</td>\n",
       "      <td>3.77</td>\n",
       "      <td>8.45</td>\n",
       "      <td>76.0</td>\n",
       "      <td>8</td>\n",
       "      <td>E</td>\n",
       "    </tr>\n",
       "    <tr>\n",
       "      <th>1</th>\n",
       "      <td>Super Mario Bros.</td>\n",
       "      <td>NES</td>\n",
       "      <td>1985.0</td>\n",
       "      <td>Platform</td>\n",
       "      <td>29.08</td>\n",
       "      <td>3.58</td>\n",
       "      <td>6.81</td>\n",
       "      <td>0.77</td>\n",
       "      <td>NaN</td>\n",
       "      <td>NaN</td>\n",
       "      <td>NaN</td>\n",
       "    </tr>\n",
       "    <tr>\n",
       "      <th>2</th>\n",
       "      <td>Mario Kart Wii</td>\n",
       "      <td>Wii</td>\n",
       "      <td>2008.0</td>\n",
       "      <td>Racing</td>\n",
       "      <td>15.68</td>\n",
       "      <td>12.76</td>\n",
       "      <td>3.79</td>\n",
       "      <td>3.29</td>\n",
       "      <td>82.0</td>\n",
       "      <td>8.3</td>\n",
       "      <td>E</td>\n",
       "    </tr>\n",
       "    <tr>\n",
       "      <th>3</th>\n",
       "      <td>Wii Sports Resort</td>\n",
       "      <td>Wii</td>\n",
       "      <td>2009.0</td>\n",
       "      <td>Sports</td>\n",
       "      <td>15.61</td>\n",
       "      <td>10.93</td>\n",
       "      <td>3.28</td>\n",
       "      <td>2.95</td>\n",
       "      <td>80.0</td>\n",
       "      <td>8</td>\n",
       "      <td>E</td>\n",
       "    </tr>\n",
       "    <tr>\n",
       "      <th>4</th>\n",
       "      <td>Pokemon Red/Pokemon Blue</td>\n",
       "      <td>GB</td>\n",
       "      <td>1996.0</td>\n",
       "      <td>Role-Playing</td>\n",
       "      <td>11.27</td>\n",
       "      <td>8.89</td>\n",
       "      <td>10.22</td>\n",
       "      <td>1.00</td>\n",
       "      <td>NaN</td>\n",
       "      <td>NaN</td>\n",
       "      <td>NaN</td>\n",
       "    </tr>\n",
       "    <tr>\n",
       "      <th>...</th>\n",
       "      <td>...</td>\n",
       "      <td>...</td>\n",
       "      <td>...</td>\n",
       "      <td>...</td>\n",
       "      <td>...</td>\n",
       "      <td>...</td>\n",
       "      <td>...</td>\n",
       "      <td>...</td>\n",
       "      <td>...</td>\n",
       "      <td>...</td>\n",
       "      <td>...</td>\n",
       "    </tr>\n",
       "    <tr>\n",
       "      <th>16710</th>\n",
       "      <td>Samurai Warriors: Sanada Maru</td>\n",
       "      <td>PS3</td>\n",
       "      <td>2016.0</td>\n",
       "      <td>Action</td>\n",
       "      <td>0.00</td>\n",
       "      <td>0.00</td>\n",
       "      <td>0.01</td>\n",
       "      <td>0.00</td>\n",
       "      <td>NaN</td>\n",
       "      <td>NaN</td>\n",
       "      <td>NaN</td>\n",
       "    </tr>\n",
       "    <tr>\n",
       "      <th>16711</th>\n",
       "      <td>LMA Manager 2007</td>\n",
       "      <td>X360</td>\n",
       "      <td>2006.0</td>\n",
       "      <td>Sports</td>\n",
       "      <td>0.00</td>\n",
       "      <td>0.01</td>\n",
       "      <td>0.00</td>\n",
       "      <td>0.00</td>\n",
       "      <td>NaN</td>\n",
       "      <td>NaN</td>\n",
       "      <td>NaN</td>\n",
       "    </tr>\n",
       "    <tr>\n",
       "      <th>16712</th>\n",
       "      <td>Haitaka no Psychedelica</td>\n",
       "      <td>PSV</td>\n",
       "      <td>2016.0</td>\n",
       "      <td>Adventure</td>\n",
       "      <td>0.00</td>\n",
       "      <td>0.00</td>\n",
       "      <td>0.01</td>\n",
       "      <td>0.00</td>\n",
       "      <td>NaN</td>\n",
       "      <td>NaN</td>\n",
       "      <td>NaN</td>\n",
       "    </tr>\n",
       "    <tr>\n",
       "      <th>16713</th>\n",
       "      <td>Spirits &amp; Spells</td>\n",
       "      <td>GBA</td>\n",
       "      <td>2003.0</td>\n",
       "      <td>Platform</td>\n",
       "      <td>0.01</td>\n",
       "      <td>0.00</td>\n",
       "      <td>0.00</td>\n",
       "      <td>0.00</td>\n",
       "      <td>NaN</td>\n",
       "      <td>NaN</td>\n",
       "      <td>NaN</td>\n",
       "    </tr>\n",
       "    <tr>\n",
       "      <th>16714</th>\n",
       "      <td>Winning Post 8 2016</td>\n",
       "      <td>PSV</td>\n",
       "      <td>2016.0</td>\n",
       "      <td>Simulation</td>\n",
       "      <td>0.00</td>\n",
       "      <td>0.00</td>\n",
       "      <td>0.01</td>\n",
       "      <td>0.00</td>\n",
       "      <td>NaN</td>\n",
       "      <td>NaN</td>\n",
       "      <td>NaN</td>\n",
       "    </tr>\n",
       "  </tbody>\n",
       "</table>\n",
       "<p>16715 rows × 11 columns</p>\n",
       "</div>"
      ],
      "text/plain": [
       "                                name platform  year_of_release         genre  \\\n",
       "0                         Wii Sports      Wii           2006.0        Sports   \n",
       "1                  Super Mario Bros.      NES           1985.0      Platform   \n",
       "2                     Mario Kart Wii      Wii           2008.0        Racing   \n",
       "3                  Wii Sports Resort      Wii           2009.0        Sports   \n",
       "4           Pokemon Red/Pokemon Blue       GB           1996.0  Role-Playing   \n",
       "...                              ...      ...              ...           ...   \n",
       "16710  Samurai Warriors: Sanada Maru      PS3           2016.0        Action   \n",
       "16711               LMA Manager 2007     X360           2006.0        Sports   \n",
       "16712        Haitaka no Psychedelica      PSV           2016.0     Adventure   \n",
       "16713               Spirits & Spells      GBA           2003.0      Platform   \n",
       "16714            Winning Post 8 2016      PSV           2016.0    Simulation   \n",
       "\n",
       "       na_sales  eu_sales  jp_sales  other_sales  critic_score user_score  \\\n",
       "0         41.36     28.96      3.77         8.45          76.0          8   \n",
       "1         29.08      3.58      6.81         0.77           NaN        NaN   \n",
       "2         15.68     12.76      3.79         3.29          82.0        8.3   \n",
       "3         15.61     10.93      3.28         2.95          80.0          8   \n",
       "4         11.27      8.89     10.22         1.00           NaN        NaN   \n",
       "...         ...       ...       ...          ...           ...        ...   \n",
       "16710      0.00      0.00      0.01         0.00           NaN        NaN   \n",
       "16711      0.00      0.01      0.00         0.00           NaN        NaN   \n",
       "16712      0.00      0.00      0.01         0.00           NaN        NaN   \n",
       "16713      0.01      0.00      0.00         0.00           NaN        NaN   \n",
       "16714      0.00      0.00      0.01         0.00           NaN        NaN   \n",
       "\n",
       "      rating  \n",
       "0          E  \n",
       "1        NaN  \n",
       "2          E  \n",
       "3          E  \n",
       "4        NaN  \n",
       "...      ...  \n",
       "16710    NaN  \n",
       "16711    NaN  \n",
       "16712    NaN  \n",
       "16713    NaN  \n",
       "16714    NaN  \n",
       "\n",
       "[16715 rows x 11 columns]"
      ]
     },
     "execution_count": 4,
     "metadata": {},
     "output_type": "execute_result"
    }
   ],
   "source": [
    "df.columns = df.columns.str.lower()\n",
    "df"
   ]
  },
  {
   "cell_type": "markdown",
   "metadata": {},
   "source": [
    "### Поиск дубликатов."
   ]
  },
  {
   "cell_type": "code",
   "execution_count": 5,
   "metadata": {},
   "outputs": [
    {
     "data": {
      "text/plain": [
       "0"
      ]
     },
     "execution_count": 5,
     "metadata": {},
     "output_type": "execute_result"
    }
   ],
   "source": [
    "df.duplicated().sum()"
   ]
  },
  {
   "cell_type": "code",
   "execution_count": 6,
   "metadata": {},
   "outputs": [
    {
     "name": "stdout",
     "output_type": "stream",
     "text": [
      "name               1\n",
      "platform           2\n",
      "year_of_release    2\n",
      "genre              1\n",
      "na_sales           2\n",
      "eu_sales           2\n",
      "jp_sales           2\n",
      "other_sales        2\n",
      "critic_score       1\n",
      "user_score         1\n",
      "rating             1\n",
      "dtype: int64\n"
     ]
    }
   ],
   "source": [
    "print(df[df.duplicated(['name', 'platform', 'year_of_release'])].count())"
   ]
  },
  {
   "cell_type": "code",
   "execution_count": 7,
   "metadata": {},
   "outputs": [
    {
     "name": "stdout",
     "output_type": "stream",
     "text": [
      "name               0\n",
      "platform           0\n",
      "year_of_release    0\n",
      "genre              0\n",
      "na_sales           0\n",
      "eu_sales           0\n",
      "jp_sales           0\n",
      "other_sales        0\n",
      "critic_score       0\n",
      "user_score         0\n",
      "rating             0\n",
      "dtype: int64\n"
     ]
    }
   ],
   "source": [
    "df = df.drop_duplicates(['name', 'platform', 'year_of_release'])\n",
    "print(df[df.duplicated(['name', 'platform', 'year_of_release'])].count())"
   ]
  },
  {
   "cell_type": "markdown",
   "metadata": {},
   "source": [
    "### Обработка пропусков."
   ]
  },
  {
   "cell_type": "code",
   "execution_count": 8,
   "metadata": {},
   "outputs": [
    {
     "data": {
      "text/plain": [
       "name                  1\n",
       "platform              0\n",
       "year_of_release     269\n",
       "genre                 1\n",
       "na_sales              0\n",
       "eu_sales              0\n",
       "jp_sales              0\n",
       "other_sales           0\n",
       "critic_score       8577\n",
       "user_score         6700\n",
       "rating             6765\n",
       "dtype: int64"
      ]
     },
     "execution_count": 8,
     "metadata": {},
     "output_type": "execute_result"
    }
   ],
   "source": [
    "df.isna().sum()"
   ]
  },
  {
   "cell_type": "markdown",
   "metadata": {},
   "source": [
    "Столбец name"
   ]
  },
  {
   "cell_type": "code",
   "execution_count": 9,
   "metadata": {},
   "outputs": [
    {
     "data": {
      "text/plain": [
       "name                  0\n",
       "platform              0\n",
       "year_of_release     269\n",
       "genre                 0\n",
       "na_sales              0\n",
       "eu_sales              0\n",
       "jp_sales              0\n",
       "other_sales           0\n",
       "critic_score       8576\n",
       "user_score         6699\n",
       "rating             6764\n",
       "dtype: int64"
      ]
     },
     "execution_count": 9,
     "metadata": {},
     "output_type": "execute_result"
    }
   ],
   "source": [
    "df = df.dropna(subset = ['name'])\n",
    "df.isna().sum()"
   ]
  },
  {
   "cell_type": "markdown",
   "metadata": {},
   "source": [
    "Так как имеется в стобце name всего два пропуска, решил удалить строки, данное действие никак не повлияет на исход проекта."
   ]
  },
  {
   "cell_type": "markdown",
   "metadata": {},
   "source": [
    "Столбец year_of_release"
   ]
  },
  {
   "cell_type": "code",
   "execution_count": 10,
   "metadata": {},
   "outputs": [
    {
     "data": {
      "text/plain": [
       "2008.0    1427\n",
       "2009.0    1426\n",
       "2010.0    1255\n",
       "2007.0    1197\n",
       "2011.0    1136\n",
       "2006.0    1006\n",
       "2005.0     939\n",
       "2002.0     829\n",
       "2003.0     775\n",
       "2004.0     762\n",
       "2012.0     652\n",
       "2015.0     606\n",
       "2014.0     581\n",
       "2013.0     544\n",
       "2016.0     502\n",
       "2001.0     482\n",
       "1998.0     379\n",
       "2000.0     350\n",
       "1999.0     338\n",
       "1997.0     289\n",
       "1996.0     263\n",
       "1995.0     219\n",
       "1994.0     121\n",
       "1993.0      60\n",
       "1981.0      46\n",
       "1992.0      43\n",
       "1991.0      41\n",
       "1982.0      36\n",
       "1986.0      21\n",
       "1989.0      17\n",
       "1983.0      17\n",
       "1987.0      16\n",
       "1990.0      16\n",
       "1988.0      15\n",
       "1984.0      14\n",
       "1985.0      14\n",
       "1980.0       9\n",
       "Name: year_of_release, dtype: int64"
      ]
     },
     "execution_count": 10,
     "metadata": {},
     "output_type": "execute_result"
    }
   ],
   "source": [
    "df['year_of_release'].value_counts()"
   ]
  },
  {
   "cell_type": "code",
   "execution_count": 11,
   "metadata": {},
   "outputs": [
    {
     "data": {
      "text/plain": [
       "name                  0\n",
       "platform              0\n",
       "year_of_release       0\n",
       "genre                 0\n",
       "na_sales              0\n",
       "eu_sales              0\n",
       "jp_sales              0\n",
       "other_sales           0\n",
       "critic_score       8461\n",
       "user_score         6605\n",
       "rating             6676\n",
       "dtype: int64"
      ]
     },
     "execution_count": 11,
     "metadata": {},
     "output_type": "execute_result"
    }
   ],
   "source": [
    "df = df.dropna(subset=['year_of_release'])\n",
    "df.isna().sum()"
   ]
  },
  {
   "cell_type": "markdown",
   "metadata": {},
   "source": [
    "Данные пропуски не имеют верный тип обработки, поэтому было принято решение по удалению, так как количество мало, как в случае со столбцом 'name'."
   ]
  },
  {
   "cell_type": "markdown",
   "metadata": {},
   "source": [
    "Стобец critic_score"
   ]
  },
  {
   "cell_type": "code",
   "execution_count": 12,
   "metadata": {},
   "outputs": [
    {
     "data": {
      "text/plain": [
       "0        76.0\n",
       "1          -1\n",
       "2        82.0\n",
       "3        80.0\n",
       "4          -1\n",
       "         ... \n",
       "16710      -1\n",
       "16711      -1\n",
       "16712      -1\n",
       "16713      -1\n",
       "16714      -1\n",
       "Name: critic_score, Length: 16443, dtype: object"
      ]
     },
     "execution_count": 12,
     "metadata": {},
     "output_type": "execute_result"
    }
   ],
   "source": [
    "df['critic_score'] = df['critic_score'].fillna('-1')\n",
    "df['critic_score']"
   ]
  },
  {
   "cell_type": "markdown",
   "metadata": {},
   "source": [
    "В данном случае метод mean() или median() могут нарушить данные и неверно повлиять на дальнейшую работу, следовательно было принято решение о замене пропусков на 0."
   ]
  },
  {
   "cell_type": "markdown",
   "metadata": {},
   "source": [
    "Столбец user_score"
   ]
  },
  {
   "cell_type": "code",
   "execution_count": 13,
   "metadata": {},
   "outputs": [
    {
     "data": {
      "text/plain": [
       "-1     6605\n",
       "tbd    2376\n",
       "7.8     322\n",
       "8       285\n",
       "8.2     276\n",
       "       ... \n",
       "0.5       2\n",
       "1.9       2\n",
       "0.9       2\n",
       "9.7       1\n",
       "0         1\n",
       "Name: user_score, Length: 97, dtype: int64"
      ]
     },
     "execution_count": 13,
     "metadata": {},
     "output_type": "execute_result"
    }
   ],
   "source": [
    "df['user_score'] = df['user_score'].fillna(-1)\n",
    "df['user_score'].value_counts()"
   ]
  },
  {
   "cell_type": "markdown",
   "metadata": {},
   "source": [
    "В данном стобце не удается привязать оценки пользователей к названиям игр, и методы негативно скажутся на результатах, принял решение по замене, как в предыдущем случае.\n",
    "\n",
    "Имеем 2376 случаев с tbd, о которых ничего сказано. Но скорей всего это отсутсвие оценок по причине не хватки количества, для определения средней. Поэтому данный показатель так же к 0."
   ]
  },
  {
   "cell_type": "code",
   "execution_count": 14,
   "metadata": {},
   "outputs": [
    {
     "data": {
      "text/plain": [
       "-1     8981\n",
       "7.8     322\n",
       "8       285\n",
       "8.2     276\n",
       "8.3     252\n",
       "       ... \n",
       "0.5       2\n",
       "9.6       2\n",
       "0.2       2\n",
       "0         1\n",
       "9.7       1\n",
       "Name: user_score, Length: 96, dtype: int64"
      ]
     },
     "execution_count": 14,
     "metadata": {},
     "output_type": "execute_result"
    }
   ],
   "source": [
    "df.loc[df['user_score'] == 'tbd', 'user_score'] = -1\n",
    "df['user_score'].value_counts()"
   ]
  },
  {
   "cell_type": "markdown",
   "metadata": {},
   "source": [
    "Столбец rating"
   ]
  },
  {
   "cell_type": "code",
   "execution_count": 15,
   "metadata": {},
   "outputs": [
    {
     "data": {
      "text/plain": [
       "array(['E', nan, 'M', 'T', 'E10+', 'K-A', 'AO', 'EC', 'RP'], dtype=object)"
      ]
     },
     "execution_count": 15,
     "metadata": {},
     "output_type": "execute_result"
    }
   ],
   "source": [
    "df['rating'].unique()"
   ]
  },
  {
   "cell_type": "markdown",
   "metadata": {},
   "source": [
    "Столбец rating, это рейтинг от организации ESRB (англ. Entertainment Software Rating Board). Эта ассоциация определяет рейтинг компьютерных игр и присваивает им подходящую возрастную категорию. Отсуствующее значение заменим на unknowm."
   ]
  },
  {
   "cell_type": "code",
   "execution_count": 16,
   "metadata": {},
   "outputs": [
    {
     "data": {
      "text/plain": [
       "name               0\n",
       "platform           0\n",
       "year_of_release    0\n",
       "genre              0\n",
       "na_sales           0\n",
       "eu_sales           0\n",
       "jp_sales           0\n",
       "other_sales        0\n",
       "critic_score       0\n",
       "user_score         0\n",
       "rating             0\n",
       "dtype: int64"
      ]
     },
     "execution_count": 16,
     "metadata": {},
     "output_type": "execute_result"
    }
   ],
   "source": [
    "df['rating'] = df['rating'].fillna('unknown')\n",
    "df.isna().sum()"
   ]
  },
  {
   "cell_type": "markdown",
   "metadata": {},
   "source": [
    "Пропуски обработаны, но следует понимать, что в дальнейшей работе, следует учитывать факт отсутсвия большого количества оценок, и при визуализации делать срез, для ясности картины. Этот метод для обработки пропусков, я считаю более корректный, с которым можно работать не повлияв на результаты, ведь методы mean или median сильно бы исказили данные."
   ]
  },
  {
   "cell_type": "markdown",
   "metadata": {},
   "source": [
    "### Типизация данных."
   ]
  },
  {
   "cell_type": "code",
   "execution_count": 17,
   "metadata": {},
   "outputs": [
    {
     "name": "stdout",
     "output_type": "stream",
     "text": [
      "<class 'pandas.core.frame.DataFrame'>\n",
      "Int64Index: 16443 entries, 0 to 16714\n",
      "Data columns (total 11 columns):\n",
      " #   Column           Non-Null Count  Dtype  \n",
      "---  ------           --------------  -----  \n",
      " 0   name             16443 non-null  object \n",
      " 1   platform         16443 non-null  object \n",
      " 2   year_of_release  16443 non-null  float64\n",
      " 3   genre            16443 non-null  object \n",
      " 4   na_sales         16443 non-null  float64\n",
      " 5   eu_sales         16443 non-null  float64\n",
      " 6   jp_sales         16443 non-null  float64\n",
      " 7   other_sales      16443 non-null  float64\n",
      " 8   critic_score     16443 non-null  object \n",
      " 9   user_score       16443 non-null  object \n",
      " 10  rating           16443 non-null  object \n",
      "dtypes: float64(5), object(6)\n",
      "memory usage: 1.5+ MB\n"
     ]
    }
   ],
   "source": [
    "df.info()"
   ]
  },
  {
   "cell_type": "code",
   "execution_count": 18,
   "metadata": {},
   "outputs": [
    {
     "name": "stdout",
     "output_type": "stream",
     "text": [
      "<class 'pandas.core.frame.DataFrame'>\n",
      "Int64Index: 16443 entries, 0 to 16714\n",
      "Data columns (total 11 columns):\n",
      " #   Column           Non-Null Count  Dtype  \n",
      "---  ------           --------------  -----  \n",
      " 0   name             16443 non-null  object \n",
      " 1   platform         16443 non-null  object \n",
      " 2   year_of_release  16443 non-null  int64  \n",
      " 3   genre            16443 non-null  object \n",
      " 4   na_sales         16443 non-null  float64\n",
      " 5   eu_sales         16443 non-null  float64\n",
      " 6   jp_sales         16443 non-null  float64\n",
      " 7   other_sales      16443 non-null  float64\n",
      " 8   critic_score     16443 non-null  int64  \n",
      " 9   user_score       16443 non-null  float64\n",
      " 10  rating           16443 non-null  object \n",
      "dtypes: float64(5), int64(2), object(4)\n",
      "memory usage: 1.5+ MB\n"
     ]
    }
   ],
   "source": [
    "df['year_of_release'] = df['year_of_release'].astype('int')\n",
    "df['critic_score'] = df['critic_score'].astype('int')\n",
    "df['user_score'] = df['user_score'].astype('float')\n",
    "df.info()"
   ]
  },
  {
   "cell_type": "markdown",
   "metadata": {},
   "source": [
    "### Суммарные продажи во всех регионах."
   ]
  },
  {
   "cell_type": "code",
   "execution_count": 19,
   "metadata": {},
   "outputs": [
    {
     "data": {
      "text/html": [
       "<div>\n",
       "<style scoped>\n",
       "    .dataframe tbody tr th:only-of-type {\n",
       "        vertical-align: middle;\n",
       "    }\n",
       "\n",
       "    .dataframe tbody tr th {\n",
       "        vertical-align: top;\n",
       "    }\n",
       "\n",
       "    .dataframe thead th {\n",
       "        text-align: right;\n",
       "    }\n",
       "</style>\n",
       "<table border=\"1\" class=\"dataframe\">\n",
       "  <thead>\n",
       "    <tr style=\"text-align: right;\">\n",
       "      <th></th>\n",
       "      <th>name</th>\n",
       "      <th>platform</th>\n",
       "      <th>year_of_release</th>\n",
       "      <th>genre</th>\n",
       "      <th>na_sales</th>\n",
       "      <th>eu_sales</th>\n",
       "      <th>jp_sales</th>\n",
       "      <th>other_sales</th>\n",
       "      <th>critic_score</th>\n",
       "      <th>user_score</th>\n",
       "      <th>rating</th>\n",
       "      <th>total_sales</th>\n",
       "    </tr>\n",
       "  </thead>\n",
       "  <tbody>\n",
       "    <tr>\n",
       "      <th>0</th>\n",
       "      <td>Wii Sports</td>\n",
       "      <td>Wii</td>\n",
       "      <td>2006</td>\n",
       "      <td>Sports</td>\n",
       "      <td>41.36</td>\n",
       "      <td>28.96</td>\n",
       "      <td>3.77</td>\n",
       "      <td>8.45</td>\n",
       "      <td>76</td>\n",
       "      <td>8.0</td>\n",
       "      <td>E</td>\n",
       "      <td>82.54</td>\n",
       "    </tr>\n",
       "    <tr>\n",
       "      <th>1</th>\n",
       "      <td>Super Mario Bros.</td>\n",
       "      <td>NES</td>\n",
       "      <td>1985</td>\n",
       "      <td>Platform</td>\n",
       "      <td>29.08</td>\n",
       "      <td>3.58</td>\n",
       "      <td>6.81</td>\n",
       "      <td>0.77</td>\n",
       "      <td>-1</td>\n",
       "      <td>-1.0</td>\n",
       "      <td>unknown</td>\n",
       "      <td>40.24</td>\n",
       "    </tr>\n",
       "    <tr>\n",
       "      <th>2</th>\n",
       "      <td>Mario Kart Wii</td>\n",
       "      <td>Wii</td>\n",
       "      <td>2008</td>\n",
       "      <td>Racing</td>\n",
       "      <td>15.68</td>\n",
       "      <td>12.76</td>\n",
       "      <td>3.79</td>\n",
       "      <td>3.29</td>\n",
       "      <td>82</td>\n",
       "      <td>8.3</td>\n",
       "      <td>E</td>\n",
       "      <td>35.52</td>\n",
       "    </tr>\n",
       "    <tr>\n",
       "      <th>3</th>\n",
       "      <td>Wii Sports Resort</td>\n",
       "      <td>Wii</td>\n",
       "      <td>2009</td>\n",
       "      <td>Sports</td>\n",
       "      <td>15.61</td>\n",
       "      <td>10.93</td>\n",
       "      <td>3.28</td>\n",
       "      <td>2.95</td>\n",
       "      <td>80</td>\n",
       "      <td>8.0</td>\n",
       "      <td>E</td>\n",
       "      <td>32.77</td>\n",
       "    </tr>\n",
       "    <tr>\n",
       "      <th>4</th>\n",
       "      <td>Pokemon Red/Pokemon Blue</td>\n",
       "      <td>GB</td>\n",
       "      <td>1996</td>\n",
       "      <td>Role-Playing</td>\n",
       "      <td>11.27</td>\n",
       "      <td>8.89</td>\n",
       "      <td>10.22</td>\n",
       "      <td>1.00</td>\n",
       "      <td>-1</td>\n",
       "      <td>-1.0</td>\n",
       "      <td>unknown</td>\n",
       "      <td>31.38</td>\n",
       "    </tr>\n",
       "    <tr>\n",
       "      <th>...</th>\n",
       "      <td>...</td>\n",
       "      <td>...</td>\n",
       "      <td>...</td>\n",
       "      <td>...</td>\n",
       "      <td>...</td>\n",
       "      <td>...</td>\n",
       "      <td>...</td>\n",
       "      <td>...</td>\n",
       "      <td>...</td>\n",
       "      <td>...</td>\n",
       "      <td>...</td>\n",
       "      <td>...</td>\n",
       "    </tr>\n",
       "    <tr>\n",
       "      <th>16710</th>\n",
       "      <td>Samurai Warriors: Sanada Maru</td>\n",
       "      <td>PS3</td>\n",
       "      <td>2016</td>\n",
       "      <td>Action</td>\n",
       "      <td>0.00</td>\n",
       "      <td>0.00</td>\n",
       "      <td>0.01</td>\n",
       "      <td>0.00</td>\n",
       "      <td>-1</td>\n",
       "      <td>-1.0</td>\n",
       "      <td>unknown</td>\n",
       "      <td>0.01</td>\n",
       "    </tr>\n",
       "    <tr>\n",
       "      <th>16711</th>\n",
       "      <td>LMA Manager 2007</td>\n",
       "      <td>X360</td>\n",
       "      <td>2006</td>\n",
       "      <td>Sports</td>\n",
       "      <td>0.00</td>\n",
       "      <td>0.01</td>\n",
       "      <td>0.00</td>\n",
       "      <td>0.00</td>\n",
       "      <td>-1</td>\n",
       "      <td>-1.0</td>\n",
       "      <td>unknown</td>\n",
       "      <td>0.01</td>\n",
       "    </tr>\n",
       "    <tr>\n",
       "      <th>16712</th>\n",
       "      <td>Haitaka no Psychedelica</td>\n",
       "      <td>PSV</td>\n",
       "      <td>2016</td>\n",
       "      <td>Adventure</td>\n",
       "      <td>0.00</td>\n",
       "      <td>0.00</td>\n",
       "      <td>0.01</td>\n",
       "      <td>0.00</td>\n",
       "      <td>-1</td>\n",
       "      <td>-1.0</td>\n",
       "      <td>unknown</td>\n",
       "      <td>0.01</td>\n",
       "    </tr>\n",
       "    <tr>\n",
       "      <th>16713</th>\n",
       "      <td>Spirits &amp; Spells</td>\n",
       "      <td>GBA</td>\n",
       "      <td>2003</td>\n",
       "      <td>Platform</td>\n",
       "      <td>0.01</td>\n",
       "      <td>0.00</td>\n",
       "      <td>0.00</td>\n",
       "      <td>0.00</td>\n",
       "      <td>-1</td>\n",
       "      <td>-1.0</td>\n",
       "      <td>unknown</td>\n",
       "      <td>0.01</td>\n",
       "    </tr>\n",
       "    <tr>\n",
       "      <th>16714</th>\n",
       "      <td>Winning Post 8 2016</td>\n",
       "      <td>PSV</td>\n",
       "      <td>2016</td>\n",
       "      <td>Simulation</td>\n",
       "      <td>0.00</td>\n",
       "      <td>0.00</td>\n",
       "      <td>0.01</td>\n",
       "      <td>0.00</td>\n",
       "      <td>-1</td>\n",
       "      <td>-1.0</td>\n",
       "      <td>unknown</td>\n",
       "      <td>0.01</td>\n",
       "    </tr>\n",
       "  </tbody>\n",
       "</table>\n",
       "<p>16443 rows × 12 columns</p>\n",
       "</div>"
      ],
      "text/plain": [
       "                                name platform  year_of_release         genre  \\\n",
       "0                         Wii Sports      Wii             2006        Sports   \n",
       "1                  Super Mario Bros.      NES             1985      Platform   \n",
       "2                     Mario Kart Wii      Wii             2008        Racing   \n",
       "3                  Wii Sports Resort      Wii             2009        Sports   \n",
       "4           Pokemon Red/Pokemon Blue       GB             1996  Role-Playing   \n",
       "...                              ...      ...              ...           ...   \n",
       "16710  Samurai Warriors: Sanada Maru      PS3             2016        Action   \n",
       "16711               LMA Manager 2007     X360             2006        Sports   \n",
       "16712        Haitaka no Psychedelica      PSV             2016     Adventure   \n",
       "16713               Spirits & Spells      GBA             2003      Platform   \n",
       "16714            Winning Post 8 2016      PSV             2016    Simulation   \n",
       "\n",
       "       na_sales  eu_sales  jp_sales  other_sales  critic_score  user_score  \\\n",
       "0         41.36     28.96      3.77         8.45            76         8.0   \n",
       "1         29.08      3.58      6.81         0.77            -1        -1.0   \n",
       "2         15.68     12.76      3.79         3.29            82         8.3   \n",
       "3         15.61     10.93      3.28         2.95            80         8.0   \n",
       "4         11.27      8.89     10.22         1.00            -1        -1.0   \n",
       "...         ...       ...       ...          ...           ...         ...   \n",
       "16710      0.00      0.00      0.01         0.00            -1        -1.0   \n",
       "16711      0.00      0.01      0.00         0.00            -1        -1.0   \n",
       "16712      0.00      0.00      0.01         0.00            -1        -1.0   \n",
       "16713      0.01      0.00      0.00         0.00            -1        -1.0   \n",
       "16714      0.00      0.00      0.01         0.00            -1        -1.0   \n",
       "\n",
       "        rating  total_sales  \n",
       "0            E        82.54  \n",
       "1      unknown        40.24  \n",
       "2            E        35.52  \n",
       "3            E        32.77  \n",
       "4      unknown        31.38  \n",
       "...        ...          ...  \n",
       "16710  unknown         0.01  \n",
       "16711  unknown         0.01  \n",
       "16712  unknown         0.01  \n",
       "16713  unknown         0.01  \n",
       "16714  unknown         0.01  \n",
       "\n",
       "[16443 rows x 12 columns]"
      ]
     },
     "execution_count": 19,
     "metadata": {},
     "output_type": "execute_result"
    }
   ],
   "source": [
    "df['total_sales'] = df.loc[:,['na_sales','eu_sales', 'jp_sales', 'other_sales']].sum(axis=1)\n",
    "df"
   ]
  },
  {
   "cell_type": "markdown",
   "metadata": {},
   "source": [
    "### Вывод: Все замечания в данных были устранены: убедились в отсутствии дубликатов, избавились от пропусков, изменили тип данных, привели названия столбцов к правильному виду и посчитали суммарные продажи во всех регионах. Проведён поиск по неизвестным значениям 'tbd' и пропуску в столбце rating и провели обработку.\n",
    "\n",
    "</font><font color='Blue'><b>Пропуски при значение tbd могут и не являться пропусками, потому что имеют логику, при формировании рейтинга учитываются не только Северная Америка, но и другие страны(регионы). Пропуски в количественных показатель могут быть в связи человеческого фактора, или форматирования данных.  </b></font><br>"
   ]
  },
  {
   "cell_type": "markdown",
   "metadata": {},
   "source": [
    "## Исследовательский анализ данных."
   ]
  },
  {
   "cell_type": "markdown",
   "metadata": {},
   "source": [
    "### Cколько игр выпускалось в разные годы."
   ]
  },
  {
   "cell_type": "code",
   "execution_count": 21,
   "metadata": {},
   "outputs": [
    {
     "data": {
      "text/plain": [
       "count    16443.000000\n",
       "mean      2006.485921\n",
       "std          5.875546\n",
       "min       1980.000000\n",
       "25%       2003.000000\n",
       "50%       2007.000000\n",
       "75%       2010.000000\n",
       "max       2016.000000\n",
       "Name: year_of_release, dtype: float64"
      ]
     },
     "execution_count": 21,
     "metadata": {},
     "output_type": "execute_result"
    }
   ],
   "source": [
    "df['year_of_release'].describe()"
   ]
  },
  {
   "cell_type": "code",
   "execution_count": 22,
   "metadata": {},
   "outputs": [
    {
     "data": {
      "image/png": "[encoded data removed]",
      "text/plain": [
       "<Figure size 720x360 with 1 Axes>"
      ]
     },
     "metadata": {
      "needs_background": "light"
     },
     "output_type": "display_data"
    }
   ],
   "source": [
    "df.pivot_table(index='year_of_release', values='name', aggfunc='count').plot(kind='bar' , grid=True, figsize=(10, 5))\n",
    "\n",
    "plt.title('Количество игр выпуска по годам')\n",
    "plt.xlabel('Год')\n",
    "plt.ylabel('Количество игр')\n",
    "plt.show()"
   ]
  },
  {
   "cell_type": "markdown",
   "metadata": {},
   "source": [
    "С 1991 года замечается рост выпуска игр по 2009 год, самый пик заметен в 2008-2009 год. Данный рост связан с началом и развитием игр. Спад с 2009 по 2016 связан с многими факторами, а именно большая конкурентность, уменьшение колличества игр, но улучшение качества игр, компаниии изменили подход к созданию."
   ]
  },
  {
   "cell_type": "markdown",
   "metadata": {},
   "source": [
    "### Продажи по платформам."
   ]
  },
  {
   "cell_type": "code",
   "execution_count": 23,
   "metadata": {},
   "outputs": [
    {
     "data": {
      "image/png": "[encoded data removed]",
      "text/plain": [
       "<Figure size 720x360 with 1 Axes>"
      ]
     },
     "metadata": {
      "needs_background": "light"
     },
     "output_type": "display_data"
    }
   ],
   "source": [
    "(\n",
    "df.pivot_table(index='platform', values='total_sales', aggfunc='sum').sort_values(by='total_sales', ascending=False)\n",
    "    .plot(kind='bar' , grid=True, figsize=(10, 5))\n",
    ")\n",
    "plt.title('Суммарных продажи в зависимости от платформы')\n",
    "plt.xlabel('Платформа')\n",
    "plt.ylabel('Суммарные продажи')\n",
    "plt.show()"
   ]
  },
  {
   "cell_type": "markdown",
   "metadata": {},
   "source": [
    "По данному результату замечаем максимальные суммарные продажи PS2, X360, PS3, Wii, DS, PS."
   ]
  },
  {
   "cell_type": "code",
   "execution_count": 24,
   "metadata": {},
   "outputs": [
    {
     "data": {
      "text/plain": [
       "['PS2', 'X360', 'PS3', 'Wii', 'DS', 'PS']"
      ]
     },
     "execution_count": 24,
     "metadata": {},
     "output_type": "execute_result"
    }
   ],
   "source": [
    "max_sale = df.pivot_table(index='platform', values='total_sales', aggfunc='sum').sort_values(by='total_sales', ascending=False).reset_index().head(6)['platform'].tolist()\n",
    "max_sale"
   ]
  },
  {
   "cell_type": "code",
   "execution_count": 25,
   "metadata": {},
   "outputs": [
    {
     "data": {
      "image/png": "[encoded data removed]",
      "text/plain": [
       "<Figure size 720x360 with 1 Axes>"
      ]
     },
     "metadata": {
      "needs_background": "light"
     },
     "output_type": "display_data"
    }
   ],
   "source": [
    "for b in max_sale:\n",
    "    (\n",
    "    df.query('platform == @b')\n",
    "    .pivot_table(index = 'year_of_release', values = 'total_sales', aggfunc = 'sum')\n",
    "    .sort_values('year_of_release', ascending = False)['total_sales']\n",
    "    .plot(figsize = (10, 5), label=b)\n",
    "    )\n",
    "    plt.title('Существование платформ с максимальными продажами')\n",
    "    plt.xlabel('Год')\n",
    "    plt.ylabel('Суммарные продажи')\n",
    "    plt.legend()"
   ]
  },
  {
   "cell_type": "markdown",
   "metadata": {},
   "source": [
    "По данному графику, можно сделать выводы, что каждая платформе в среднем живёт 10 лет, но успех имеют в течении 5 лет, точней пикового значения достигают спустя 5 лет, после происходит спад.\n",
    "\n",
    "На данный вопрос: За какой характерный срок появляются новые и исчезают старые платформы?\n",
    "\n",
    "Ответом будет: 10 лет, связанное с прогрессирующем временем.\n",
    "\n",
    "Для дальнейшей работы по прогнозированию выберу 2011 год, не брав в учёт года ранее."
   ]
  },
  {
   "cell_type": "markdown",
   "metadata": {},
   "source": [
    "### Какие платформы лидируют по продажам, растут или падают? Выберите несколько потенциально прибыльных платформ."
   ]
  },
  {
   "cell_type": "code",
   "execution_count": 27,
   "metadata": {},
   "outputs": [
    {
     "data": {
      "text/html": [
       "<div>\n",
       "<style scoped>\n",
       "    .dataframe tbody tr th:only-of-type {\n",
       "        vertical-align: middle;\n",
       "    }\n",
       "\n",
       "    .dataframe tbody tr th {\n",
       "        vertical-align: top;\n",
       "    }\n",
       "\n",
       "    .dataframe thead th {\n",
       "        text-align: right;\n",
       "    }\n",
       "</style>\n",
       "<table border=\"1\" class=\"dataframe\">\n",
       "  <thead>\n",
       "    <tr style=\"text-align: right;\">\n",
       "      <th></th>\n",
       "      <th>name</th>\n",
       "      <th>platform</th>\n",
       "      <th>year_of_release</th>\n",
       "      <th>genre</th>\n",
       "      <th>na_sales</th>\n",
       "      <th>eu_sales</th>\n",
       "      <th>jp_sales</th>\n",
       "      <th>other_sales</th>\n",
       "      <th>critic_score</th>\n",
       "      <th>user_score</th>\n",
       "      <th>rating</th>\n",
       "      <th>total_sales</th>\n",
       "    </tr>\n",
       "  </thead>\n",
       "  <tbody>\n",
       "    <tr>\n",
       "      <th>16</th>\n",
       "      <td>Grand Theft Auto V</td>\n",
       "      <td>PS3</td>\n",
       "      <td>2013</td>\n",
       "      <td>Action</td>\n",
       "      <td>7.02</td>\n",
       "      <td>9.09</td>\n",
       "      <td>0.98</td>\n",
       "      <td>3.96</td>\n",
       "      <td>97</td>\n",
       "      <td>8.2</td>\n",
       "      <td>M</td>\n",
       "      <td>21.05</td>\n",
       "    </tr>\n",
       "    <tr>\n",
       "      <th>23</th>\n",
       "      <td>Grand Theft Auto V</td>\n",
       "      <td>X360</td>\n",
       "      <td>2013</td>\n",
       "      <td>Action</td>\n",
       "      <td>9.66</td>\n",
       "      <td>5.14</td>\n",
       "      <td>0.06</td>\n",
       "      <td>1.41</td>\n",
       "      <td>97</td>\n",
       "      <td>8.1</td>\n",
       "      <td>M</td>\n",
       "      <td>16.27</td>\n",
       "    </tr>\n",
       "    <tr>\n",
       "      <th>31</th>\n",
       "      <td>Call of Duty: Black Ops 3</td>\n",
       "      <td>PS4</td>\n",
       "      <td>2015</td>\n",
       "      <td>Shooter</td>\n",
       "      <td>6.03</td>\n",
       "      <td>5.86</td>\n",
       "      <td>0.36</td>\n",
       "      <td>2.38</td>\n",
       "      <td>-1</td>\n",
       "      <td>-1.0</td>\n",
       "      <td>unknown</td>\n",
       "      <td>14.63</td>\n",
       "    </tr>\n",
       "    <tr>\n",
       "      <th>33</th>\n",
       "      <td>Pokemon X/Pokemon Y</td>\n",
       "      <td>3DS</td>\n",
       "      <td>2013</td>\n",
       "      <td>Role-Playing</td>\n",
       "      <td>5.28</td>\n",
       "      <td>4.19</td>\n",
       "      <td>4.35</td>\n",
       "      <td>0.78</td>\n",
       "      <td>-1</td>\n",
       "      <td>-1.0</td>\n",
       "      <td>unknown</td>\n",
       "      <td>14.60</td>\n",
       "    </tr>\n",
       "    <tr>\n",
       "      <th>42</th>\n",
       "      <td>Grand Theft Auto V</td>\n",
       "      <td>PS4</td>\n",
       "      <td>2014</td>\n",
       "      <td>Action</td>\n",
       "      <td>3.96</td>\n",
       "      <td>6.31</td>\n",
       "      <td>0.38</td>\n",
       "      <td>1.97</td>\n",
       "      <td>97</td>\n",
       "      <td>8.3</td>\n",
       "      <td>M</td>\n",
       "      <td>12.62</td>\n",
       "    </tr>\n",
       "    <tr>\n",
       "      <th>...</th>\n",
       "      <td>...</td>\n",
       "      <td>...</td>\n",
       "      <td>...</td>\n",
       "      <td>...</td>\n",
       "      <td>...</td>\n",
       "      <td>...</td>\n",
       "      <td>...</td>\n",
       "      <td>...</td>\n",
       "      <td>...</td>\n",
       "      <td>...</td>\n",
       "      <td>...</td>\n",
       "      <td>...</td>\n",
       "    </tr>\n",
       "    <tr>\n",
       "      <th>16703</th>\n",
       "      <td>Strawberry Nauts</td>\n",
       "      <td>PSV</td>\n",
       "      <td>2016</td>\n",
       "      <td>Adventure</td>\n",
       "      <td>0.00</td>\n",
       "      <td>0.00</td>\n",
       "      <td>0.01</td>\n",
       "      <td>0.00</td>\n",
       "      <td>-1</td>\n",
       "      <td>-1.0</td>\n",
       "      <td>unknown</td>\n",
       "      <td>0.01</td>\n",
       "    </tr>\n",
       "    <tr>\n",
       "      <th>16707</th>\n",
       "      <td>Aiyoku no Eustia</td>\n",
       "      <td>PSV</td>\n",
       "      <td>2014</td>\n",
       "      <td>Misc</td>\n",
       "      <td>0.00</td>\n",
       "      <td>0.00</td>\n",
       "      <td>0.01</td>\n",
       "      <td>0.00</td>\n",
       "      <td>-1</td>\n",
       "      <td>-1.0</td>\n",
       "      <td>unknown</td>\n",
       "      <td>0.01</td>\n",
       "    </tr>\n",
       "    <tr>\n",
       "      <th>16710</th>\n",
       "      <td>Samurai Warriors: Sanada Maru</td>\n",
       "      <td>PS3</td>\n",
       "      <td>2016</td>\n",
       "      <td>Action</td>\n",
       "      <td>0.00</td>\n",
       "      <td>0.00</td>\n",
       "      <td>0.01</td>\n",
       "      <td>0.00</td>\n",
       "      <td>-1</td>\n",
       "      <td>-1.0</td>\n",
       "      <td>unknown</td>\n",
       "      <td>0.01</td>\n",
       "    </tr>\n",
       "    <tr>\n",
       "      <th>16712</th>\n",
       "      <td>Haitaka no Psychedelica</td>\n",
       "      <td>PSV</td>\n",
       "      <td>2016</td>\n",
       "      <td>Adventure</td>\n",
       "      <td>0.00</td>\n",
       "      <td>0.00</td>\n",
       "      <td>0.01</td>\n",
       "      <td>0.00</td>\n",
       "      <td>-1</td>\n",
       "      <td>-1.0</td>\n",
       "      <td>unknown</td>\n",
       "      <td>0.01</td>\n",
       "    </tr>\n",
       "    <tr>\n",
       "      <th>16714</th>\n",
       "      <td>Winning Post 8 2016</td>\n",
       "      <td>PSV</td>\n",
       "      <td>2016</td>\n",
       "      <td>Simulation</td>\n",
       "      <td>0.00</td>\n",
       "      <td>0.00</td>\n",
       "      <td>0.01</td>\n",
       "      <td>0.00</td>\n",
       "      <td>-1</td>\n",
       "      <td>-1.0</td>\n",
       "      <td>unknown</td>\n",
       "      <td>0.01</td>\n",
       "    </tr>\n",
       "  </tbody>\n",
       "</table>\n",
       "<p>2233 rows × 12 columns</p>\n",
       "</div>"
      ],
      "text/plain": [
       "                                name platform  year_of_release         genre  \\\n",
       "16                Grand Theft Auto V      PS3             2013        Action   \n",
       "23                Grand Theft Auto V     X360             2013        Action   \n",
       "31         Call of Duty: Black Ops 3      PS4             2015       Shooter   \n",
       "33               Pokemon X/Pokemon Y      3DS             2013  Role-Playing   \n",
       "42                Grand Theft Auto V      PS4             2014        Action   \n",
       "...                              ...      ...              ...           ...   \n",
       "16703               Strawberry Nauts      PSV             2016     Adventure   \n",
       "16707               Aiyoku no Eustia      PSV             2014          Misc   \n",
       "16710  Samurai Warriors: Sanada Maru      PS3             2016        Action   \n",
       "16712        Haitaka no Psychedelica      PSV             2016     Adventure   \n",
       "16714            Winning Post 8 2016      PSV             2016    Simulation   \n",
       "\n",
       "       na_sales  eu_sales  jp_sales  other_sales  critic_score  user_score  \\\n",
       "16         7.02      9.09      0.98         3.96            97         8.2   \n",
       "23         9.66      5.14      0.06         1.41            97         8.1   \n",
       "31         6.03      5.86      0.36         2.38            -1        -1.0   \n",
       "33         5.28      4.19      4.35         0.78            -1        -1.0   \n",
       "42         3.96      6.31      0.38         1.97            97         8.3   \n",
       "...         ...       ...       ...          ...           ...         ...   \n",
       "16703      0.00      0.00      0.01         0.00            -1        -1.0   \n",
       "16707      0.00      0.00      0.01         0.00            -1        -1.0   \n",
       "16710      0.00      0.00      0.01         0.00            -1        -1.0   \n",
       "16712      0.00      0.00      0.01         0.00            -1        -1.0   \n",
       "16714      0.00      0.00      0.01         0.00            -1        -1.0   \n",
       "\n",
       "        rating  total_sales  \n",
       "16           M        21.05  \n",
       "23           M        16.27  \n",
       "31     unknown        14.63  \n",
       "33     unknown        14.60  \n",
       "42           M        12.62  \n",
       "...        ...          ...  \n",
       "16703  unknown         0.01  \n",
       "16707  unknown         0.01  \n",
       "16710  unknown         0.01  \n",
       "16712  unknown         0.01  \n",
       "16714  unknown         0.01  \n",
       "\n",
       "[2233 rows x 12 columns]"
      ]
     },
     "execution_count": 27,
     "metadata": {},
     "output_type": "execute_result"
    }
   ],
   "source": [
    "one_year = df[df['year_of_release'] >= 2013]\n",
    "one_year"
   ]
  },
  {
   "cell_type": "code",
   "execution_count": 28,
   "metadata": {},
   "outputs": [
    {
     "data": {
      "image/png": "[encoded data removed]",
      "text/plain": [
       "<Figure size 720x360 with 1 Axes>"
      ]
     },
     "metadata": {
      "needs_background": "light"
     },
     "output_type": "display_data"
    }
   ],
   "source": [
    "for b in one_year['platform'].unique():\n",
    "    (\n",
    "    one_year.query('platform == @b')\n",
    "    .pivot_table(index = 'year_of_release', values = 'total_sales', aggfunc = 'sum')\n",
    "    .sort_values('year_of_release', ascending = False)['total_sales']\n",
    "    .plot(kind='line', figsize = (10, 5), label=b)\n",
    "    )\n",
    "    plt.title('Жизненный цикл платформ за период прогнозирования')\n",
    "    plt.xticks(np.arange(2013, 2018, step=1))\n",
    "    plt.xlabel('Год')\n",
    "    plt.ylabel('Суммарные продажи')\n",
    "    plt.legend()"
   ]
  },
  {
   "cell_type": "markdown",
   "metadata": {},
   "source": [
    "По данному графику следует, что общая тенденция консолей имеет отрицательный характер, но свежие консоли такие, как PS4 и XOne имели успел не так давно, к сегодня пришли к негативной тендеции. Только эти две платформы имеют шансы на перемены в ближайшие года, ведь фокус идёт именно на них."
   ]
  },
  {
   "cell_type": "markdown",
   "metadata": {},
   "source": [
    "### Постройте график «ящик с усами» по глобальным продажам игр в разбивке по платформам. Опишите результат."
   ]
  },
  {
   "cell_type": "code",
   "execution_count": 29,
   "metadata": {},
   "outputs": [
    {
     "data": {
      "text/html": [
       "<div>\n",
       "<style scoped>\n",
       "    .dataframe tbody tr th:only-of-type {\n",
       "        vertical-align: middle;\n",
       "    }\n",
       "\n",
       "    .dataframe tbody tr th {\n",
       "        vertical-align: top;\n",
       "    }\n",
       "\n",
       "    .dataframe thead th {\n",
       "        text-align: right;\n",
       "    }\n",
       "</style>\n",
       "<table border=\"1\" class=\"dataframe\">\n",
       "  <thead>\n",
       "    <tr style=\"text-align: right;\">\n",
       "      <th></th>\n",
       "      <th>year_of_release</th>\n",
       "      <th>na_sales</th>\n",
       "      <th>eu_sales</th>\n",
       "      <th>jp_sales</th>\n",
       "      <th>other_sales</th>\n",
       "      <th>critic_score</th>\n",
       "      <th>user_score</th>\n",
       "      <th>total_sales</th>\n",
       "    </tr>\n",
       "  </thead>\n",
       "  <tbody>\n",
       "    <tr>\n",
       "      <th>count</th>\n",
       "      <td>2233.000000</td>\n",
       "      <td>2233.000000</td>\n",
       "      <td>2233.000000</td>\n",
       "      <td>2233.000000</td>\n",
       "      <td>2233.000000</td>\n",
       "      <td>2233.000000</td>\n",
       "      <td>2233.000000</td>\n",
       "      <td>2233.000000</td>\n",
       "    </tr>\n",
       "    <tr>\n",
       "      <th>mean</th>\n",
       "      <td>2014.477385</td>\n",
       "      <td>0.196019</td>\n",
       "      <td>0.175652</td>\n",
       "      <td>0.063045</td>\n",
       "      <td>0.053726</td>\n",
       "      <td>31.407524</td>\n",
       "      <td>3.048724</td>\n",
       "      <td>0.488442</td>\n",
       "    </tr>\n",
       "    <tr>\n",
       "      <th>std</th>\n",
       "      <td>1.089439</td>\n",
       "      <td>0.547730</td>\n",
       "      <td>0.512451</td>\n",
       "      <td>0.233997</td>\n",
       "      <td>0.165693</td>\n",
       "      <td>37.282494</td>\n",
       "      <td>3.963069</td>\n",
       "      <td>1.235226</td>\n",
       "    </tr>\n",
       "    <tr>\n",
       "      <th>min</th>\n",
       "      <td>2013.000000</td>\n",
       "      <td>0.000000</td>\n",
       "      <td>0.000000</td>\n",
       "      <td>0.000000</td>\n",
       "      <td>0.000000</td>\n",
       "      <td>-1.000000</td>\n",
       "      <td>-1.000000</td>\n",
       "      <td>0.010000</td>\n",
       "    </tr>\n",
       "    <tr>\n",
       "      <th>25%</th>\n",
       "      <td>2014.000000</td>\n",
       "      <td>0.000000</td>\n",
       "      <td>0.000000</td>\n",
       "      <td>0.000000</td>\n",
       "      <td>0.000000</td>\n",
       "      <td>-1.000000</td>\n",
       "      <td>-1.000000</td>\n",
       "      <td>0.030000</td>\n",
       "    </tr>\n",
       "    <tr>\n",
       "      <th>50%</th>\n",
       "      <td>2014.000000</td>\n",
       "      <td>0.020000</td>\n",
       "      <td>0.030000</td>\n",
       "      <td>0.010000</td>\n",
       "      <td>0.010000</td>\n",
       "      <td>-1.000000</td>\n",
       "      <td>3.500000</td>\n",
       "      <td>0.110000</td>\n",
       "    </tr>\n",
       "    <tr>\n",
       "      <th>75%</th>\n",
       "      <td>2015.000000</td>\n",
       "      <td>0.150000</td>\n",
       "      <td>0.130000</td>\n",
       "      <td>0.050000</td>\n",
       "      <td>0.040000</td>\n",
       "      <td>72.000000</td>\n",
       "      <td>7.100000</td>\n",
       "      <td>0.400000</td>\n",
       "    </tr>\n",
       "    <tr>\n",
       "      <th>max</th>\n",
       "      <td>2016.000000</td>\n",
       "      <td>9.660000</td>\n",
       "      <td>9.090000</td>\n",
       "      <td>4.350000</td>\n",
       "      <td>3.960000</td>\n",
       "      <td>97.000000</td>\n",
       "      <td>9.300000</td>\n",
       "      <td>21.050000</td>\n",
       "    </tr>\n",
       "  </tbody>\n",
       "</table>\n",
       "</div>"
      ],
      "text/plain": [
       "       year_of_release     na_sales     eu_sales     jp_sales  other_sales  \\\n",
       "count      2233.000000  2233.000000  2233.000000  2233.000000  2233.000000   \n",
       "mean       2014.477385     0.196019     0.175652     0.063045     0.053726   \n",
       "std           1.089439     0.547730     0.512451     0.233997     0.165693   \n",
       "min        2013.000000     0.000000     0.000000     0.000000     0.000000   \n",
       "25%        2014.000000     0.000000     0.000000     0.000000     0.000000   \n",
       "50%        2014.000000     0.020000     0.030000     0.010000     0.010000   \n",
       "75%        2015.000000     0.150000     0.130000     0.050000     0.040000   \n",
       "max        2016.000000     9.660000     9.090000     4.350000     3.960000   \n",
       "\n",
       "       critic_score   user_score  total_sales  \n",
       "count   2233.000000  2233.000000  2233.000000  \n",
       "mean      31.407524     3.048724     0.488442  \n",
       "std       37.282494     3.963069     1.235226  \n",
       "min       -1.000000    -1.000000     0.010000  \n",
       "25%       -1.000000    -1.000000     0.030000  \n",
       "50%       -1.000000     3.500000     0.110000  \n",
       "75%       72.000000     7.100000     0.400000  \n",
       "max       97.000000     9.300000    21.050000  "
      ]
     },
     "execution_count": 29,
     "metadata": {},
     "output_type": "execute_result"
    }
   ],
   "source": [
    "one_year.describe()"
   ]
  },
  {
   "cell_type": "code",
   "execution_count": 30,
   "metadata": {},
   "outputs": [
    {
     "data": {
      "image/png": "[encoded data removed]",
      "text/plain": [
       "<Figure size 720x720 with 1 Axes>"
      ]
     },
     "metadata": {
      "needs_background": "light"
     },
     "output_type": "display_data"
    }
   ],
   "source": [
    "one_year.boxplot(by='platform', column=['total_sales'], figsize=(10,10))\n",
    "plt.ylim(0,2)\n",
    "plt.title('Продажи игр по платформам')\n",
    "plt.xlabel('Платформа')\n",
    "plt.ylabel('Продажи')\n",
    "plt.show()"
   ]
  },
  {
   "cell_type": "markdown",
   "metadata": {},
   "source": [
    "Все платформы имеют выбросы, платформа X360 имеет максимальное значение 3-его квартиля и медианный показатель. Платформы PS4 и XOne имеют близкие значение."
   ]
  },
  {
   "cell_type": "markdown",
   "metadata": {},
   "source": [
    "### Посмотрите, как влияют на продажи внутри одной популярной платформы отзывы пользователей и критиков. Постройте диаграмму рассеяния и посчитайте корреляцию между отзывами и продажами. Сформулируйте выводы."
   ]
  },
  {
   "cell_type": "markdown",
   "metadata": {},
   "source": [
    "Оценки пользователей и продажи по 5-ти топовым платформам."
   ]
  },
  {
   "cell_type": "code",
   "execution_count": 31,
   "metadata": {},
   "outputs": [
    {
     "data": {
      "text/plain": [
       "['PS4', 'PS3', 'XOne', '3DS', 'X360']"
      ]
     },
     "execution_count": 31,
     "metadata": {},
     "output_type": "execute_result"
    }
   ],
   "source": [
    "one_year_5 = (one_year.pivot_table(index='platform', values='total_sales', aggfunc='sum')\n",
    "    .sort_values(by='total_sales', ascending=False)\n",
    "    .reset_index().head(5)['platform'].tolist()\n",
    "    )                         \n",
    "one_year_5"
   ]
  },
  {
   "cell_type": "code",
   "execution_count": 32,
   "metadata": {
    "scrolled": false
   },
   "outputs": [
    {
     "name": "stdout",
     "output_type": "stream",
     "text": [
      "Корреляция между оценками пользователей и продажами по платформе PS4  = -0.031957110204556376\n"
     ]
    },
    {
     "data": {
      "image/png": "[encoded data removed]",
      "text/plain": [
       "<Figure size 720x360 with 1 Axes>"
      ]
     },
     "metadata": {
      "needs_background": "light"
     },
     "output_type": "display_data"
    },
    {
     "name": "stdout",
     "output_type": "stream",
     "text": [
      "Корреляция между оценками пользователей и продажами по платформе PS3  = 0.0023944027357566925\n"
     ]
    },
    {
     "data": {
      "image/png": "[encoded data removed]",
      "text/plain": [
       "<Figure size 720x360 with 1 Axes>"
      ]
     },
     "metadata": {
      "needs_background": "light"
     },
     "output_type": "display_data"
    },
    {
     "name": "stdout",
     "output_type": "stream",
     "text": [
      "Корреляция между оценками пользователей и продажами по платформе XOne  = -0.06892505328279414\n"
     ]
    },
    {
     "data": {
      "image/png": "[encoded data removed]",
      "text/plain": [
       "<Figure size 720x360 with 1 Axes>"
      ]
     },
     "metadata": {
      "needs_background": "light"
     },
     "output_type": "display_data"
    },
    {
     "name": "stdout",
     "output_type": "stream",
     "text": [
      "Корреляция между оценками пользователей и продажами по платформе 3DS  = 0.24150411773563016\n"
     ]
    },
    {
     "data": {
      "image/png": "[encoded data removed]",
      "text/plain": [
       "<Figure size 720x360 with 1 Axes>"
      ]
     },
     "metadata": {
      "needs_background": "light"
     },
     "output_type": "display_data"
    },
    {
     "name": "stdout",
     "output_type": "stream",
     "text": [
      "Корреляция между оценками пользователей и продажами по платформе X360  = -0.011742185147181342\n"
     ]
    },
    {
     "data": {
      "image/png": "[encoded data removed]",
      "text/plain": [
       "<Figure size 720x360 with 1 Axes>"
      ]
     },
     "metadata": {
      "needs_background": "light"
     },
     "output_type": "display_data"
    }
   ],
   "source": [
    "for b in one_year_5:\n",
    "    (\n",
    "    one_year.query('platform == @b and user_score > -1')\n",
    "        .plot(x='user_score', \n",
    "          y='total_sales', \n",
    "          kind='scatter', \n",
    "          figsize=(10, 5))\n",
    "    )\n",
    "    plt.title(f'Диаграмма рассеяния между оценками пользователей и продажами по платформе {b}')\n",
    "    plt.xlabel('Оценка пользователей')\n",
    "    plt.ylabel('Продажи')\n",
    "    plt.legend([b])\n",
    "    print(f'Корреляция между оценками пользователей и продажами по платформе {b}  =', one_year.query('platform == @b and user_score > -1')['user_score'].corr(one_year.query('platform == @b and user_score > -1')['total_sales']))\n",
    "    plt.show()"
   ]
  },
  {
   "cell_type": "markdown",
   "metadata": {},
   "source": [
    "По полученным данным, сильная зависимость не прослеживается между оценками пользователей и продажами."
   ]
  },
  {
   "cell_type": "markdown",
   "metadata": {},
   "source": [
    "Оценки критиков и продажи по 5-ти топовым платформам."
   ]
  },
  {
   "cell_type": "code",
   "execution_count": 33,
   "metadata": {
    "scrolled": false
   },
   "outputs": [
    {
     "name": "stdout",
     "output_type": "stream",
     "text": [
      "Корреляция между оценками критиков и продажами по платформе PS4  = 0.40656790206178095\n"
     ]
    },
    {
     "data": {
      "image/png": "[encoded data removed]",
      "text/plain": [
       "<Figure size 720x360 with 1 Axes>"
      ]
     },
     "metadata": {
      "needs_background": "light"
     },
     "output_type": "display_data"
    },
    {
     "name": "stdout",
     "output_type": "stream",
     "text": [
      "Корреляция между оценками критиков и продажами по платформе PS3  = 0.3342853393371919\n"
     ]
    },
    {
     "data": {
      "image/png": "[encoded data removed]",
      "text/plain": [
       "<Figure size 720x360 with 1 Axes>"
      ]
     },
     "metadata": {
      "needs_background": "light"
     },
     "output_type": "display_data"
    },
    {
     "name": "stdout",
     "output_type": "stream",
     "text": [
      "Корреляция между оценками критиков и продажами по платформе XOne  = 0.4169983280084017\n"
     ]
    },
    {
     "data": {
      "image/png": "[encoded data removed]",
      "text/plain": [
       "<Figure size 720x360 with 1 Axes>"
      ]
     },
     "metadata": {
      "needs_background": "light"
     },
     "output_type": "display_data"
    },
    {
     "name": "stdout",
     "output_type": "stream",
     "text": [
      "Корреляция между оценками критиков и продажами по платформе 3DS  = 0.3570566142288103\n"
     ]
    },
    {
     "data": {
      "image/png": "[encoded data removed]",
      "text/plain": [
       "<Figure size 720x360 with 1 Axes>"
      ]
     },
     "metadata": {
      "needs_background": "light"
     },
     "output_type": "display_data"
    },
    {
     "name": "stdout",
     "output_type": "stream",
     "text": [
      "Корреляция между оценками критиков и продажами по платформе X360  = 0.3503445460228664\n"
     ]
    },
    {
     "data": {
      "image/png": "[encoded data removed]",
      "text/plain": [
       "<Figure size 720x360 with 1 Axes>"
      ]
     },
     "metadata": {
      "needs_background": "light"
     },
     "output_type": "display_data"
    }
   ],
   "source": [
    "for b in one_year_5:\n",
    "    (\n",
    "    one_year.query('platform == @b and critic_score > -1')\n",
    "        .plot(x='critic_score', \n",
    "          y='total_sales', \n",
    "          kind='scatter', \n",
    "          figsize=(10, 5))\n",
    "    )\n",
    "    plt.title(f'Диаграмма рассеяния между оценками критиков и продажами по платформе {b}')\n",
    "    plt.xlabel('Оценка критиков')\n",
    "    plt.ylabel('Продажи')\n",
    "    plt.legend([b])\n",
    "    print(f'Корреляция между оценками критиков и продажами по платформе {b}  =', one_year.query('platform == @b and critic_score > -1')['critic_score'].corr(one_year.query('platform == @b and critic_score > -1')['total_sales']))\n",
    "    plt.show()"
   ]
  },
  {
   "cell_type": "markdown",
   "metadata": {},
   "source": [
    "По полученным данным, делаем выводы, что сильной зависимости нет, но оценки критиков учитывают в большей степени, чем оценки пользователей."
   ]
  },
  {
   "cell_type": "markdown",
   "metadata": {},
   "source": [
    "Общее сравнение оценок пользователей с продажами."
   ]
  },
  {
   "cell_type": "code",
   "execution_count": 34,
   "metadata": {},
   "outputs": [
    {
     "data": {
      "text/plain": [
       "-0.0026078133545982744"
      ]
     },
     "execution_count": 34,
     "metadata": {},
     "output_type": "execute_result"
    }
   ],
   "source": [
    "one_year.query('user_score > -1')['user_score'].corr(one_year['total_sales'])"
   ]
  },
  {
   "cell_type": "code",
   "execution_count": 35,
   "metadata": {},
   "outputs": [
    {
     "data": {
      "image/png": "[encoded data removed]",
      "text/plain": [
       "<Figure size 720x360 with 1 Axes>"
      ]
     },
     "metadata": {
      "needs_background": "light"
     },
     "output_type": "display_data"
    }
   ],
   "source": [
    "one_year.query('user_score > -1').plot(x='user_score', y='total_sales', kind='scatter', figsize=(10, 5))\n",
    "plt.title('Диаграмма рассеяния между оценками пользователей и продажами')\n",
    "plt.xlabel('Оценка пользователей')\n",
    "plt.ylabel('Продажи')\n",
    "plt.show()"
   ]
  },
  {
   "cell_type": "markdown",
   "metadata": {},
   "source": [
    "Общее сравнение оценок критиков с продажами."
   ]
  },
  {
   "cell_type": "code",
   "execution_count": 36,
   "metadata": {},
   "outputs": [
    {
     "data": {
      "text/plain": [
       "0.3136995151027371"
      ]
     },
     "execution_count": 36,
     "metadata": {},
     "output_type": "execute_result"
    }
   ],
   "source": [
    "one_year.query('critic_score > -1')['critic_score'].corr(one_year['total_sales'])"
   ]
  },
  {
   "cell_type": "code",
   "execution_count": 37,
   "metadata": {},
   "outputs": [
    {
     "data": {
      "image/png": "[encoded data removed]",
      "text/plain": [
       "<Figure size 720x360 with 1 Axes>"
      ]
     },
     "metadata": {
      "needs_background": "light"
     },
     "output_type": "display_data"
    }
   ],
   "source": [
    "one_year.query('critic_score > -1').plot(x='critic_score', y='total_sales', kind='scatter', figsize=(10, 5))\n",
    "plt.title('Диаграмма рассеяния между оценками критиков и продажами')\n",
    "plt.xlabel('Оценка критиков')\n",
    "plt.ylabel('Продажи')\n",
    "plt.show()"
   ]
  },
  {
   "cell_type": "markdown",
   "metadata": {},
   "source": [
    "В общих показателях делаем вывод, что к мнению критиков прислушиваются больше."
   ]
  },
  {
   "cell_type": "markdown",
   "metadata": {},
   "source": [
    "### Соотнесите выводы с продажами игр на других платформах.\n",
    "\n",
    "<font color='Blue'><b>Выполнил в предыдущем этапе</b></font><br>"
   ]
  },
  {
   "cell_type": "markdown",
   "metadata": {},
   "source": [
    "У выбранных 5-ти платформ прослеживается слабая зависимость оценок и продажами, но в случае с PS3 и X360, показатель близок к корреляции между оценки критиков и продаж, а PS4 и XOne противоположная картина. \n",
    "\n",
    "В общих показателях делаем вывод, что к мнению критиков прислушиваются больше."
   ]
  },
  {
   "cell_type": "markdown",
   "metadata": {},
   "source": [
    "### Посмотрите на общее распределение игр по жанрам. Что можно сказать о самых прибыльных жанрах? Выделяются ли жанры с высокими и низкими продажами?"
   ]
  },
  {
   "cell_type": "code",
   "execution_count": 38,
   "metadata": {},
   "outputs": [
    {
     "data": {
      "image/png": "[encoded data removed]",
      "text/plain": [
       "<Figure size 720x360 with 1 Axes>"
      ]
     },
     "metadata": {
      "needs_background": "light"
     },
     "output_type": "display_data"
    }
   ],
   "source": [
    "(one_year\n",
    " .pivot_table(index='genre', values='total_sales', aggfunc='sum')\n",
    " .sort_values('total_sales', ascending=False)\n",
    " .plot(kind='bar', y='total_sales', figsize=(10, 5), legend=False)\n",
    ")\n",
    "plt.title('Прибыльность жанров')\n",
    "plt.xlabel('Жанр')\n",
    "plt.ylabel('Продажи')\n",
    "plt.show()"
   ]
  },
  {
   "cell_type": "code",
   "execution_count": 39,
   "metadata": {},
   "outputs": [
    {
     "data": {
      "image/png": "[encoded data removed]",
      "text/plain": [
       "<Figure size 720x720 with 1 Axes>"
      ]
     },
     "metadata": {
      "needs_background": "light"
     },
     "output_type": "display_data"
    }
   ],
   "source": [
    "one_year.boxplot(by='genre', column=['total_sales'], figsize=(10,10))\n",
    "plt.ylim(0,4)\n",
    "plt.title('Продажи игр в зависимости от жанра')\n",
    "plt.xlabel('Жанр')\n",
    "plt.ylabel('Продажи')\n",
    "plt.show()"
   ]
  },
  {
   "cell_type": "code",
   "execution_count": 40,
   "metadata": {},
   "outputs": [
    {
     "data": {
      "text/html": [
       "<div>\n",
       "<style scoped>\n",
       "    .dataframe tbody tr th:only-of-type {\n",
       "        vertical-align: middle;\n",
       "    }\n",
       "\n",
       "    .dataframe tbody tr th {\n",
       "        vertical-align: top;\n",
       "    }\n",
       "\n",
       "    .dataframe thead th {\n",
       "        text-align: right;\n",
       "    }\n",
       "</style>\n",
       "<table border=\"1\" class=\"dataframe\">\n",
       "  <thead>\n",
       "    <tr style=\"text-align: right;\">\n",
       "      <th></th>\n",
       "      <th>total_sales</th>\n",
       "    </tr>\n",
       "    <tr>\n",
       "      <th>genre</th>\n",
       "      <th></th>\n",
       "    </tr>\n",
       "  </thead>\n",
       "  <tbody>\n",
       "    <tr>\n",
       "      <th>Shooter</th>\n",
       "      <td>0.450</td>\n",
       "    </tr>\n",
       "    <tr>\n",
       "      <th>Sports</th>\n",
       "      <td>0.240</td>\n",
       "    </tr>\n",
       "    <tr>\n",
       "      <th>Platform</th>\n",
       "      <td>0.225</td>\n",
       "    </tr>\n",
       "    <tr>\n",
       "      <th>Role-Playing</th>\n",
       "      <td>0.125</td>\n",
       "    </tr>\n",
       "    <tr>\n",
       "      <th>Fighting</th>\n",
       "      <td>0.125</td>\n",
       "    </tr>\n",
       "    <tr>\n",
       "      <th>Racing</th>\n",
       "      <td>0.120</td>\n",
       "    </tr>\n",
       "    <tr>\n",
       "      <th>Action</th>\n",
       "      <td>0.110</td>\n",
       "    </tr>\n",
       "    <tr>\n",
       "      <th>Simulation</th>\n",
       "      <td>0.100</td>\n",
       "    </tr>\n",
       "    <tr>\n",
       "      <th>Misc</th>\n",
       "      <td>0.100</td>\n",
       "    </tr>\n",
       "    <tr>\n",
       "      <th>Strategy</th>\n",
       "      <td>0.080</td>\n",
       "    </tr>\n",
       "    <tr>\n",
       "      <th>Puzzle</th>\n",
       "      <td>0.060</td>\n",
       "    </tr>\n",
       "    <tr>\n",
       "      <th>Adventure</th>\n",
       "      <td>0.030</td>\n",
       "    </tr>\n",
       "  </tbody>\n",
       "</table>\n",
       "</div>"
      ],
      "text/plain": [
       "              total_sales\n",
       "genre                    \n",
       "Shooter             0.450\n",
       "Sports              0.240\n",
       "Platform            0.225\n",
       "Role-Playing        0.125\n",
       "Fighting            0.125\n",
       "Racing              0.120\n",
       "Action              0.110\n",
       "Simulation          0.100\n",
       "Misc                0.100\n",
       "Strategy            0.080\n",
       "Puzzle              0.060\n",
       "Adventure           0.030"
      ]
     },
     "execution_count": 40,
     "metadata": {},
     "output_type": "execute_result"
    }
   ],
   "source": [
    "one_year.pivot_table(index='genre', values='total_sales', aggfunc='median').sort_values('total_sales', ascending=False)"
   ]
  },
  {
   "cell_type": "markdown",
   "metadata": {},
   "source": [
    "За последние 6 лет, в топ- входит такие жанры, как Action, Schooter, а третье место разделает Role Playing и Sports.\n",
    "\n",
    "Для прогнозирование на ближайшие года следует выделить жанры Shooter и Sports, так как они выглядят более стабильно, чем остальные направления."
   ]
  },
  {
   "cell_type": "markdown",
   "metadata": {},
   "source": [
    "### Вывод: По выполнению исследовательского анализа, делаем выводы, что игровая индустрия прогрессирует в умеренной форме, игры живут в течении 10 лет, но имеют пиковые значение всего 5 лет, за последние года платформа PS4 и XOne имели успех, но так же имеют отрицательную тенденцию, продажи слабо зависят от оценок, но к оценкам критиков прислушиваются, наибольший спросс имеют игры с жанром Action, Schooter, а перспективу имеют игры в жанре Shooter и Sports."
   ]
  },
  {
   "cell_type": "markdown",
   "metadata": {},
   "source": [
    "## Портрет пользователя каждого региона."
   ]
  },
  {
   "cell_type": "markdown",
   "metadata": {},
   "source": [
    "### Определите для пользователя каждого региона (NA, EU, JP). Самые популярные платформы (топ-5). Опишите различия в долях продаж."
   ]
  },
  {
   "cell_type": "code",
   "execution_count": 41,
   "metadata": {},
   "outputs": [],
   "source": [
    "na = one_year[one_year.year_of_release >= 2013].groupby('platform')['na_sales'].agg(na_sales='sum').nlargest(5, 'na_sales').reset_index()\n",
    "eu = one_year[one_year.year_of_release >= 2013].groupby('platform')['eu_sales'].agg(eu_sales='sum').nlargest(5, 'eu_sales').reset_index()\n",
    "jp = one_year[one_year.year_of_release >= 2013].groupby('platform')['jp_sales'].agg(jp_sales='sum').nlargest(5, 'jp_sales').reset_index()"
   ]
  },
  {
   "cell_type": "code",
   "execution_count": 42,
   "metadata": {},
   "outputs": [
    {
     "data": {
      "image/png": "[encoded data removed]",
      "text/plain": [
       "<Figure size 1080x360 with 3 Axes>"
      ]
     },
     "metadata": {
      "needs_background": "light"
     },
     "output_type": "display_data"
    }
   ],
   "source": [
    "fig, ax = plt.subplots(1, 3, figsize=(15, 5))\n",
    "fig.suptitle('Топ-5 платформ по регионам')\n",
    "\n",
    "sns.barplot(y='na_sales', x='platform', data=na, ax=ax[0], palette='pastel')\n",
    "ax[0].set_title('Северная Америка')\n",
    "ax[0].set_ylabel('Продажи')\n",
    "ax[0].set_xlabel('Платформа')\n",
    "\n",
    "sns.barplot(y='eu_sales', x='platform', data=eu, ax=ax[1], palette='pastel')\n",
    "ax[1].set_title('Европа')\n",
    "ax[1].set_ylabel('Продажи')\n",
    "ax[1].set_xlabel('Платформа')\n",
    "\n",
    "sns.barplot(y='jp_sales', x='platform', data=jp, ax=ax[2], palette='pastel')\n",
    "ax[2].set_title('Япония')\n",
    "ax[2].set_ylabel('Продажи')\n",
    "ax[2].set_xlabel('Платформа')\n",
    "plt.show()"
   ]
  },
  {
   "cell_type": "markdown",
   "metadata": {},
   "source": [
    "В Северной Америке топ-1 занимает платформа X360, Европе - PS4, а в Японии 3DS. Если исследование сделать с 2012 года, то уже в Северной Америке будут изменения, платформа Ps4 займёт первое место, как в Европе."
   ]
  },
  {
   "cell_type": "markdown",
   "metadata": {},
   "source": [
    "### Определите для пользователя каждого региона (NA, EU, JP). Самые популярные жанры (топ-5). Поясните разницу."
   ]
  },
  {
   "cell_type": "code",
   "execution_count": 43,
   "metadata": {},
   "outputs": [],
   "source": [
    "na_genre = one_year[one_year.year_of_release >= 2013].groupby('genre')['na_sales'].agg(na_sales='sum').nlargest(5, 'na_sales').reset_index()\n",
    "eu_genre = one_year[one_year.year_of_release >= 2013].groupby('genre')['eu_sales'].agg(eu_sales='sum').nlargest(5, 'eu_sales').reset_index()\n",
    "jp_genre = one_year[one_year.year_of_release >= 2013].groupby('genre')['jp_sales'].agg(jp_sales='sum').nlargest(5, 'jp_sales').reset_index()"
   ]
  },
  {
   "cell_type": "code",
   "execution_count": 44,
   "metadata": {},
   "outputs": [
    {
     "data": {
      "image/png": "[encoded data removed]",
      "text/plain": [
       "<Figure size 1080x360 with 3 Axes>"
      ]
     },
     "metadata": {
      "needs_background": "light"
     },
     "output_type": "display_data"
    }
   ],
   "source": [
    "fig, ax = plt.subplots(1, 3, figsize=(15, 5))\n",
    "fig.suptitle('Топ-5 жанров по регионам')\n",
    "\n",
    "sns.barplot(y='na_sales', x='genre', data=na_genre, ax=ax[0], palette='pastel')\n",
    "ax[0].set_title('Северная Америка')\n",
    "ax[0].set_ylabel('Продажи')\n",
    "ax[0].set_xlabel('Жанр')\n",
    "\n",
    "sns.barplot(y='eu_sales', x='genre', data=eu_genre, ax=ax[1], palette='pastel')\n",
    "ax[1].set_title('Европа')\n",
    "ax[1].set_ylabel('Продажи')\n",
    "ax[1].set_xlabel('Жанр')\n",
    "\n",
    "sns.barplot(y='jp_sales', x='genre', data=jp_genre, ax=ax[2], palette='pastel')\n",
    "ax[2].set_title('Япония')\n",
    "ax[2].set_ylabel('Продажи')\n",
    "ax[2].set_xlabel('Жанр')\n",
    "plt.show()"
   ]
  },
  {
   "cell_type": "markdown",
   "metadata": {},
   "source": [
    "<font color='Blue'><b>Я на данный момент плохо дружу с круговыми диаграммами, но я стараюсь исправляться, смотреть видео, читать, учиться. Так красиво, как у тебя не получается.</b></font><br>"
   ]
  },
  {
   "cell_type": "code",
   "execution_count": 56,
   "metadata": {},
   "outputs": [
    {
     "data": {
      "image/png": "[encoded data removed]",
      "text/plain": [
       "<Figure size 1080x360 with 3 Axes>"
      ]
     },
     "metadata": {},
     "output_type": "display_data"
    },
    {
     "data": {
      "image/png": "[encoded data removed]",
      "text/plain": [
       "<Figure size 1080x360 with 3 Axes>"
      ]
     },
     "metadata": {},
     "output_type": "display_data"
    },
    {
     "data": {
      "image/png": "[encoded data removed]",
      "text/plain": [
       "<Figure size 1080x360 with 3 Axes>"
      ]
     },
     "metadata": {},
     "output_type": "display_data"
    }
   ],
   "source": [
    "tmp = one_year.copy()               # делаем копию текущего датасета, что бы не работать с исходным    \n",
    "parametr = 'platform'                     # задаем имя колонки для построения диаграмм\n",
    "\n",
    "def pie_chart(df, parametr = 'platform'): # в функцию передаем датасет и имя колонки платформ/жанров/рейтинга\n",
    "    region = df.columns[4:7]              # создаем список регионов из названий колонок\n",
    "                                          # начертим круговую диаграмму для каждого региона\n",
    "    fig, axs = plt.subplots(1, 3, figsize=(15, 5))\n",
    "    if parametr == 'platform':            # будем рисовать диаграммы по платформам\n",
    "        fig.suptitle('ТОП-5 платформ в регионах')\n",
    "    elif parametr == 'genre':             # будем рисовать диаграммы по жанрам\n",
    "        fig.suptitle('ТОП-5 жанров в регионах')\n",
    "    elif parametr == 'rating':            # будем рисовать диаграммы по возрастному рейтингу\n",
    "        fig.suptitle('Влияние рейтинга ESRB на продажи в регионах')\n",
    "    for r in range(len(region)):\n",
    "      if parametr != 'rating':            # здесь будет формировать топ-5 и группу \"другие\"\n",
    "                                          # выберем 5 самых продающих платформ/жанров\n",
    "        df_r = (df.groupby(parametr)[region[r]].sum().reset_index().\n",
    "                sort_values(region[r], ascending = False, ignore_index = True)[:5])\n",
    "                                          # занесем все остальные продажи в другие палатформы/жанры\n",
    "        df_r = df_r.append({parametr: 'Other', region[r]: df[region[r]].sum() - df_r[region[r]].sum()}, ignore_index= True)\n",
    "      else:                               # в возрастном рейтинге строим диаграммы по всем значениям\n",
    "        df_r = (df.groupby(parametr)[region[r]].sum().reset_index().\n",
    "                sort_values(region[r], ascending = False, ignore_index = True))\n",
    "        \n",
    "      axs[r].pie(df_r[region[r]], labels = df_r[parametr], autopct='%1.1f%%')\n",
    "                                          # зададим название региона.\n",
    "      axs[r].set_title(df_r.columns[1].split('_')[0].upper())\n",
    "    plt.show()\n",
    "    \n",
    "pie_chart(tmp, parametr)                  # выводим диаграмму\n",
    "pie_chart(tmp, 'genre')\n",
    "pie_chart(tmp, 'rating')"
   ]
  },
  {
   "cell_type": "markdown",
   "metadata": {},
   "source": [
    "В Северной Америке и в Европе популярность имеют игры жанра Action, на втором месте Shooter, на третьем Sports.\n",
    "\n",
    "В Японии иная картина,на первом месте находится - жанр Role-Playing, Action на втором, а жанр Shooter - совсем не присутсвует в топ-5."
   ]
  },
  {
   "cell_type": "markdown",
   "metadata": {},
   "source": [
    "### Определите для пользователя каждого региона (NA, EU, JP). Влияет ли рейтинг ESRB на продажи в отдельном регионе?"
   ]
  },
  {
   "cell_type": "code",
   "execution_count": 45,
   "metadata": {},
   "outputs": [],
   "source": [
    "na_rating = one_year[one_year.year_of_release >= 2013].groupby('rating')['na_sales'].agg(na_sales='sum').nlargest(5, 'na_sales').reset_index()\n",
    "eu_rating = one_year[one_year.year_of_release >= 2013].groupby('rating')['eu_sales'].agg(eu_sales='sum').nlargest(5, 'eu_sales').reset_index()\n",
    "jp_rating = one_year[one_year.year_of_release >= 2013].groupby('rating')['jp_sales'].agg(jp_sales='sum').nlargest(5, 'jp_sales').reset_index()"
   ]
  },
  {
   "cell_type": "code",
   "execution_count": 46,
   "metadata": {},
   "outputs": [
    {
     "data": {
      "image/png": "[encoded data removed]",
      "text/plain": [
       "<Figure size 1080x360 with 3 Axes>"
      ]
     },
     "metadata": {
      "needs_background": "light"
     },
     "output_type": "display_data"
    }
   ],
   "source": [
    "fig, ax = plt.subplots(1, 3, figsize=(15, 5))\n",
    "fig.suptitle('Влияние рейтинга на продажи')\n",
    "\n",
    "sns.barplot(y='na_sales', x='rating', data=na_rating, ax=ax[0], palette='pastel')\n",
    "ax[0].set_title('Северная Америка')\n",
    "ax[0].set_ylabel('Продажи')\n",
    "ax[0].set_xlabel('Рейтинг')\n",
    "\n",
    "sns.barplot(y='eu_sales', x='rating', data=eu_rating, ax=ax[1], palette='pastel')\n",
    "ax[1].set_title('Европа')\n",
    "ax[1].set_ylabel('Продажи')\n",
    "ax[1].set_xlabel('Рейтинг')\n",
    "\n",
    "sns.barplot(y='jp_sales', x='rating', data=jp_rating, ax=ax[2], palette='pastel')\n",
    "ax[2].set_title('Япония')\n",
    "ax[2].set_ylabel('Продажи')\n",
    "ax[2].set_xlabel('Рейтинг')\n",
    "plt.show()"
   ]
  },
  {
   "cell_type": "markdown",
   "metadata": {},
   "source": [
    "Разница влияния рейтинга на продажи прослеживается только между западом и востоком, если в Северной Америке и Европе топ занимает категория М и Е, тогда в Японии Е и Т, в Японии большой показатель неопределенном рейтинге."
   ]
  },
  {
   "cell_type": "markdown",
   "metadata": {},
   "source": [
    "### Вывод: Портрет пользователя Северной Америки и Европы совпадают, выбирают платформы PS3, PS4, X360, жанры Action, Schooter, Sports и в категории М и Е. Но в Японии портрет отличается, пользователи выбирают 3DS, жанр Role-Playing, Action в категории Е и Т, но с  большим колличеством неопределенного рейтингом."
   ]
  },
  {
   "cell_type": "markdown",
   "metadata": {},
   "source": [
    "## Проверьте гипотезы."
   ]
  },
  {
   "cell_type": "markdown",
   "metadata": {},
   "source": [
    " ### Средние пользовательские рейтинги платформ Xbox One и PC одинаковые."
   ]
  },
  {
   "cell_type": "code",
   "execution_count": 47,
   "metadata": {},
   "outputs": [
    {
     "data": {
      "text/plain": [
       "count    182.000000\n",
       "mean       6.521429\n",
       "std        1.380941\n",
       "min        1.600000\n",
       "25%        5.800000\n",
       "50%        6.800000\n",
       "75%        7.500000\n",
       "max        9.200000\n",
       "Name: user_score, dtype: float64"
      ]
     },
     "execution_count": 47,
     "metadata": {},
     "output_type": "execute_result"
    }
   ],
   "source": [
    "xone = one_year.query('platform == \"XOne\" and user_score > -1')\n",
    "xone['user_score'].describe()"
   ]
  },
  {
   "cell_type": "code",
   "execution_count": 48,
   "metadata": {},
   "outputs": [
    {
     "data": {
      "text/plain": [
       "count    155.000000\n",
       "mean       6.269677\n",
       "std        1.742381\n",
       "min        1.400000\n",
       "25%        5.300000\n",
       "50%        6.800000\n",
       "75%        7.600000\n",
       "max        9.300000\n",
       "Name: user_score, dtype: float64"
      ]
     },
     "execution_count": 48,
     "metadata": {},
     "output_type": "execute_result"
    }
   ],
   "source": [
    "pc = one_year.query(\"platform == 'PC' and user_score > -1\")\n",
    "pc['user_score'].describe()"
   ]
  },
  {
   "cell_type": "markdown",
   "metadata": {},
   "source": [
    "Гипотезы\n",
    "\n",
    "Н0: Средние пользовательские рейтинги платформ XOne и PC равны\n",
    "\n",
    "Н1: Средние пользовательские рейтинги платформ XOne и PC не равны"
   ]
  },
  {
   "cell_type": "code",
   "execution_count": 49,
   "metadata": {},
   "outputs": [
    {
     "name": "stdout",
     "output_type": "stream",
     "text": [
      "0.14759594013430463\n",
      "Не получилось отвергнуть нулевую гипотезу\n"
     ]
    }
   ],
   "source": [
    "alpha = 0.05\n",
    "\n",
    "results = st.ttest_ind(xone['user_score'], pc['user_score'],equal_var=False,alternative='two-sided')\n",
    "\n",
    "print(results.pvalue)\n",
    "\n",
    "if results.pvalue < alpha:\n",
    "    print('Отвергаем нулевую гипотезу')\n",
    "else:\n",
    "    print('Не получилось отвергнуть нулевую гипотезу')"
   ]
  },
  {
   "cell_type": "markdown",
   "metadata": {},
   "source": [
    "Нулевая гипотеза не отвергнута, следовательно, можно предположить, что XOne и  PC равны,  при alpha=0.05"
   ]
  },
  {
   "cell_type": "markdown",
   "metadata": {},
   "source": [
    "### Средние пользовательские рейтинги жанров Action и Sports разные."
   ]
  },
  {
   "cell_type": "code",
   "execution_count": 50,
   "metadata": {},
   "outputs": [
    {
     "data": {
      "text/plain": [
       "count    389.000000\n",
       "mean       6.837532\n",
       "std        1.330173\n",
       "min        2.000000\n",
       "25%        6.300000\n",
       "50%        7.100000\n",
       "75%        7.800000\n",
       "max        9.100000\n",
       "Name: user_score, dtype: float64"
      ]
     },
     "execution_count": 50,
     "metadata": {},
     "output_type": "execute_result"
    }
   ],
   "source": [
    "action = one_year.query('genre == \"Action\" and user_score > -1')\n",
    "action['user_score'].describe()"
   ]
  },
  {
   "cell_type": "code",
   "execution_count": 51,
   "metadata": {},
   "outputs": [
    {
     "data": {
      "text/plain": [
       "count    160.000000\n",
       "mean       5.238125\n",
       "std        1.783427\n",
       "min        0.200000\n",
       "25%        4.100000\n",
       "50%        5.500000\n",
       "75%        6.500000\n",
       "max        8.800000\n",
       "Name: user_score, dtype: float64"
      ]
     },
     "execution_count": 51,
     "metadata": {},
     "output_type": "execute_result"
    }
   ],
   "source": [
    "sports = one_year.query(\"genre == 'Sports' and user_score > -1\")\n",
    "sports['user_score'].describe()"
   ]
  },
  {
   "cell_type": "markdown",
   "metadata": {},
   "source": [
    "Гипотезы\n",
    "\n",
    "Заранее перевернём ситуацию, следовательно, если мы отвергнем нулевую гипотезу, Action и Sports не равны\n",
    "\n",
    "Н0: Средние пользовательские рейтинги жанров Action и Sports равны\n",
    "\n",
    "Н1: Средние пользовательские рейтинги жанров Action и Sports не равны"
   ]
  },
  {
   "cell_type": "code",
   "execution_count": 52,
   "metadata": {},
   "outputs": [
    {
     "name": "stdout",
     "output_type": "stream",
     "text": [
      "1.4460039700704315e-20\n",
      "Отвергаем нулевую гипотезу\n"
     ]
    }
   ],
   "source": [
    "alpha = 0.05\n",
    "\n",
    "results = st.ttest_ind(action['user_score'], sports['user_score'],equal_var=False,alternative='two-sided')\n",
    "\n",
    "print(results.pvalue)\n",
    "\n",
    "if results.pvalue < alpha:\n",
    "    print('Отвергаем нулевую гипотезу')\n",
    "else:\n",
    "    print('Не получилось отвергнуть нулевую гипотезу')"
   ]
  },
  {
   "cell_type": "markdown",
   "metadata": {},
   "source": [
    "Нулевая гипотеза отвергнута, следовательно, есть основания предположить, что Action и Sports не равны, при alpha=0.05"
   ]
  },
  {
   "cell_type": "markdown",
   "metadata": {},
   "source": [
    "### Поясните: Как вы сформулировали нулевую и альтернативную гипотезы."
   ]
  },
  {
   "cell_type": "markdown",
   "metadata": {},
   "source": [
    "В первом случае, задание удовлетворяет условия для составления нулевой гипотезы, то есть сравнимаемые величины равны. \n",
    "\n",
    "Альтернативная гипотеза может быть проверена тремя вариантами \"меньше\", \"не равно\", \"больше\" в первом необходимо проверить вопрос про равенство, следовательно проверку надо провести двухстороннюю alternative='two-sided'.\n",
    "\n",
    "Во втором случае, задание не удовлетворяет условия для составления нулевой гипотезы(сравнимаемые параметры равны), то есть сравнимаемые величины не равны. Для решения мы перевернули условия, а именно, если мы отвергнем нулевую гипотезу, значит подтвердим, что рейтинги разные.\n",
    "\n",
    "Альтернативная гипотеза может быть проверена тремя вариантами \"меньше\", \"не равно\", \"больше\" в первом необходимо проверить вопрос про равенство, следовательно проверку надо провести двухстороннюю alternative='two-sided'."
   ]
  },
  {
   "cell_type": "markdown",
   "metadata": {},
   "source": [
    "### Поясните: Какой критерий применили для проверки гипотез и почему."
   ]
  },
  {
   "cell_type": "markdown",
   "metadata": {},
   "source": [
    "Если значений в выборке много больше 30, то распределение Стьюдента настолько близко к нормальному, что можно было бы просто взять нормальное распределение без степеней свободы.\n",
    "\n",
    "Но чтобы не усложнять себе жизнь выбором нужного теста, принято просто каждый раз применять t-тест — ведь он работает для выборки любого размера.\n",
    "\n",
    "Для проверки гипотезы необходимо установить уровень значимости для того или иного сравнения, обычно его выбирают из размерного ряда 1-10 %, в зависимости от изученности и требовательности к данным. Обычно его устанавливают в среднем значении 0,05."
   ]
  },
  {
   "cell_type": "markdown",
   "metadata": {},
   "source": [
    "## Общий вывод:"
   ]
  },
  {
   "cell_type": "markdown",
   "metadata": {},
   "source": [
    "В данной работе было выполнено, для достижения поставленной задачи, 5 шагов:\n",
    "\n",
    "Шаг 1. Открытие файла с данными и изучение общей ифнормации.\n",
    "\n",
    "В данном датафрейме всего 16715 строк, имеются пропуски, дубликаты, нарушение в типизации данных и названия колонок имеют лексическую ошибку.\n",
    "\n",
    "Шаг 2. Предобработка данных.\n",
    "\n",
    "Все замечания в данных были устранены: убедились в отсутствии дубликатов, избавились от пропусков, изменили тип данных, привели названия столбцов к правильному виду и посчитали суммарные продажи во всех регионах. Проведён поиск по пропущенным значениям 'tbd'(оценки для Северной Америки) и пропуску в столбце rating и провели обработку. В исключительных местах пропуски заменили на -1, чтобы не исказить статистику.\n",
    "\n",
    "Шаг 3. Исследовательский анализ данных.\n",
    "\n",
    "По выполнению исследовательского анализа, делаем выводы, что игровая индустрия прогрессирует в умеренной форме, игры живут в течении 7 лет, но имеют пиковые значение всего 5 лет, за последние года платформа PS4 и XOne имели успех, но так же имеют отрицательную тенденцию, продажи слабо зависят от оценок, но к оценкам критиков прислушиваются, наибольший спросс имеют игры с жанром Action, Schooter, а перспективу имеют игры в жанре Shooter и Sports.\n",
    "\n",
    "Шаг 4. Портрет пользователя каждого региона.\n",
    "\n",
    "Портрет пользователя Северной Америки и Европы совпадают, выбирают платформы PS3, PS4, X360, жанры Action, Schooter, Sports и в категории М и Е. Но в Японии портрет отличается, пользователи выбирают 3DS, жанр Role-Playing, Action в категории Е и Т, но с большим количеством неопределенного рейтинга.\n",
    "\n",
    "Шаг 5. Проверьте гипотезы\n",
    "\n",
    "Нулевая гипотеза не отвергнута, следовательно, XOne и PC равны.\n",
    "Нулевая гипотеза отвергнута, следовательно, Action и Sports не равны.\n",
    "\n",
    "Потенциально популярный продукт и рекламные кампании должны быть направлены на платформы PS3, PS4, XOne. Игры жанра Action, Schooter, Sports для запада. Игры жанра Role-Playing, Action для востока. В категории М, Е, Т, но учитывая не только их.\n",
    "\n",
    "</font><font color='Blue'><b>Рекламный бюджет стоит потратить на платформы PS4 и XOne, жанры Action, Schooter, для категории М, Е, Т.</b></font><br>\n",
    "\n",
    "</font><font color='Blue'><b>Жанр Sports не требует рекламы, так как спортивные собития коссвенно рекламируют игры. Например FIFA.</b></font><br>"
   ]
  },
  {
   "cell_type": "code",
   "execution_count": null,
   "metadata": {},
   "outputs": [],
   "source": []
  }
 ],
 "metadata": {
  "ExecuteTimeLog": [
   {
    "duration": 46,
    "start_time": "2024-04-08T16:59:01.443Z"
   },
   {
    "duration": 360,
    "start_time": "2024-04-08T16:59:07.569Z"
   },
   {
    "duration": 62,
    "start_time": "2024-04-08T16:59:08.779Z"
   },
   {
    "duration": 141,
    "start_time": "2024-04-08T16:59:26.806Z"
   },
   {
    "duration": 422,
    "start_time": "2024-04-08T16:59:33.589Z"
   },
   {
    "duration": 75,
    "start_time": "2024-04-08T16:59:34.013Z"
   },
   {
    "duration": 59,
    "start_time": "2024-04-08T17:03:03.388Z"
   },
   {
    "duration": 7,
    "start_time": "2024-04-08T17:03:12.287Z"
   },
   {
    "duration": 12,
    "start_time": "2024-04-08T17:03:24.892Z"
   },
   {
    "duration": 15,
    "start_time": "2024-04-08T17:08:26.818Z"
   },
   {
    "duration": 4,
    "start_time": "2024-04-08T17:13:34.520Z"
   },
   {
    "duration": 29,
    "start_time": "2024-04-08T17:13:51.234Z"
   },
   {
    "duration": 41,
    "start_time": "2024-04-08T17:14:19.047Z"
   },
   {
    "duration": 7,
    "start_time": "2024-04-08T17:16:41.280Z"
   },
   {
    "duration": 7,
    "start_time": "2024-04-08T17:16:47.236Z"
   },
   {
    "duration": 8,
    "start_time": "2024-04-08T17:17:08.416Z"
   },
   {
    "duration": 13,
    "start_time": "2024-04-08T17:18:43.351Z"
   },
   {
    "duration": 11,
    "start_time": "2024-04-08T17:19:49.019Z"
   },
   {
    "duration": 783,
    "start_time": "2024-04-08T17:19:57.120Z"
   },
   {
    "duration": 73,
    "start_time": "2024-04-08T17:19:57.905Z"
   },
   {
    "duration": 15,
    "start_time": "2024-04-08T17:19:57.980Z"
   },
   {
    "duration": 19,
    "start_time": "2024-04-08T17:19:57.997Z"
   },
   {
    "duration": 74,
    "start_time": "2024-04-08T17:19:58.017Z"
   },
   {
    "duration": 10,
    "start_time": "2024-04-08T17:24:43.217Z"
   },
   {
    "duration": 19,
    "start_time": "2024-04-08T17:25:36.329Z"
   },
   {
    "duration": 10,
    "start_time": "2024-04-08T17:26:14.550Z"
   },
   {
    "duration": 607,
    "start_time": "2024-04-08T17:26:37.468Z"
   },
   {
    "duration": 72,
    "start_time": "2024-04-08T17:26:38.077Z"
   },
   {
    "duration": 15,
    "start_time": "2024-04-08T17:26:38.150Z"
   },
   {
    "duration": 28,
    "start_time": "2024-04-08T17:26:38.168Z"
   },
   {
    "duration": 27,
    "start_time": "2024-04-08T17:26:38.198Z"
   },
   {
    "duration": 77,
    "start_time": "2024-04-08T17:26:38.226Z"
   },
   {
    "duration": 11,
    "start_time": "2024-04-08T17:28:09.362Z"
   },
   {
    "duration": 16,
    "start_time": "2024-04-08T17:29:05.729Z"
   },
   {
    "duration": 9,
    "start_time": "2024-04-08T17:32:14.602Z"
   },
   {
    "duration": 8,
    "start_time": "2024-04-08T17:32:23.681Z"
   },
   {
    "duration": 18,
    "start_time": "2024-04-08T17:32:38.037Z"
   },
   {
    "duration": 36,
    "start_time": "2024-04-08T17:32:48.232Z"
   },
   {
    "duration": 363,
    "start_time": "2024-04-08T17:39:28.493Z"
   },
   {
    "duration": 16,
    "start_time": "2024-04-08T17:39:37.037Z"
   },
   {
    "duration": 15,
    "start_time": "2024-04-08T17:39:51.213Z"
   },
   {
    "duration": 4,
    "start_time": "2024-04-08T17:42:49.056Z"
   },
   {
    "duration": 596,
    "start_time": "2024-04-08T17:42:58.951Z"
   },
   {
    "duration": 75,
    "start_time": "2024-04-08T17:42:59.549Z"
   },
   {
    "duration": 17,
    "start_time": "2024-04-08T17:42:59.625Z"
   },
   {
    "duration": 32,
    "start_time": "2024-04-08T17:42:59.643Z"
   },
   {
    "duration": 18,
    "start_time": "2024-04-08T17:42:59.678Z"
   },
   {
    "duration": 14,
    "start_time": "2024-04-08T17:42:59.718Z"
   },
   {
    "duration": 19,
    "start_time": "2024-04-08T17:42:59.734Z"
   },
   {
    "duration": 123,
    "start_time": "2024-04-08T17:42:59.754Z"
   },
   {
    "duration": 17,
    "start_time": "2024-04-08T17:43:30.797Z"
   },
   {
    "duration": 16,
    "start_time": "2024-04-08T17:43:35.387Z"
   },
   {
    "duration": 62,
    "start_time": "2024-04-08T17:44:07.443Z"
   },
   {
    "duration": 33,
    "start_time": "2024-04-08T17:45:09.016Z"
   },
   {
    "duration": 28,
    "start_time": "2024-04-08T17:45:22.372Z"
   },
   {
    "duration": 23,
    "start_time": "2024-04-08T17:45:34.257Z"
   },
   {
    "duration": 14,
    "start_time": "2024-04-08T17:45:39.847Z"
   },
   {
    "duration": 16,
    "start_time": "2024-04-08T17:45:54.467Z"
   },
   {
    "duration": 6,
    "start_time": "2024-04-08T17:52:35.896Z"
   },
   {
    "duration": 6,
    "start_time": "2024-04-08T17:52:46.723Z"
   },
   {
    "duration": 5,
    "start_time": "2024-04-08T17:52:51.373Z"
   },
   {
    "duration": 5,
    "start_time": "2024-04-08T17:53:38.304Z"
   },
   {
    "duration": 9,
    "start_time": "2024-04-08T17:57:48.553Z"
   },
   {
    "duration": 14,
    "start_time": "2024-04-08T18:01:13.200Z"
   },
   {
    "duration": 7,
    "start_time": "2024-04-08T18:03:14.471Z"
   },
   {
    "duration": 12,
    "start_time": "2024-04-08T18:09:17.625Z"
   },
   {
    "duration": 8,
    "start_time": "2024-04-08T18:09:49.460Z"
   },
   {
    "duration": 6,
    "start_time": "2024-04-08T18:09:51.776Z"
   },
   {
    "duration": 658,
    "start_time": "2024-04-08T18:10:01.427Z"
   },
   {
    "duration": 76,
    "start_time": "2024-04-08T18:10:02.087Z"
   },
   {
    "duration": 16,
    "start_time": "2024-04-08T18:10:02.164Z"
   },
   {
    "duration": 46,
    "start_time": "2024-04-08T18:10:02.182Z"
   },
   {
    "duration": 69,
    "start_time": "2024-04-08T18:10:02.230Z"
   },
   {
    "duration": 38,
    "start_time": "2024-04-08T18:10:02.301Z"
   },
   {
    "duration": 71,
    "start_time": "2024-04-08T18:10:02.341Z"
   },
   {
    "duration": 16,
    "start_time": "2024-04-08T18:10:02.414Z"
   },
   {
    "duration": 19,
    "start_time": "2024-04-08T18:10:02.432Z"
   },
   {
    "duration": 50,
    "start_time": "2024-04-08T18:10:02.454Z"
   },
   {
    "duration": 1232,
    "start_time": "2024-04-08T18:10:02.507Z"
   },
   {
    "duration": 21,
    "start_time": "2024-04-08T18:16:45.669Z"
   },
   {
    "duration": 13,
    "start_time": "2024-04-08T18:16:55.190Z"
   },
   {
    "duration": 81,
    "start_time": "2024-04-08T18:27:31.474Z"
   },
   {
    "duration": 16,
    "start_time": "2024-04-08T18:28:58.217Z"
   },
   {
    "duration": 16,
    "start_time": "2024-04-08T18:29:23.762Z"
   },
   {
    "duration": 17,
    "start_time": "2024-04-08T18:29:34.922Z"
   },
   {
    "duration": 9,
    "start_time": "2024-04-08T18:31:12.172Z"
   },
   {
    "duration": 9,
    "start_time": "2024-04-08T18:31:45.711Z"
   },
   {
    "duration": 594,
    "start_time": "2024-04-08T18:31:51.955Z"
   },
   {
    "duration": 71,
    "start_time": "2024-04-08T18:31:52.551Z"
   },
   {
    "duration": 14,
    "start_time": "2024-04-08T18:31:52.623Z"
   },
   {
    "duration": 31,
    "start_time": "2024-04-08T18:31:52.638Z"
   },
   {
    "duration": 29,
    "start_time": "2024-04-08T18:31:52.670Z"
   },
   {
    "duration": 9,
    "start_time": "2024-04-08T18:31:52.700Z"
   },
   {
    "duration": 28,
    "start_time": "2024-04-08T18:31:52.710Z"
   },
   {
    "duration": 6,
    "start_time": "2024-04-08T18:31:52.739Z"
   },
   {
    "duration": 25,
    "start_time": "2024-04-08T18:31:52.747Z"
   },
   {
    "duration": 14,
    "start_time": "2024-04-08T18:31:52.775Z"
   },
   {
    "duration": 12,
    "start_time": "2024-04-08T18:31:52.790Z"
   },
   {
    "duration": 324,
    "start_time": "2024-04-08T18:31:52.803Z"
   },
   {
    "duration": 9,
    "start_time": "2024-04-08T18:32:01.109Z"
   },
   {
    "duration": 600,
    "start_time": "2024-04-08T18:32:05.982Z"
   },
   {
    "duration": 74,
    "start_time": "2024-04-08T18:32:06.584Z"
   },
   {
    "duration": 14,
    "start_time": "2024-04-08T18:32:06.660Z"
   },
   {
    "duration": 21,
    "start_time": "2024-04-08T18:32:06.676Z"
   },
   {
    "duration": 35,
    "start_time": "2024-04-08T18:32:06.699Z"
   },
   {
    "duration": 10,
    "start_time": "2024-04-08T18:32:06.736Z"
   },
   {
    "duration": 17,
    "start_time": "2024-04-08T18:32:06.748Z"
   },
   {
    "duration": 9,
    "start_time": "2024-04-08T18:32:06.767Z"
   },
   {
    "duration": 44,
    "start_time": "2024-04-08T18:32:06.778Z"
   },
   {
    "duration": 7,
    "start_time": "2024-04-08T18:32:06.824Z"
   },
   {
    "duration": 8,
    "start_time": "2024-04-08T18:32:06.833Z"
   },
   {
    "duration": 347,
    "start_time": "2024-04-08T18:32:06.842Z"
   },
   {
    "duration": 866,
    "start_time": "2024-04-09T11:28:07.048Z"
   },
   {
    "duration": 215,
    "start_time": "2024-04-09T11:28:07.917Z"
   },
   {
    "duration": 17,
    "start_time": "2024-04-09T11:28:08.133Z"
   },
   {
    "duration": 23,
    "start_time": "2024-04-09T11:28:08.152Z"
   },
   {
    "duration": 28,
    "start_time": "2024-04-09T11:28:08.180Z"
   },
   {
    "duration": 9,
    "start_time": "2024-04-09T11:28:08.210Z"
   },
   {
    "duration": 16,
    "start_time": "2024-04-09T11:28:08.221Z"
   },
   {
    "duration": 6,
    "start_time": "2024-04-09T11:28:08.239Z"
   },
   {
    "duration": 21,
    "start_time": "2024-04-09T11:28:08.247Z"
   },
   {
    "duration": 9,
    "start_time": "2024-04-09T11:28:08.279Z"
   },
   {
    "duration": 10,
    "start_time": "2024-04-09T11:28:08.290Z"
   },
   {
    "duration": 12,
    "start_time": "2024-04-09T11:28:08.301Z"
   },
   {
    "duration": 434,
    "start_time": "2024-04-09T11:28:08.314Z"
   },
   {
    "duration": 5,
    "start_time": "2024-04-09T11:29:55.468Z"
   },
   {
    "duration": 12,
    "start_time": "2024-04-09T11:29:56.707Z"
   },
   {
    "duration": 30,
    "start_time": "2024-04-09T11:32:27.278Z"
   },
   {
    "duration": 361,
    "start_time": "2024-04-09T11:32:51.580Z"
   },
   {
    "duration": 657,
    "start_time": "2024-04-09T11:32:57.619Z"
   },
   {
    "duration": 77,
    "start_time": "2024-04-09T11:32:58.277Z"
   },
   {
    "duration": 16,
    "start_time": "2024-04-09T11:32:58.355Z"
   },
   {
    "duration": 30,
    "start_time": "2024-04-09T11:32:58.373Z"
   },
   {
    "duration": 24,
    "start_time": "2024-04-09T11:32:58.406Z"
   },
   {
    "duration": 8,
    "start_time": "2024-04-09T11:32:58.431Z"
   },
   {
    "duration": 19,
    "start_time": "2024-04-09T11:32:58.441Z"
   },
   {
    "duration": 27,
    "start_time": "2024-04-09T11:32:58.481Z"
   },
   {
    "duration": 15,
    "start_time": "2024-04-09T11:32:58.509Z"
   },
   {
    "duration": 10,
    "start_time": "2024-04-09T11:32:58.526Z"
   },
   {
    "duration": 10,
    "start_time": "2024-04-09T11:32:58.537Z"
   },
   {
    "duration": 10,
    "start_time": "2024-04-09T11:32:58.549Z"
   },
   {
    "duration": 10,
    "start_time": "2024-04-09T11:32:58.580Z"
   },
   {
    "duration": 22,
    "start_time": "2024-04-09T11:32:58.592Z"
   },
   {
    "duration": 16,
    "start_time": "2024-04-09T11:32:58.615Z"
   },
   {
    "duration": 472,
    "start_time": "2024-04-09T11:32:58.632Z"
   },
   {
    "duration": 21,
    "start_time": "2024-04-09T11:36:52.687Z"
   },
   {
    "duration": 23,
    "start_time": "2024-04-09T11:37:48.747Z"
   },
   {
    "duration": 9,
    "start_time": "2024-04-09T11:45:28.399Z"
   },
   {
    "duration": 29,
    "start_time": "2024-04-09T11:45:38.501Z"
   },
   {
    "duration": 12,
    "start_time": "2024-04-09T12:32:37.083Z"
   },
   {
    "duration": 8,
    "start_time": "2024-04-09T12:33:12.984Z"
   },
   {
    "duration": 393,
    "start_time": "2024-04-09T12:35:22.562Z"
   },
   {
    "duration": 387,
    "start_time": "2024-04-09T12:35:37.003Z"
   },
   {
    "duration": 408,
    "start_time": "2024-04-09T12:38:45.641Z"
   },
   {
    "duration": 10,
    "start_time": "2024-04-09T13:01:10.356Z"
   },
   {
    "duration": 324,
    "start_time": "2024-04-09T13:23:26.602Z"
   },
   {
    "duration": 7,
    "start_time": "2024-04-09T13:23:47.364Z"
   },
   {
    "duration": 81,
    "start_time": "2024-04-09T13:34:47.770Z"
   },
   {
    "duration": 12,
    "start_time": "2024-04-09T13:35:12.072Z"
   },
   {
    "duration": 12,
    "start_time": "2024-04-09T13:43:55.863Z"
   },
   {
    "duration": 8,
    "start_time": "2024-04-09T13:44:09.788Z"
   },
   {
    "duration": 10,
    "start_time": "2024-04-09T13:44:26.145Z"
   },
   {
    "duration": 305,
    "start_time": "2024-04-09T13:44:46.189Z"
   },
   {
    "duration": 437,
    "start_time": "2024-04-09T13:45:18.546Z"
   },
   {
    "duration": 437,
    "start_time": "2024-04-09T13:45:36.985Z"
   },
   {
    "duration": 412,
    "start_time": "2024-04-09T13:45:56.241Z"
   },
   {
    "duration": 941,
    "start_time": "2024-04-09T13:46:09.081Z"
   },
   {
    "duration": 303,
    "start_time": "2024-04-09T13:46:23.317Z"
   },
   {
    "duration": 315,
    "start_time": "2024-04-09T13:46:46.871Z"
   },
   {
    "duration": 381,
    "start_time": "2024-04-09T13:46:59.116Z"
   },
   {
    "duration": 304,
    "start_time": "2024-04-09T13:48:17.742Z"
   },
   {
    "duration": 310,
    "start_time": "2024-04-09T13:48:28.964Z"
   },
   {
    "duration": 318,
    "start_time": "2024-04-09T13:50:01.719Z"
   },
   {
    "duration": 5,
    "start_time": "2024-04-09T14:06:00.897Z"
   },
   {
    "duration": 10,
    "start_time": "2024-04-09T14:06:49.482Z"
   },
   {
    "duration": 23,
    "start_time": "2024-04-09T14:06:54.112Z"
   },
   {
    "duration": 36,
    "start_time": "2024-04-09T14:07:20.728Z"
   },
   {
    "duration": 15,
    "start_time": "2024-04-09T14:07:31.121Z"
   },
   {
    "duration": 18,
    "start_time": "2024-04-09T14:07:51.449Z"
   },
   {
    "duration": 26,
    "start_time": "2024-04-09T14:07:57.752Z"
   },
   {
    "duration": 15,
    "start_time": "2024-04-09T14:08:07.819Z"
   },
   {
    "duration": 25,
    "start_time": "2024-04-09T14:08:13.431Z"
   },
   {
    "duration": 18,
    "start_time": "2024-04-09T14:10:12.198Z"
   },
   {
    "duration": 481,
    "start_time": "2024-04-09T14:16:00.906Z"
   },
   {
    "duration": 519,
    "start_time": "2024-04-09T14:16:48.398Z"
   },
   {
    "duration": 456,
    "start_time": "2024-04-09T14:16:54.768Z"
   },
   {
    "duration": 659,
    "start_time": "2024-04-09T14:17:03.309Z"
   },
   {
    "duration": 81,
    "start_time": "2024-04-09T14:17:03.970Z"
   },
   {
    "duration": 17,
    "start_time": "2024-04-09T14:17:04.052Z"
   },
   {
    "duration": 22,
    "start_time": "2024-04-09T14:17:04.071Z"
   },
   {
    "duration": 18,
    "start_time": "2024-04-09T14:17:04.095Z"
   },
   {
    "duration": 10,
    "start_time": "2024-04-09T14:17:04.115Z"
   },
   {
    "duration": 38,
    "start_time": "2024-04-09T14:17:04.127Z"
   },
   {
    "duration": 7,
    "start_time": "2024-04-09T14:17:04.167Z"
   },
   {
    "duration": 15,
    "start_time": "2024-04-09T14:17:04.179Z"
   },
   {
    "duration": 12,
    "start_time": "2024-04-09T14:17:04.198Z"
   },
   {
    "duration": 15,
    "start_time": "2024-04-09T14:17:04.212Z"
   },
   {
    "duration": 11,
    "start_time": "2024-04-09T14:17:04.229Z"
   },
   {
    "duration": 6,
    "start_time": "2024-04-09T14:17:04.242Z"
   },
   {
    "duration": 13,
    "start_time": "2024-04-09T14:17:04.279Z"
   },
   {
    "duration": 15,
    "start_time": "2024-04-09T14:17:04.294Z"
   },
   {
    "duration": 19,
    "start_time": "2024-04-09T14:17:04.310Z"
   },
   {
    "duration": 50,
    "start_time": "2024-04-09T14:17:04.331Z"
   },
   {
    "duration": 9,
    "start_time": "2024-04-09T14:17:04.383Z"
   },
   {
    "duration": 400,
    "start_time": "2024-04-09T14:17:04.394Z"
   },
   {
    "duration": 335,
    "start_time": "2024-04-09T14:17:04.796Z"
   },
   {
    "duration": 13,
    "start_time": "2024-04-09T14:17:05.133Z"
   },
   {
    "duration": 374,
    "start_time": "2024-04-09T14:17:05.148Z"
   },
   {
    "duration": 24,
    "start_time": "2024-04-09T14:17:05.523Z"
   },
   {
    "duration": 516,
    "start_time": "2024-04-09T14:17:05.549Z"
   },
   {
    "duration": 573,
    "start_time": "2024-04-09T14:18:21.602Z"
   },
   {
    "duration": 79,
    "start_time": "2024-04-09T14:29:57.399Z"
   },
   {
    "duration": 10,
    "start_time": "2024-04-09T14:33:22.308Z"
   },
   {
    "duration": 9,
    "start_time": "2024-04-09T14:33:35.849Z"
   },
   {
    "duration": 15,
    "start_time": "2024-04-09T14:35:01.292Z"
   },
   {
    "duration": 213,
    "start_time": "2024-04-09T14:35:12.533Z"
   },
   {
    "duration": 745,
    "start_time": "2024-04-09T14:38:55.946Z"
   },
   {
    "duration": 82,
    "start_time": "2024-04-09T14:38:56.693Z"
   },
   {
    "duration": 16,
    "start_time": "2024-04-09T14:38:56.776Z"
   },
   {
    "duration": 20,
    "start_time": "2024-04-09T14:38:56.794Z"
   },
   {
    "duration": 18,
    "start_time": "2024-04-09T14:38:56.816Z"
   },
   {
    "duration": 10,
    "start_time": "2024-04-09T14:38:56.836Z"
   },
   {
    "duration": 39,
    "start_time": "2024-04-09T14:38:56.847Z"
   },
   {
    "duration": 6,
    "start_time": "2024-04-09T14:38:56.888Z"
   },
   {
    "duration": 12,
    "start_time": "2024-04-09T14:38:56.896Z"
   },
   {
    "duration": 8,
    "start_time": "2024-04-09T14:38:56.911Z"
   },
   {
    "duration": 9,
    "start_time": "2024-04-09T14:38:56.921Z"
   },
   {
    "duration": 10,
    "start_time": "2024-04-09T14:38:56.931Z"
   },
   {
    "duration": 39,
    "start_time": "2024-04-09T14:38:56.942Z"
   },
   {
    "duration": 13,
    "start_time": "2024-04-09T14:38:56.983Z"
   },
   {
    "duration": 28,
    "start_time": "2024-04-09T14:38:56.997Z"
   },
   {
    "duration": 21,
    "start_time": "2024-04-09T14:38:57.026Z"
   },
   {
    "duration": 42,
    "start_time": "2024-04-09T14:38:57.048Z"
   },
   {
    "duration": 9,
    "start_time": "2024-04-09T14:38:57.091Z"
   },
   {
    "duration": 408,
    "start_time": "2024-04-09T14:38:57.101Z"
   },
   {
    "duration": 335,
    "start_time": "2024-04-09T14:38:57.511Z"
   },
   {
    "duration": 12,
    "start_time": "2024-04-09T14:38:57.848Z"
   },
   {
    "duration": 412,
    "start_time": "2024-04-09T14:38:57.862Z"
   },
   {
    "duration": 23,
    "start_time": "2024-04-09T14:38:58.276Z"
   },
   {
    "duration": 534,
    "start_time": "2024-04-09T14:38:58.301Z"
   },
   {
    "duration": 9,
    "start_time": "2024-04-09T14:38:58.837Z"
   },
   {
    "duration": 213,
    "start_time": "2024-04-09T14:38:58.847Z"
   },
   {
    "duration": 0,
    "start_time": "2024-04-09T14:38:59.062Z"
   },
   {
    "duration": 0,
    "start_time": "2024-04-09T14:38:59.063Z"
   },
   {
    "duration": 0,
    "start_time": "2024-04-09T14:38:59.064Z"
   },
   {
    "duration": 0,
    "start_time": "2024-04-09T14:38:59.065Z"
   },
   {
    "duration": 0,
    "start_time": "2024-04-09T14:38:59.066Z"
   },
   {
    "duration": 0,
    "start_time": "2024-04-09T14:38:59.067Z"
   },
   {
    "duration": 46,
    "start_time": "2024-04-09T14:39:24.521Z"
   },
   {
    "duration": 15,
    "start_time": "2024-04-09T14:39:37.949Z"
   },
   {
    "duration": 19,
    "start_time": "2024-04-09T14:39:44.195Z"
   },
   {
    "duration": 453,
    "start_time": "2024-04-09T14:39:52.102Z"
   },
   {
    "duration": 10,
    "start_time": "2024-04-09T14:39:57.802Z"
   },
   {
    "duration": 8,
    "start_time": "2024-04-09T14:40:05.843Z"
   },
   {
    "duration": 11,
    "start_time": "2024-04-09T14:40:07.532Z"
   },
   {
    "duration": 301,
    "start_time": "2024-04-09T14:45:15.480Z"
   },
   {
    "duration": 11,
    "start_time": "2024-04-09T14:45:50.921Z"
   },
   {
    "duration": 129,
    "start_time": "2024-04-09T14:46:15.181Z"
   },
   {
    "duration": 124,
    "start_time": "2024-04-09T14:46:35.117Z"
   },
   {
    "duration": 134,
    "start_time": "2024-04-09T14:46:55.149Z"
   },
   {
    "duration": 221,
    "start_time": "2024-04-09T14:47:26.915Z"
   },
   {
    "duration": 10,
    "start_time": "2024-04-09T14:47:51.022Z"
   },
   {
    "duration": 115,
    "start_time": "2024-04-09T14:48:14.253Z"
   },
   {
    "duration": 126,
    "start_time": "2024-04-09T14:48:49.939Z"
   },
   {
    "duration": 770,
    "start_time": "2024-04-10T13:45:49.739Z"
   },
   {
    "duration": 225,
    "start_time": "2024-04-10T13:45:50.511Z"
   },
   {
    "duration": 13,
    "start_time": "2024-04-10T13:45:50.738Z"
   },
   {
    "duration": 35,
    "start_time": "2024-04-10T13:45:50.753Z"
   },
   {
    "duration": 22,
    "start_time": "2024-04-10T13:45:50.789Z"
   },
   {
    "duration": 8,
    "start_time": "2024-04-10T13:45:50.813Z"
   },
   {
    "duration": 21,
    "start_time": "2024-04-10T13:45:50.823Z"
   },
   {
    "duration": 43,
    "start_time": "2024-04-10T13:45:50.846Z"
   },
   {
    "duration": 14,
    "start_time": "2024-04-10T13:45:50.890Z"
   },
   {
    "duration": 12,
    "start_time": "2024-04-10T13:45:50.906Z"
   },
   {
    "duration": 12,
    "start_time": "2024-04-10T13:45:50.919Z"
   },
   {
    "duration": 14,
    "start_time": "2024-04-10T13:45:50.932Z"
   },
   {
    "duration": 14,
    "start_time": "2024-04-10T13:45:50.948Z"
   },
   {
    "duration": 27,
    "start_time": "2024-04-10T13:45:50.963Z"
   },
   {
    "duration": 14,
    "start_time": "2024-04-10T13:45:50.992Z"
   },
   {
    "duration": 34,
    "start_time": "2024-04-10T13:45:51.007Z"
   },
   {
    "duration": 28,
    "start_time": "2024-04-10T13:45:51.043Z"
   },
   {
    "duration": 10,
    "start_time": "2024-04-10T13:45:51.073Z"
   },
   {
    "duration": 360,
    "start_time": "2024-04-10T13:45:51.084Z"
   },
   {
    "duration": 305,
    "start_time": "2024-04-10T13:45:51.446Z"
   },
   {
    "duration": 12,
    "start_time": "2024-04-10T13:45:51.753Z"
   },
   {
    "duration": 336,
    "start_time": "2024-04-10T13:45:51.776Z"
   },
   {
    "duration": 21,
    "start_time": "2024-04-10T13:45:52.113Z"
   },
   {
    "duration": 456,
    "start_time": "2024-04-10T13:45:52.135Z"
   },
   {
    "duration": 29,
    "start_time": "2024-04-10T13:45:52.592Z"
   },
   {
    "duration": 204,
    "start_time": "2024-04-10T13:45:52.622Z"
   },
   {
    "duration": 259,
    "start_time": "2024-04-10T13:46:08.186Z"
   },
   {
    "duration": 15,
    "start_time": "2024-04-10T14:17:00.491Z"
   },
   {
    "duration": 12,
    "start_time": "2024-04-10T14:17:12.346Z"
   },
   {
    "duration": 11,
    "start_time": "2024-04-10T14:17:57.697Z"
   },
   {
    "duration": 91,
    "start_time": "2024-04-10T14:39:23.445Z"
   },
   {
    "duration": 91,
    "start_time": "2024-04-10T14:40:15.536Z"
   },
   {
    "duration": 3,
    "start_time": "2024-04-10T14:40:29.043Z"
   },
   {
    "duration": 8,
    "start_time": "2024-04-10T14:40:42.794Z"
   },
   {
    "duration": 7,
    "start_time": "2024-04-10T14:40:55.514Z"
   },
   {
    "duration": 23,
    "start_time": "2024-04-10T14:44:58.463Z"
   },
   {
    "duration": 1131,
    "start_time": "2024-04-10T14:46:48.968Z"
   },
   {
    "duration": 70,
    "start_time": "2024-04-10T14:46:50.101Z"
   },
   {
    "duration": 22,
    "start_time": "2024-04-10T14:46:50.172Z"
   },
   {
    "duration": 25,
    "start_time": "2024-04-10T14:46:50.196Z"
   },
   {
    "duration": 50,
    "start_time": "2024-04-10T14:46:50.223Z"
   },
   {
    "duration": 12,
    "start_time": "2024-04-10T14:46:50.286Z"
   },
   {
    "duration": 25,
    "start_time": "2024-04-10T14:46:50.300Z"
   },
   {
    "duration": 8,
    "start_time": "2024-04-10T14:46:50.326Z"
   },
   {
    "duration": 19,
    "start_time": "2024-04-10T14:46:50.335Z"
   },
   {
    "duration": 7,
    "start_time": "2024-04-10T14:46:50.357Z"
   },
   {
    "duration": 8,
    "start_time": "2024-04-10T14:46:50.365Z"
   },
   {
    "duration": 15,
    "start_time": "2024-04-10T14:46:50.376Z"
   },
   {
    "duration": 5,
    "start_time": "2024-04-10T14:46:50.392Z"
   },
   {
    "duration": 23,
    "start_time": "2024-04-10T14:46:50.398Z"
   },
   {
    "duration": 42,
    "start_time": "2024-04-10T14:46:50.423Z"
   },
   {
    "duration": 28,
    "start_time": "2024-04-10T14:46:50.467Z"
   },
   {
    "duration": 25,
    "start_time": "2024-04-10T14:46:50.496Z"
   },
   {
    "duration": 7,
    "start_time": "2024-04-10T14:46:50.522Z"
   },
   {
    "duration": 356,
    "start_time": "2024-04-10T14:46:50.530Z"
   },
   {
    "duration": 315,
    "start_time": "2024-04-10T14:46:50.890Z"
   },
   {
    "duration": 16,
    "start_time": "2024-04-10T14:46:51.207Z"
   },
   {
    "duration": 298,
    "start_time": "2024-04-10T14:46:51.224Z"
   },
   {
    "duration": 22,
    "start_time": "2024-04-10T14:46:51.523Z"
   },
   {
    "duration": 572,
    "start_time": "2024-04-10T14:46:51.546Z"
   },
   {
    "duration": 28,
    "start_time": "2024-04-10T14:46:52.120Z"
   },
   {
    "duration": 289,
    "start_time": "2024-04-10T14:46:52.149Z"
   },
   {
    "duration": 1564,
    "start_time": "2024-04-10T14:46:52.439Z"
   },
   {
    "duration": 95,
    "start_time": "2024-04-10T14:47:34.299Z"
   },
   {
    "duration": 7,
    "start_time": "2024-04-10T14:47:40.470Z"
   },
   {
    "duration": 1531,
    "start_time": "2024-04-10T14:47:42.170Z"
   },
   {
    "duration": 140,
    "start_time": "2024-04-10T14:50:59.922Z"
   },
   {
    "duration": 147,
    "start_time": "2024-04-10T14:51:15.794Z"
   },
   {
    "duration": 162,
    "start_time": "2024-04-10T14:51:31.890Z"
   },
   {
    "duration": 37,
    "start_time": "2024-04-10T14:52:37.957Z"
   },
   {
    "duration": 9,
    "start_time": "2024-04-10T14:56:11.393Z"
   },
   {
    "duration": 20,
    "start_time": "2024-04-10T14:56:56.265Z"
   },
   {
    "duration": 10,
    "start_time": "2024-04-10T14:57:31.641Z"
   },
   {
    "duration": 10,
    "start_time": "2024-04-10T14:57:38.856Z"
   },
   {
    "duration": 1381,
    "start_time": "2024-04-10T14:57:51.707Z"
   },
   {
    "duration": 1530,
    "start_time": "2024-04-10T14:58:08.738Z"
   },
   {
    "duration": 5,
    "start_time": "2024-04-10T15:00:20.786Z"
   },
   {
    "duration": 1436,
    "start_time": "2024-04-10T15:03:00.923Z"
   },
   {
    "duration": 14,
    "start_time": "2024-04-10T15:03:22.769Z"
   },
   {
    "duration": 9,
    "start_time": "2024-04-10T15:03:47.914Z"
   },
   {
    "duration": 20,
    "start_time": "2024-04-10T15:05:36.868Z"
   },
   {
    "duration": 15,
    "start_time": "2024-04-10T15:06:45.170Z"
   },
   {
    "duration": 10,
    "start_time": "2024-04-10T15:16:03.054Z"
   },
   {
    "duration": 10,
    "start_time": "2024-04-10T15:16:04.933Z"
   },
   {
    "duration": 10,
    "start_time": "2024-04-10T15:16:06.418Z"
   },
   {
    "duration": 82,
    "start_time": "2024-04-10T15:21:58.316Z"
   },
   {
    "duration": 12,
    "start_time": "2024-04-10T15:22:06.986Z"
   },
   {
    "duration": 8,
    "start_time": "2024-04-10T15:22:20.640Z"
   },
   {
    "duration": 8,
    "start_time": "2024-04-10T15:22:21.831Z"
   },
   {
    "duration": 1193,
    "start_time": "2024-04-10T15:22:35.560Z"
   },
   {
    "duration": 78,
    "start_time": "2024-04-10T15:22:36.755Z"
   },
   {
    "duration": 13,
    "start_time": "2024-04-10T15:22:36.835Z"
   },
   {
    "duration": 45,
    "start_time": "2024-04-10T15:22:36.850Z"
   },
   {
    "duration": 24,
    "start_time": "2024-04-10T15:22:36.896Z"
   },
   {
    "duration": 12,
    "start_time": "2024-04-10T15:22:36.922Z"
   },
   {
    "duration": 57,
    "start_time": "2024-04-10T15:22:36.935Z"
   },
   {
    "duration": 7,
    "start_time": "2024-04-10T15:22:36.994Z"
   },
   {
    "duration": 20,
    "start_time": "2024-04-10T15:22:37.002Z"
   },
   {
    "duration": 8,
    "start_time": "2024-04-10T15:22:37.024Z"
   },
   {
    "duration": 14,
    "start_time": "2024-04-10T15:22:37.033Z"
   },
   {
    "duration": 34,
    "start_time": "2024-04-10T15:22:37.049Z"
   },
   {
    "duration": 13,
    "start_time": "2024-04-10T15:22:37.085Z"
   },
   {
    "duration": 15,
    "start_time": "2024-04-10T15:22:37.099Z"
   },
   {
    "duration": 13,
    "start_time": "2024-04-10T15:22:37.115Z"
   },
   {
    "duration": 38,
    "start_time": "2024-04-10T15:22:37.130Z"
   },
   {
    "duration": 38,
    "start_time": "2024-04-10T15:22:37.174Z"
   },
   {
    "duration": 10,
    "start_time": "2024-04-10T15:22:37.215Z"
   },
   {
    "duration": 388,
    "start_time": "2024-04-10T15:22:37.227Z"
   },
   {
    "duration": 309,
    "start_time": "2024-04-10T15:22:37.616Z"
   },
   {
    "duration": 12,
    "start_time": "2024-04-10T15:22:37.927Z"
   },
   {
    "duration": 332,
    "start_time": "2024-04-10T15:22:37.940Z"
   },
   {
    "duration": 27,
    "start_time": "2024-04-10T15:22:38.277Z"
   },
   {
    "duration": 528,
    "start_time": "2024-04-10T15:22:38.306Z"
   },
   {
    "duration": 51,
    "start_time": "2024-04-10T15:22:38.835Z"
   },
   {
    "duration": 310,
    "start_time": "2024-04-10T15:22:38.888Z"
   },
   {
    "duration": 1492,
    "start_time": "2024-04-10T15:22:39.199Z"
   },
   {
    "duration": 11,
    "start_time": "2024-04-10T15:22:40.694Z"
   },
   {
    "duration": 26,
    "start_time": "2024-04-10T15:22:40.706Z"
   },
   {
    "duration": 10,
    "start_time": "2024-04-10T15:22:40.733Z"
   },
   {
    "duration": 10,
    "start_time": "2024-04-10T15:22:40.744Z"
   },
   {
    "duration": 7,
    "start_time": "2024-04-10T15:22:40.755Z"
   },
   {
    "duration": 31,
    "start_time": "2024-04-10T15:22:40.763Z"
   },
   {
    "duration": 406,
    "start_time": "2024-04-10T15:32:01.194Z"
   },
   {
    "duration": 314,
    "start_time": "2024-04-10T15:32:13.807Z"
   },
   {
    "duration": 286,
    "start_time": "2024-04-10T15:32:23.057Z"
   },
   {
    "duration": 285,
    "start_time": "2024-04-10T15:32:28.973Z"
   },
   {
    "duration": 304,
    "start_time": "2024-04-10T15:32:34.497Z"
   },
   {
    "duration": 289,
    "start_time": "2024-04-10T15:32:46.030Z"
   },
   {
    "duration": 397,
    "start_time": "2024-04-10T15:32:55.222Z"
   },
   {
    "duration": 13,
    "start_time": "2024-04-10T15:34:21.646Z"
   },
   {
    "duration": 8,
    "start_time": "2024-04-10T15:35:37.434Z"
   },
   {
    "duration": 102,
    "start_time": "2024-04-10T15:52:44.216Z"
   },
   {
    "duration": 179,
    "start_time": "2024-04-10T15:52:55.409Z"
   },
   {
    "duration": 51,
    "start_time": "2024-04-11T09:15:44.378Z"
   },
   {
    "duration": 1447,
    "start_time": "2024-04-11T09:15:48.844Z"
   },
   {
    "duration": 218,
    "start_time": "2024-04-11T09:15:50.293Z"
   },
   {
    "duration": 17,
    "start_time": "2024-04-11T09:15:50.513Z"
   },
   {
    "duration": 23,
    "start_time": "2024-04-11T09:15:50.532Z"
   },
   {
    "duration": 31,
    "start_time": "2024-04-11T09:15:50.557Z"
   },
   {
    "duration": 11,
    "start_time": "2024-04-11T09:15:50.590Z"
   },
   {
    "duration": 29,
    "start_time": "2024-04-11T09:15:50.602Z"
   },
   {
    "duration": 17,
    "start_time": "2024-04-11T09:15:50.634Z"
   },
   {
    "duration": 30,
    "start_time": "2024-04-11T09:15:50.654Z"
   },
   {
    "duration": 9,
    "start_time": "2024-04-11T09:15:50.687Z"
   },
   {
    "duration": 25,
    "start_time": "2024-04-11T09:15:50.698Z"
   },
   {
    "duration": 28,
    "start_time": "2024-04-11T09:15:50.725Z"
   },
   {
    "duration": 10,
    "start_time": "2024-04-11T09:15:50.755Z"
   },
   {
    "duration": 55,
    "start_time": "2024-04-11T09:15:50.767Z"
   },
   {
    "duration": 40,
    "start_time": "2024-04-11T09:15:50.823Z"
   },
   {
    "duration": 20,
    "start_time": "2024-04-11T09:15:50.864Z"
   },
   {
    "duration": 47,
    "start_time": "2024-04-11T09:15:50.885Z"
   },
   {
    "duration": 9,
    "start_time": "2024-04-11T09:15:50.933Z"
   },
   {
    "duration": 409,
    "start_time": "2024-04-11T09:15:50.943Z"
   },
   {
    "duration": 338,
    "start_time": "2024-04-11T09:15:51.354Z"
   },
   {
    "duration": 14,
    "start_time": "2024-04-11T09:15:51.695Z"
   },
   {
    "duration": 341,
    "start_time": "2024-04-11T09:15:51.711Z"
   },
   {
    "duration": 33,
    "start_time": "2024-04-11T09:15:52.054Z"
   },
   {
    "duration": 598,
    "start_time": "2024-04-11T09:15:52.088Z"
   },
   {
    "duration": 32,
    "start_time": "2024-04-11T09:15:52.688Z"
   },
   {
    "duration": 321,
    "start_time": "2024-04-11T09:15:52.722Z"
   },
   {
    "duration": 1716,
    "start_time": "2024-04-11T09:15:53.045Z"
   },
   {
    "duration": 11,
    "start_time": "2024-04-11T09:15:54.765Z"
   },
   {
    "duration": 12,
    "start_time": "2024-04-11T09:15:54.778Z"
   },
   {
    "duration": 11,
    "start_time": "2024-04-11T09:15:54.791Z"
   },
   {
    "duration": 10,
    "start_time": "2024-04-11T09:15:54.804Z"
   },
   {
    "duration": 9,
    "start_time": "2024-04-11T09:15:54.816Z"
   },
   {
    "duration": 11,
    "start_time": "2024-04-11T09:15:54.827Z"
   },
   {
    "duration": 320,
    "start_time": "2024-04-11T09:15:54.840Z"
   },
   {
    "duration": 325,
    "start_time": "2024-04-11T09:15:55.162Z"
   },
   {
    "duration": 15,
    "start_time": "2024-04-11T09:15:55.489Z"
   },
   {
    "duration": 15,
    "start_time": "2024-04-11T09:15:55.505Z"
   },
   {
    "duration": 132,
    "start_time": "2024-04-11T09:15:55.522Z"
   },
   {
    "duration": 1659,
    "start_time": "2024-04-11T09:16:59.446Z"
   },
   {
    "duration": 19,
    "start_time": "2024-04-11T09:19:48.123Z"
   },
   {
    "duration": 299,
    "start_time": "2024-04-11T09:22:42.182Z"
   },
   {
    "duration": 367,
    "start_time": "2024-04-11T09:24:10.698Z"
   },
   {
    "duration": 367,
    "start_time": "2024-04-11T09:25:17.085Z"
   },
   {
    "duration": 19,
    "start_time": "2024-04-11T09:26:13.891Z"
   },
   {
    "duration": 396,
    "start_time": "2024-04-11T09:26:15.660Z"
   },
   {
    "duration": 27,
    "start_time": "2024-04-11T09:26:38.503Z"
   },
   {
    "duration": 429,
    "start_time": "2024-04-11T09:26:39.847Z"
   },
   {
    "duration": 21,
    "start_time": "2024-04-11T09:34:22.943Z"
   },
   {
    "duration": 387,
    "start_time": "2024-04-11T09:37:03.709Z"
   },
   {
    "duration": 15,
    "start_time": "2024-04-11T09:50:16.355Z"
   },
   {
    "duration": 20,
    "start_time": "2024-04-11T09:56:10.345Z"
   },
   {
    "duration": 358,
    "start_time": "2024-04-11T09:57:35.315Z"
   },
   {
    "duration": 17,
    "start_time": "2024-04-11T10:27:11.714Z"
   },
   {
    "duration": 12,
    "start_time": "2024-04-11T10:27:30.194Z"
   },
   {
    "duration": 15,
    "start_time": "2024-04-11T10:27:34.549Z"
   },
   {
    "duration": 13,
    "start_time": "2024-04-11T10:27:46.925Z"
   },
   {
    "duration": 47,
    "start_time": "2024-04-11T10:27:56.140Z"
   },
   {
    "duration": 67,
    "start_time": "2024-04-11T14:57:04.926Z"
   },
   {
    "duration": 6,
    "start_time": "2024-04-11T14:57:11.857Z"
   },
   {
    "duration": 1519,
    "start_time": "2024-04-11T14:57:16.965Z"
   },
   {
    "duration": 225,
    "start_time": "2024-04-11T14:57:18.486Z"
   },
   {
    "duration": 25,
    "start_time": "2024-04-11T14:57:18.713Z"
   },
   {
    "duration": 48,
    "start_time": "2024-04-11T14:57:18.740Z"
   },
   {
    "duration": 22,
    "start_time": "2024-04-11T14:57:18.790Z"
   },
   {
    "duration": 12,
    "start_time": "2024-04-11T14:57:18.813Z"
   },
   {
    "duration": 16,
    "start_time": "2024-04-11T14:57:18.827Z"
   },
   {
    "duration": 30,
    "start_time": "2024-04-11T14:57:18.845Z"
   },
   {
    "duration": 14,
    "start_time": "2024-04-11T14:57:18.877Z"
   },
   {
    "duration": 9,
    "start_time": "2024-04-11T14:57:18.894Z"
   },
   {
    "duration": 23,
    "start_time": "2024-04-11T14:57:18.905Z"
   },
   {
    "duration": 44,
    "start_time": "2024-04-11T14:57:18.930Z"
   },
   {
    "duration": 16,
    "start_time": "2024-04-11T14:57:18.976Z"
   },
   {
    "duration": 35,
    "start_time": "2024-04-11T14:57:18.994Z"
   },
   {
    "duration": 23,
    "start_time": "2024-04-11T14:57:19.031Z"
   },
   {
    "duration": 28,
    "start_time": "2024-04-11T14:57:19.056Z"
   },
   {
    "duration": 37,
    "start_time": "2024-04-11T14:57:19.086Z"
   },
   {
    "duration": 9,
    "start_time": "2024-04-11T14:57:19.125Z"
   },
   {
    "duration": 439,
    "start_time": "2024-04-11T14:57:19.136Z"
   },
   {
    "duration": 353,
    "start_time": "2024-04-11T14:57:19.577Z"
   },
   {
    "duration": 13,
    "start_time": "2024-04-11T14:57:19.932Z"
   },
   {
    "duration": 338,
    "start_time": "2024-04-11T14:57:19.946Z"
   },
   {
    "duration": 25,
    "start_time": "2024-04-11T14:57:20.285Z"
   },
   {
    "duration": 602,
    "start_time": "2024-04-11T14:57:20.312Z"
   },
   {
    "duration": 63,
    "start_time": "2024-04-11T14:57:20.916Z"
   },
   {
    "duration": 348,
    "start_time": "2024-04-11T14:57:20.981Z"
   },
   {
    "duration": 1788,
    "start_time": "2024-04-11T14:57:21.330Z"
   },
   {
    "duration": 13,
    "start_time": "2024-04-11T14:57:23.121Z"
   },
   {
    "duration": 29,
    "start_time": "2024-04-11T14:57:23.136Z"
   },
   {
    "duration": 12,
    "start_time": "2024-04-11T14:57:23.167Z"
   },
   {
    "duration": 50,
    "start_time": "2024-04-11T14:57:23.181Z"
   },
   {
    "duration": 37,
    "start_time": "2024-04-11T14:57:23.233Z"
   },
   {
    "duration": 26,
    "start_time": "2024-04-11T14:57:23.272Z"
   },
   {
    "duration": 231,
    "start_time": "2024-04-11T14:57:23.299Z"
   },
   {
    "duration": 484,
    "start_time": "2024-04-11T14:57:23.533Z"
   },
   {
    "duration": 24,
    "start_time": "2024-04-11T14:57:24.019Z"
   },
   {
    "duration": 39,
    "start_time": "2024-04-11T14:57:24.045Z"
   },
   {
    "duration": 389,
    "start_time": "2024-04-11T14:57:24.086Z"
   },
   {
    "duration": 27,
    "start_time": "2024-04-11T14:57:24.476Z"
   },
   {
    "duration": 401,
    "start_time": "2024-04-11T14:57:24.505Z"
   },
   {
    "duration": 29,
    "start_time": "2024-04-11T14:57:24.907Z"
   },
   {
    "duration": 408,
    "start_time": "2024-04-11T14:57:24.939Z"
   },
   {
    "duration": 25,
    "start_time": "2024-04-11T14:57:25.349Z"
   },
   {
    "duration": 178,
    "start_time": "2024-04-11T14:57:25.376Z"
   },
   {
    "duration": 12,
    "start_time": "2024-04-11T14:57:34.910Z"
   },
   {
    "duration": 14,
    "start_time": "2024-04-11T14:59:22.554Z"
   },
   {
    "duration": 1337,
    "start_time": "2024-04-11T15:00:12.409Z"
   },
   {
    "duration": 96,
    "start_time": "2024-04-11T15:00:13.749Z"
   },
   {
    "duration": 17,
    "start_time": "2024-04-11T15:00:13.847Z"
   },
   {
    "duration": 25,
    "start_time": "2024-04-11T15:00:13.872Z"
   },
   {
    "duration": 26,
    "start_time": "2024-04-11T15:00:13.899Z"
   },
   {
    "duration": 26,
    "start_time": "2024-04-11T15:00:13.926Z"
   },
   {
    "duration": 38,
    "start_time": "2024-04-11T15:00:13.954Z"
   },
   {
    "duration": 11,
    "start_time": "2024-04-11T15:00:13.994Z"
   },
   {
    "duration": 22,
    "start_time": "2024-04-11T15:00:14.007Z"
   },
   {
    "duration": 11,
    "start_time": "2024-04-11T15:00:14.033Z"
   },
   {
    "duration": 12,
    "start_time": "2024-04-11T15:00:14.073Z"
   },
   {
    "duration": 25,
    "start_time": "2024-04-11T15:00:14.087Z"
   },
   {
    "duration": 9,
    "start_time": "2024-04-11T15:00:14.114Z"
   },
   {
    "duration": 34,
    "start_time": "2024-04-11T15:00:14.125Z"
   },
   {
    "duration": 23,
    "start_time": "2024-04-11T15:00:14.162Z"
   },
   {
    "duration": 21,
    "start_time": "2024-04-11T15:00:14.187Z"
   },
   {
    "duration": 26,
    "start_time": "2024-04-11T15:00:14.210Z"
   },
   {
    "duration": 37,
    "start_time": "2024-04-11T15:00:14.238Z"
   },
   {
    "duration": 419,
    "start_time": "2024-04-11T15:00:14.278Z"
   },
   {
    "duration": 341,
    "start_time": "2024-04-11T15:00:14.699Z"
   },
   {
    "duration": 18,
    "start_time": "2024-04-11T15:00:15.043Z"
   },
   {
    "duration": 349,
    "start_time": "2024-04-11T15:00:15.063Z"
   },
   {
    "duration": 26,
    "start_time": "2024-04-11T15:00:15.414Z"
   },
   {
    "duration": 654,
    "start_time": "2024-04-11T15:00:15.442Z"
   },
   {
    "duration": 40,
    "start_time": "2024-04-11T15:00:16.098Z"
   },
   {
    "duration": 335,
    "start_time": "2024-04-11T15:00:16.140Z"
   },
   {
    "duration": 1884,
    "start_time": "2024-04-11T15:00:16.477Z"
   },
   {
    "duration": 16,
    "start_time": "2024-04-11T15:00:18.366Z"
   },
   {
    "duration": 24,
    "start_time": "2024-04-11T15:00:18.384Z"
   },
   {
    "duration": 14,
    "start_time": "2024-04-11T15:00:18.410Z"
   },
   {
    "duration": 11,
    "start_time": "2024-04-11T15:00:18.427Z"
   },
   {
    "duration": 26,
    "start_time": "2024-04-11T15:00:18.439Z"
   },
   {
    "duration": 9,
    "start_time": "2024-04-11T15:00:18.472Z"
   },
   {
    "duration": 211,
    "start_time": "2024-04-11T15:00:18.483Z"
   },
   {
    "duration": 432,
    "start_time": "2024-04-11T15:00:18.697Z"
   },
   {
    "duration": 15,
    "start_time": "2024-04-11T15:00:19.131Z"
   },
   {
    "duration": 37,
    "start_time": "2024-04-11T15:00:19.148Z"
   },
   {
    "duration": 376,
    "start_time": "2024-04-11T15:00:19.187Z"
   },
   {
    "duration": 33,
    "start_time": "2024-04-11T15:00:19.565Z"
   },
   {
    "duration": 401,
    "start_time": "2024-04-11T15:00:19.600Z"
   },
   {
    "duration": 21,
    "start_time": "2024-04-11T15:00:20.003Z"
   },
   {
    "duration": 381,
    "start_time": "2024-04-11T15:00:20.026Z"
   },
   {
    "duration": 12,
    "start_time": "2024-04-11T15:00:20.409Z"
   },
   {
    "duration": 26,
    "start_time": "2024-04-11T15:00:20.422Z"
   },
   {
    "duration": 24,
    "start_time": "2024-04-11T15:00:20.450Z"
   },
   {
    "duration": 16,
    "start_time": "2024-04-11T15:03:46.969Z"
   },
   {
    "duration": 12,
    "start_time": "2024-04-11T15:03:48.378Z"
   },
   {
    "duration": 6,
    "start_time": "2024-04-11T15:07:40.903Z"
   },
   {
    "duration": 1079,
    "start_time": "2024-04-11T15:54:56.699Z"
   },
   {
    "duration": 69,
    "start_time": "2024-04-11T15:54:57.780Z"
   },
   {
    "duration": 15,
    "start_time": "2024-04-11T15:54:57.851Z"
   },
   {
    "duration": 19,
    "start_time": "2024-04-11T15:54:57.868Z"
   },
   {
    "duration": 15,
    "start_time": "2024-04-11T15:54:57.888Z"
   },
   {
    "duration": 8,
    "start_time": "2024-04-11T15:54:57.904Z"
   },
   {
    "duration": 17,
    "start_time": "2024-04-11T15:54:57.914Z"
   },
   {
    "duration": 30,
    "start_time": "2024-04-11T15:54:57.932Z"
   },
   {
    "duration": 10,
    "start_time": "2024-04-11T15:54:57.964Z"
   },
   {
    "duration": 7,
    "start_time": "2024-04-11T15:54:57.977Z"
   },
   {
    "duration": 9,
    "start_time": "2024-04-11T15:54:57.985Z"
   },
   {
    "duration": 8,
    "start_time": "2024-04-11T15:54:57.995Z"
   },
   {
    "duration": 4,
    "start_time": "2024-04-11T15:54:58.004Z"
   },
   {
    "duration": 14,
    "start_time": "2024-04-11T15:54:58.010Z"
   },
   {
    "duration": 41,
    "start_time": "2024-04-11T15:54:58.025Z"
   },
   {
    "duration": 17,
    "start_time": "2024-04-11T15:54:58.067Z"
   },
   {
    "duration": 19,
    "start_time": "2024-04-11T15:54:58.086Z"
   },
   {
    "duration": 11,
    "start_time": "2024-04-11T15:54:58.107Z"
   },
   {
    "duration": 353,
    "start_time": "2024-04-11T15:54:58.119Z"
   },
   {
    "duration": 287,
    "start_time": "2024-04-11T15:54:58.474Z"
   },
   {
    "duration": 12,
    "start_time": "2024-04-11T15:54:58.763Z"
   },
   {
    "duration": 269,
    "start_time": "2024-04-11T15:54:58.776Z"
   },
   {
    "duration": 23,
    "start_time": "2024-04-11T15:54:59.047Z"
   },
   {
    "duration": 497,
    "start_time": "2024-04-11T15:54:59.072Z"
   },
   {
    "duration": 27,
    "start_time": "2024-04-11T15:54:59.570Z"
   },
   {
    "duration": 275,
    "start_time": "2024-04-11T15:54:59.599Z"
   },
   {
    "duration": 1416,
    "start_time": "2024-04-11T15:54:59.876Z"
   },
   {
    "duration": 12,
    "start_time": "2024-04-11T15:55:01.294Z"
   },
   {
    "duration": 59,
    "start_time": "2024-04-11T15:55:01.307Z"
   },
   {
    "duration": 48,
    "start_time": "2024-04-11T15:55:01.368Z"
   },
   {
    "duration": 22,
    "start_time": "2024-04-11T15:55:01.417Z"
   },
   {
    "duration": 66,
    "start_time": "2024-04-11T15:55:01.440Z"
   },
   {
    "duration": 53,
    "start_time": "2024-04-11T15:55:01.507Z"
   },
   {
    "duration": 197,
    "start_time": "2024-04-11T15:55:01.561Z"
   },
   {
    "duration": 379,
    "start_time": "2024-04-11T15:55:01.759Z"
   },
   {
    "duration": 22,
    "start_time": "2024-04-11T15:55:02.140Z"
   },
   {
    "duration": 37,
    "start_time": "2024-04-11T15:55:02.163Z"
   },
   {
    "duration": 337,
    "start_time": "2024-04-11T15:55:02.202Z"
   },
   {
    "duration": 22,
    "start_time": "2024-04-11T15:55:02.541Z"
   },
   {
    "duration": 322,
    "start_time": "2024-04-11T15:55:02.564Z"
   },
   {
    "duration": 17,
    "start_time": "2024-04-11T15:55:02.888Z"
   },
   {
    "duration": 307,
    "start_time": "2024-04-11T15:55:02.907Z"
   },
   {
    "duration": 9,
    "start_time": "2024-04-11T15:55:03.216Z"
   },
   {
    "duration": 44,
    "start_time": "2024-04-11T15:55:03.227Z"
   },
   {
    "duration": 12,
    "start_time": "2024-04-11T15:55:03.273Z"
   },
   {
    "duration": 12,
    "start_time": "2024-04-11T15:55:03.287Z"
   },
   {
    "duration": 9,
    "start_time": "2024-04-11T15:55:03.300Z"
   },
   {
    "duration": 22,
    "start_time": "2024-04-11T15:55:03.310Z"
   },
   {
    "duration": 105,
    "start_time": "2024-04-11T16:42:40.623Z"
   },
   {
    "duration": 24,
    "start_time": "2024-04-11T16:45:44.887Z"
   },
   {
    "duration": 112,
    "start_time": "2024-04-12T13:17:00.182Z"
   },
   {
    "duration": 1469,
    "start_time": "2024-04-12T13:17:07.188Z"
   },
   {
    "duration": 148,
    "start_time": "2024-04-12T13:17:08.661Z"
   },
   {
    "duration": 27,
    "start_time": "2024-04-12T13:17:08.811Z"
   },
   {
    "duration": 26,
    "start_time": "2024-04-12T13:17:08.842Z"
   },
   {
    "duration": 27,
    "start_time": "2024-04-12T13:17:08.870Z"
   },
   {
    "duration": 17,
    "start_time": "2024-04-12T13:17:08.918Z"
   },
   {
    "duration": 13,
    "start_time": "2024-04-12T13:17:08.937Z"
   },
   {
    "duration": 15,
    "start_time": "2024-04-12T13:17:08.952Z"
   },
   {
    "duration": 8,
    "start_time": "2024-04-12T13:17:08.969Z"
   },
   {
    "duration": 52,
    "start_time": "2024-04-12T13:17:08.980Z"
   },
   {
    "duration": 9,
    "start_time": "2024-04-12T13:17:09.034Z"
   },
   {
    "duration": 15,
    "start_time": "2024-04-12T13:17:09.045Z"
   },
   {
    "duration": 10,
    "start_time": "2024-04-12T13:17:09.062Z"
   },
   {
    "duration": 6,
    "start_time": "2024-04-12T13:17:09.073Z"
   },
   {
    "duration": 51,
    "start_time": "2024-04-12T13:17:09.080Z"
   },
   {
    "duration": 18,
    "start_time": "2024-04-12T13:17:09.133Z"
   },
   {
    "duration": 19,
    "start_time": "2024-04-12T13:17:09.153Z"
   },
   {
    "duration": 55,
    "start_time": "2024-04-12T13:17:09.174Z"
   },
   {
    "duration": 118,
    "start_time": "2024-04-12T13:17:09.231Z"
   },
   {
    "duration": 10,
    "start_time": "2024-04-12T13:17:09.350Z"
   },
   {
    "duration": 412,
    "start_time": "2024-04-12T13:17:09.362Z"
   },
   {
    "duration": 366,
    "start_time": "2024-04-12T13:17:09.776Z"
   },
   {
    "duration": 15,
    "start_time": "2024-04-12T13:17:10.144Z"
   },
   {
    "duration": 382,
    "start_time": "2024-04-12T13:17:10.161Z"
   },
   {
    "duration": 29,
    "start_time": "2024-04-12T13:17:10.545Z"
   },
   {
    "duration": 51,
    "start_time": "2024-04-12T13:17:10.575Z"
   },
   {
    "duration": 616,
    "start_time": "2024-04-12T13:17:10.627Z"
   },
   {
    "duration": 34,
    "start_time": "2024-04-12T13:17:11.247Z"
   },
   {
    "duration": 335,
    "start_time": "2024-04-12T13:17:11.283Z"
   },
   {
    "duration": 1817,
    "start_time": "2024-04-12T13:17:11.626Z"
   },
   {
    "duration": 12,
    "start_time": "2024-04-12T13:17:13.445Z"
   },
   {
    "duration": 12,
    "start_time": "2024-04-12T13:17:13.459Z"
   },
   {
    "duration": 13,
    "start_time": "2024-04-12T13:17:13.473Z"
   },
   {
    "duration": 30,
    "start_time": "2024-04-12T13:17:13.495Z"
   },
   {
    "duration": 9,
    "start_time": "2024-04-12T13:17:13.532Z"
   },
   {
    "duration": 12,
    "start_time": "2024-04-12T13:17:13.543Z"
   },
   {
    "duration": 208,
    "start_time": "2024-04-12T13:17:13.557Z"
   },
   {
    "duration": 442,
    "start_time": "2024-04-12T13:17:13.766Z"
   },
   {
    "duration": 19,
    "start_time": "2024-04-12T13:17:14.214Z"
   },
   {
    "duration": 38,
    "start_time": "2024-04-12T13:17:14.235Z"
   },
   {
    "duration": 373,
    "start_time": "2024-04-12T13:17:14.274Z"
   },
   {
    "duration": 20,
    "start_time": "2024-04-12T13:17:14.649Z"
   },
   {
    "duration": 472,
    "start_time": "2024-04-12T13:17:14.671Z"
   },
   {
    "duration": 20,
    "start_time": "2024-04-12T13:17:15.145Z"
   },
   {
    "duration": 389,
    "start_time": "2024-04-12T13:17:15.168Z"
   },
   {
    "duration": 11,
    "start_time": "2024-04-12T13:17:15.559Z"
   },
   {
    "duration": 11,
    "start_time": "2024-04-12T13:17:15.572Z"
   },
   {
    "duration": 40,
    "start_time": "2024-04-12T13:17:15.584Z"
   },
   {
    "duration": 13,
    "start_time": "2024-04-12T13:17:15.629Z"
   },
   {
    "duration": 10,
    "start_time": "2024-04-12T13:17:15.644Z"
   },
   {
    "duration": 5,
    "start_time": "2024-04-12T13:17:15.656Z"
   },
   {
    "duration": 28,
    "start_time": "2024-04-12T13:18:49.314Z"
   },
   {
    "duration": 39,
    "start_time": "2024-04-12T13:19:37.944Z"
   },
   {
    "duration": 29,
    "start_time": "2024-04-12T13:19:57.036Z"
   },
   {
    "duration": 18,
    "start_time": "2024-04-12T13:20:06.514Z"
   },
   {
    "duration": 10,
    "start_time": "2024-04-12T13:23:04.791Z"
   },
   {
    "duration": 9,
    "start_time": "2024-04-12T13:23:38.998Z"
   },
   {
    "duration": 1308,
    "start_time": "2024-04-12T13:55:25.352Z"
   },
   {
    "duration": 87,
    "start_time": "2024-04-12T13:55:26.662Z"
   },
   {
    "duration": 15,
    "start_time": "2024-04-12T13:55:26.751Z"
   },
   {
    "duration": 35,
    "start_time": "2024-04-12T13:55:26.770Z"
   },
   {
    "duration": 33,
    "start_time": "2024-04-12T13:55:26.815Z"
   },
   {
    "duration": 14,
    "start_time": "2024-04-12T13:55:26.849Z"
   },
   {
    "duration": 15,
    "start_time": "2024-04-12T13:55:26.865Z"
   },
   {
    "duration": 53,
    "start_time": "2024-04-12T13:55:26.882Z"
   },
   {
    "duration": 13,
    "start_time": "2024-04-12T13:55:26.937Z"
   },
   {
    "duration": 23,
    "start_time": "2024-04-12T13:55:26.955Z"
   },
   {
    "duration": 15,
    "start_time": "2024-04-12T13:55:26.981Z"
   },
   {
    "duration": 36,
    "start_time": "2024-04-12T13:55:26.999Z"
   },
   {
    "duration": 12,
    "start_time": "2024-04-12T13:55:27.038Z"
   },
   {
    "duration": 18,
    "start_time": "2024-04-12T13:55:27.052Z"
   },
   {
    "duration": 25,
    "start_time": "2024-04-12T13:55:27.072Z"
   },
   {
    "duration": 16,
    "start_time": "2024-04-12T13:55:27.099Z"
   },
   {
    "duration": 31,
    "start_time": "2024-04-12T13:55:27.119Z"
   },
   {
    "duration": 25,
    "start_time": "2024-04-12T13:55:27.152Z"
   },
   {
    "duration": 155,
    "start_time": "2024-04-12T13:55:27.178Z"
   },
   {
    "duration": 13,
    "start_time": "2024-04-12T13:55:27.336Z"
   },
   {
    "duration": 504,
    "start_time": "2024-04-12T13:55:27.350Z"
   },
   {
    "duration": 476,
    "start_time": "2024-04-12T13:55:27.858Z"
   },
   {
    "duration": 16,
    "start_time": "2024-04-12T13:55:28.337Z"
   },
   {
    "duration": 346,
    "start_time": "2024-04-12T13:55:28.354Z"
   },
   {
    "duration": 46,
    "start_time": "2024-04-12T13:55:28.702Z"
   },
   {
    "duration": 25,
    "start_time": "2024-04-12T13:55:28.750Z"
   },
   {
    "duration": 703,
    "start_time": "2024-04-12T13:55:28.777Z"
   },
   {
    "duration": 60,
    "start_time": "2024-04-12T13:55:29.490Z"
   },
   {
    "duration": 337,
    "start_time": "2024-04-12T13:55:29.552Z"
   },
   {
    "duration": 1884,
    "start_time": "2024-04-12T13:55:29.891Z"
   },
   {
    "duration": 20,
    "start_time": "2024-04-12T13:55:31.778Z"
   },
   {
    "duration": 34,
    "start_time": "2024-04-12T13:55:31.801Z"
   },
   {
    "duration": 13,
    "start_time": "2024-04-12T13:55:31.839Z"
   },
   {
    "duration": 48,
    "start_time": "2024-04-12T13:55:31.855Z"
   },
   {
    "duration": 25,
    "start_time": "2024-04-12T13:55:31.904Z"
   },
   {
    "duration": 61,
    "start_time": "2024-04-12T13:55:31.933Z"
   },
   {
    "duration": 251,
    "start_time": "2024-04-12T13:55:31.997Z"
   },
   {
    "duration": 374,
    "start_time": "2024-04-12T13:55:32.250Z"
   },
   {
    "duration": 23,
    "start_time": "2024-04-12T13:55:32.626Z"
   },
   {
    "duration": 24,
    "start_time": "2024-04-12T13:55:32.652Z"
   },
   {
    "duration": 552,
    "start_time": "2024-04-12T13:55:32.678Z"
   },
   {
    "duration": 30,
    "start_time": "2024-04-12T13:55:33.236Z"
   },
   {
    "duration": 465,
    "start_time": "2024-04-12T13:55:33.269Z"
   },
   {
    "duration": 37,
    "start_time": "2024-04-12T13:55:33.744Z"
   },
   {
    "duration": 444,
    "start_time": "2024-04-12T13:55:33.784Z"
   },
   {
    "duration": 15,
    "start_time": "2024-04-12T13:55:34.232Z"
   },
   {
    "duration": 28,
    "start_time": "2024-04-12T13:55:34.250Z"
   },
   {
    "duration": 6,
    "start_time": "2024-04-12T13:55:34.280Z"
   },
   {
    "duration": 24,
    "start_time": "2024-04-12T13:55:34.288Z"
   },
   {
    "duration": 35,
    "start_time": "2024-04-12T13:55:34.314Z"
   },
   {
    "duration": 14,
    "start_time": "2024-04-12T13:55:34.351Z"
   },
   {
    "duration": 324,
    "start_time": "2024-04-12T14:07:53.246Z"
   },
   {
    "duration": 123,
    "start_time": "2024-04-12T14:11:24.505Z"
   },
   {
    "duration": 9,
    "start_time": "2024-04-12T14:12:04.387Z"
   },
   {
    "duration": 8,
    "start_time": "2024-04-12T14:12:09.593Z"
   },
   {
    "duration": 9,
    "start_time": "2024-04-12T14:12:58.878Z"
   },
   {
    "duration": 9,
    "start_time": "2024-04-12T14:14:36.742Z"
   },
   {
    "duration": 13,
    "start_time": "2024-04-12T14:14:54.383Z"
   },
   {
    "duration": 18,
    "start_time": "2024-04-12T14:15:47.219Z"
   },
   {
    "duration": 58,
    "start_time": "2024-04-12T14:16:18.389Z"
   },
   {
    "duration": 990,
    "start_time": "2024-04-12T14:16:22.550Z"
   },
   {
    "duration": 1001,
    "start_time": "2024-04-12T14:16:33.010Z"
   },
   {
    "duration": 1080,
    "start_time": "2024-04-12T14:16:42.646Z"
   },
   {
    "duration": 322,
    "start_time": "2024-04-12T14:19:13.751Z"
   },
   {
    "duration": 23,
    "start_time": "2024-04-12T14:25:33.708Z"
   },
   {
    "duration": 13,
    "start_time": "2024-04-12T14:25:45.074Z"
   },
   {
    "duration": 56,
    "start_time": "2024-04-12T14:29:28.677Z"
   },
   {
    "duration": 59,
    "start_time": "2024-04-12T14:31:05.310Z"
   },
   {
    "duration": 58,
    "start_time": "2024-04-12T14:31:15.031Z"
   },
   {
    "duration": 59,
    "start_time": "2024-04-12T14:31:37.771Z"
   },
   {
    "duration": 237,
    "start_time": "2024-04-12T14:33:04.158Z"
   },
   {
    "duration": 1140,
    "start_time": "2024-04-12T14:34:06.557Z"
   },
   {
    "duration": 1043,
    "start_time": "2024-04-12T14:34:49.037Z"
   },
   {
    "duration": 1118,
    "start_time": "2024-04-12T14:35:35.722Z"
   },
   {
    "duration": 1050,
    "start_time": "2024-04-12T14:43:46.979Z"
   },
   {
    "duration": 9,
    "start_time": "2024-04-12T14:48:41.001Z"
   },
   {
    "duration": 8,
    "start_time": "2024-04-12T14:48:56.548Z"
   },
   {
    "duration": 163,
    "start_time": "2024-04-12T14:50:25.595Z"
   },
   {
    "duration": 161,
    "start_time": "2024-04-12T14:50:59.982Z"
   },
   {
    "duration": 195,
    "start_time": "2024-04-12T14:51:40.639Z"
   },
   {
    "duration": 164,
    "start_time": "2024-04-12T14:52:13.500Z"
   },
   {
    "duration": 160,
    "start_time": "2024-04-12T14:52:15.731Z"
   },
   {
    "duration": 1270,
    "start_time": "2024-04-12T14:59:55.203Z"
   },
   {
    "duration": 86,
    "start_time": "2024-04-12T14:59:56.475Z"
   },
   {
    "duration": 15,
    "start_time": "2024-04-12T14:59:56.563Z"
   },
   {
    "duration": 52,
    "start_time": "2024-04-12T14:59:56.580Z"
   },
   {
    "duration": 18,
    "start_time": "2024-04-12T14:59:56.634Z"
   },
   {
    "duration": 12,
    "start_time": "2024-04-12T14:59:56.653Z"
   },
   {
    "duration": 23,
    "start_time": "2024-04-12T14:59:56.667Z"
   },
   {
    "duration": 35,
    "start_time": "2024-04-12T14:59:56.692Z"
   },
   {
    "duration": 7,
    "start_time": "2024-04-12T14:59:56.729Z"
   },
   {
    "duration": 25,
    "start_time": "2024-04-12T14:59:56.739Z"
   },
   {
    "duration": 8,
    "start_time": "2024-04-12T14:59:56.766Z"
   },
   {
    "duration": 25,
    "start_time": "2024-04-12T14:59:56.775Z"
   },
   {
    "duration": 30,
    "start_time": "2024-04-12T14:59:56.802Z"
   },
   {
    "duration": 10,
    "start_time": "2024-04-12T14:59:56.833Z"
   },
   {
    "duration": 31,
    "start_time": "2024-04-12T14:59:56.845Z"
   },
   {
    "duration": 56,
    "start_time": "2024-04-12T14:59:56.878Z"
   },
   {
    "duration": 37,
    "start_time": "2024-04-12T14:59:56.938Z"
   },
   {
    "duration": 46,
    "start_time": "2024-04-12T14:59:56.978Z"
   },
   {
    "duration": 167,
    "start_time": "2024-04-12T14:59:57.025Z"
   },
   {
    "duration": 32,
    "start_time": "2024-04-12T14:59:57.195Z"
   },
   {
    "duration": 404,
    "start_time": "2024-04-12T14:59:57.228Z"
   },
   {
    "duration": 347,
    "start_time": "2024-04-12T14:59:57.634Z"
   },
   {
    "duration": 14,
    "start_time": "2024-04-12T14:59:57.983Z"
   },
   {
    "duration": 360,
    "start_time": "2024-04-12T14:59:57.998Z"
   },
   {
    "duration": 39,
    "start_time": "2024-04-12T14:59:58.360Z"
   },
   {
    "duration": 47,
    "start_time": "2024-04-12T14:59:58.401Z"
   },
   {
    "duration": 600,
    "start_time": "2024-04-12T14:59:58.450Z"
   },
   {
    "duration": 32,
    "start_time": "2024-04-12T14:59:59.054Z"
   },
   {
    "duration": 336,
    "start_time": "2024-04-12T14:59:59.087Z"
   },
   {
    "duration": 15,
    "start_time": "2024-04-12T14:59:59.425Z"
   },
   {
    "duration": 1024,
    "start_time": "2024-04-12T14:59:59.442Z"
   },
   {
    "duration": 1172,
    "start_time": "2024-04-12T15:00:00.468Z"
   },
   {
    "duration": 8,
    "start_time": "2024-04-12T15:00:01.641Z"
   },
   {
    "duration": 181,
    "start_time": "2024-04-12T15:00:01.651Z"
   },
   {
    "duration": 9,
    "start_time": "2024-04-12T15:00:01.834Z"
   },
   {
    "duration": 218,
    "start_time": "2024-04-12T15:00:01.845Z"
   },
   {
    "duration": 209,
    "start_time": "2024-04-12T15:00:02.065Z"
   },
   {
    "duration": 331,
    "start_time": "2024-04-12T15:00:02.276Z"
   },
   {
    "duration": 24,
    "start_time": "2024-04-12T15:00:02.614Z"
   },
   {
    "duration": 52,
    "start_time": "2024-04-12T15:00:02.640Z"
   },
   {
    "duration": 384,
    "start_time": "2024-04-12T15:00:02.694Z"
   },
   {
    "duration": 20,
    "start_time": "2024-04-12T15:00:03.080Z"
   },
   {
    "duration": 402,
    "start_time": "2024-04-12T15:00:03.102Z"
   },
   {
    "duration": 31,
    "start_time": "2024-04-12T15:00:03.505Z"
   },
   {
    "duration": 438,
    "start_time": "2024-04-12T15:00:03.538Z"
   },
   {
    "duration": 11,
    "start_time": "2024-04-12T15:00:03.978Z"
   },
   {
    "duration": 32,
    "start_time": "2024-04-12T15:00:03.991Z"
   },
   {
    "duration": 11,
    "start_time": "2024-04-12T15:00:04.025Z"
   },
   {
    "duration": 12,
    "start_time": "2024-04-12T15:00:04.038Z"
   },
   {
    "duration": 12,
    "start_time": "2024-04-12T15:00:04.052Z"
   },
   {
    "duration": 5,
    "start_time": "2024-04-12T15:00:04.066Z"
   },
   {
    "duration": 1283,
    "start_time": "2024-04-12T17:01:05.171Z"
   },
   {
    "duration": 79,
    "start_time": "2024-04-12T17:01:06.456Z"
   },
   {
    "duration": 24,
    "start_time": "2024-04-12T17:01:06.536Z"
   },
   {
    "duration": 40,
    "start_time": "2024-04-12T17:01:06.562Z"
   },
   {
    "duration": 36,
    "start_time": "2024-04-12T17:01:06.605Z"
   },
   {
    "duration": 15,
    "start_time": "2024-04-12T17:01:06.643Z"
   },
   {
    "duration": 32,
    "start_time": "2024-04-12T17:01:06.660Z"
   },
   {
    "duration": 27,
    "start_time": "2024-04-12T17:01:06.694Z"
   },
   {
    "duration": 7,
    "start_time": "2024-04-12T17:01:06.723Z"
   },
   {
    "duration": 14,
    "start_time": "2024-04-12T17:01:06.732Z"
   },
   {
    "duration": 37,
    "start_time": "2024-04-12T17:01:06.747Z"
   },
   {
    "duration": 24,
    "start_time": "2024-04-12T17:01:06.786Z"
   },
   {
    "duration": 47,
    "start_time": "2024-04-12T17:01:06.811Z"
   },
   {
    "duration": 21,
    "start_time": "2024-04-12T17:01:06.861Z"
   },
   {
    "duration": 34,
    "start_time": "2024-04-12T17:01:06.883Z"
   },
   {
    "duration": 15,
    "start_time": "2024-04-12T17:01:06.919Z"
   },
   {
    "duration": 20,
    "start_time": "2024-04-12T17:01:06.935Z"
   },
   {
    "duration": 33,
    "start_time": "2024-04-12T17:01:06.956Z"
   },
   {
    "duration": 119,
    "start_time": "2024-04-12T17:01:06.991Z"
   },
   {
    "duration": 8,
    "start_time": "2024-04-12T17:01:07.112Z"
   },
   {
    "duration": 421,
    "start_time": "2024-04-12T17:01:07.122Z"
   },
   {
    "duration": 341,
    "start_time": "2024-04-12T17:01:07.544Z"
   },
   {
    "duration": 14,
    "start_time": "2024-04-12T17:01:07.888Z"
   },
   {
    "duration": 358,
    "start_time": "2024-04-12T17:01:07.904Z"
   },
   {
    "duration": 39,
    "start_time": "2024-04-12T17:01:08.263Z"
   },
   {
    "duration": 24,
    "start_time": "2024-04-12T17:01:08.303Z"
   },
   {
    "duration": 569,
    "start_time": "2024-04-12T17:01:08.329Z"
   },
   {
    "duration": 33,
    "start_time": "2024-04-12T17:01:08.899Z"
   },
   {
    "duration": 317,
    "start_time": "2024-04-12T17:01:08.934Z"
   },
   {
    "duration": 12,
    "start_time": "2024-04-12T17:01:09.253Z"
   },
   {
    "duration": 1045,
    "start_time": "2024-04-12T17:01:09.266Z"
   },
   {
    "duration": 1091,
    "start_time": "2024-04-12T17:01:10.312Z"
   },
   {
    "duration": 10,
    "start_time": "2024-04-12T17:01:11.406Z"
   },
   {
    "duration": 200,
    "start_time": "2024-04-12T17:01:11.418Z"
   },
   {
    "duration": 10,
    "start_time": "2024-04-12T17:01:11.621Z"
   },
   {
    "duration": 175,
    "start_time": "2024-04-12T17:01:11.632Z"
   },
   {
    "duration": 204,
    "start_time": "2024-04-12T17:01:11.809Z"
   },
   {
    "duration": 339,
    "start_time": "2024-04-12T17:01:12.015Z"
   },
   {
    "duration": 14,
    "start_time": "2024-04-12T17:01:12.356Z"
   },
   {
    "duration": 30,
    "start_time": "2024-04-12T17:01:12.371Z"
   },
   {
    "duration": 401,
    "start_time": "2024-04-12T17:01:12.406Z"
   },
   {
    "duration": 27,
    "start_time": "2024-04-12T17:01:12.809Z"
   },
   {
    "duration": 449,
    "start_time": "2024-04-12T17:01:12.838Z"
   },
   {
    "duration": 23,
    "start_time": "2024-04-12T17:01:13.289Z"
   },
   {
    "duration": 444,
    "start_time": "2024-04-12T17:01:13.314Z"
   },
   {
    "duration": 20,
    "start_time": "2024-04-12T17:01:13.760Z"
   },
   {
    "duration": 11,
    "start_time": "2024-04-12T17:01:13.782Z"
   },
   {
    "duration": 29,
    "start_time": "2024-04-12T17:01:13.794Z"
   },
   {
    "duration": 16,
    "start_time": "2024-04-12T17:01:13.826Z"
   },
   {
    "duration": 10,
    "start_time": "2024-04-12T17:01:13.844Z"
   },
   {
    "duration": 6,
    "start_time": "2024-04-12T17:01:13.856Z"
   },
   {
    "duration": 1454,
    "start_time": "2024-04-13T09:06:54.989Z"
   },
   {
    "duration": 212,
    "start_time": "2024-04-13T09:06:56.445Z"
   },
   {
    "duration": 17,
    "start_time": "2024-04-13T09:06:56.658Z"
   },
   {
    "duration": 21,
    "start_time": "2024-04-13T09:06:56.677Z"
   },
   {
    "duration": 16,
    "start_time": "2024-04-13T09:06:56.699Z"
   },
   {
    "duration": 10,
    "start_time": "2024-04-13T09:06:56.716Z"
   },
   {
    "duration": 14,
    "start_time": "2024-04-13T09:06:56.728Z"
   },
   {
    "duration": 9,
    "start_time": "2024-04-13T09:06:56.744Z"
   },
   {
    "duration": 47,
    "start_time": "2024-04-13T09:06:56.755Z"
   },
   {
    "duration": 7,
    "start_time": "2024-04-13T09:06:56.804Z"
   },
   {
    "duration": 18,
    "start_time": "2024-04-13T09:06:56.813Z"
   },
   {
    "duration": 9,
    "start_time": "2024-04-13T09:06:56.832Z"
   },
   {
    "duration": 13,
    "start_time": "2024-04-13T09:06:56.842Z"
   },
   {
    "duration": 10,
    "start_time": "2024-04-13T09:06:56.857Z"
   },
   {
    "duration": 5,
    "start_time": "2024-04-13T09:06:56.892Z"
   },
   {
    "duration": 13,
    "start_time": "2024-04-13T09:06:56.899Z"
   },
   {
    "duration": 14,
    "start_time": "2024-04-13T09:06:56.913Z"
   },
   {
    "duration": 19,
    "start_time": "2024-04-13T09:06:56.929Z"
   },
   {
    "duration": 53,
    "start_time": "2024-04-13T09:06:56.949Z"
   },
   {
    "duration": 115,
    "start_time": "2024-04-13T09:06:57.004Z"
   },
   {
    "duration": 7,
    "start_time": "2024-04-13T09:06:57.120Z"
   },
   {
    "duration": 391,
    "start_time": "2024-04-13T09:06:57.129Z"
   },
   {
    "duration": 352,
    "start_time": "2024-04-13T09:06:57.522Z"
   },
   {
    "duration": 18,
    "start_time": "2024-04-13T09:06:57.875Z"
   },
   {
    "duration": 319,
    "start_time": "2024-04-13T09:06:57.894Z"
   },
   {
    "duration": 30,
    "start_time": "2024-04-13T09:06:58.214Z"
   },
   {
    "duration": 25,
    "start_time": "2024-04-13T09:06:58.245Z"
   },
   {
    "duration": 573,
    "start_time": "2024-04-13T09:06:58.291Z"
   },
   {
    "duration": 50,
    "start_time": "2024-04-13T09:06:58.865Z"
   },
   {
    "duration": 313,
    "start_time": "2024-04-13T09:06:58.917Z"
   },
   {
    "duration": 14,
    "start_time": "2024-04-13T09:06:59.232Z"
   },
   {
    "duration": 1167,
    "start_time": "2024-04-13T09:06:59.248Z"
   },
   {
    "duration": 1120,
    "start_time": "2024-04-13T09:07:00.417Z"
   },
   {
    "duration": 10,
    "start_time": "2024-04-13T09:07:01.540Z"
   },
   {
    "duration": 243,
    "start_time": "2024-04-13T09:07:01.551Z"
   },
   {
    "duration": 19,
    "start_time": "2024-04-13T09:07:01.795Z"
   },
   {
    "duration": 333,
    "start_time": "2024-04-13T09:07:01.816Z"
   },
   {
    "duration": 227,
    "start_time": "2024-04-13T09:07:02.150Z"
   },
   {
    "duration": 354,
    "start_time": "2024-04-13T09:07:02.379Z"
   },
   {
    "duration": 17,
    "start_time": "2024-04-13T09:07:02.736Z"
   },
   {
    "duration": 49,
    "start_time": "2024-04-13T09:07:02.755Z"
   },
   {
    "duration": 452,
    "start_time": "2024-04-13T09:07:02.806Z"
   },
   {
    "duration": 20,
    "start_time": "2024-04-13T09:07:03.260Z"
   },
   {
    "duration": 408,
    "start_time": "2024-04-13T09:07:03.294Z"
   },
   {
    "duration": 21,
    "start_time": "2024-04-13T09:07:03.704Z"
   },
   {
    "duration": 465,
    "start_time": "2024-04-13T09:07:03.727Z"
   },
   {
    "duration": 11,
    "start_time": "2024-04-13T09:07:04.194Z"
   },
   {
    "duration": 13,
    "start_time": "2024-04-13T09:07:04.207Z"
   },
   {
    "duration": 8,
    "start_time": "2024-04-13T09:07:04.222Z"
   },
   {
    "duration": 23,
    "start_time": "2024-04-13T09:07:04.232Z"
   },
   {
    "duration": 38,
    "start_time": "2024-04-13T09:07:04.258Z"
   },
   {
    "duration": 5,
    "start_time": "2024-04-13T09:07:04.299Z"
   },
   {
    "duration": 1240,
    "start_time": "2024-04-13T09:12:56.167Z"
   },
   {
    "duration": 74,
    "start_time": "2024-04-13T09:12:57.409Z"
   },
   {
    "duration": 15,
    "start_time": "2024-04-13T09:12:57.485Z"
   },
   {
    "duration": 22,
    "start_time": "2024-04-13T09:12:57.502Z"
   },
   {
    "duration": 20,
    "start_time": "2024-04-13T09:12:57.526Z"
   },
   {
    "duration": 10,
    "start_time": "2024-04-13T09:12:57.548Z"
   },
   {
    "duration": 36,
    "start_time": "2024-04-13T09:12:57.560Z"
   },
   {
    "duration": 11,
    "start_time": "2024-04-13T09:12:57.598Z"
   },
   {
    "duration": 20,
    "start_time": "2024-04-13T09:12:57.611Z"
   },
   {
    "duration": 9,
    "start_time": "2024-04-13T09:12:57.635Z"
   },
   {
    "duration": 49,
    "start_time": "2024-04-13T09:12:57.646Z"
   },
   {
    "duration": 8,
    "start_time": "2024-04-13T09:12:57.697Z"
   },
   {
    "duration": 8,
    "start_time": "2024-04-13T09:12:57.706Z"
   },
   {
    "duration": 17,
    "start_time": "2024-04-13T09:12:57.716Z"
   },
   {
    "duration": 5,
    "start_time": "2024-04-13T09:12:57.734Z"
   },
   {
    "duration": 21,
    "start_time": "2024-04-13T09:12:57.740Z"
   },
   {
    "duration": 31,
    "start_time": "2024-04-13T09:12:57.763Z"
   },
   {
    "duration": 18,
    "start_time": "2024-04-13T09:12:57.796Z"
   },
   {
    "duration": 26,
    "start_time": "2024-04-13T09:12:57.816Z"
   },
   {
    "duration": 122,
    "start_time": "2024-04-13T09:12:57.844Z"
   },
   {
    "duration": 8,
    "start_time": "2024-04-13T09:12:57.967Z"
   },
   {
    "duration": 406,
    "start_time": "2024-04-13T09:12:57.991Z"
   },
   {
    "duration": 321,
    "start_time": "2024-04-13T09:12:58.398Z"
   },
   {
    "duration": 12,
    "start_time": "2024-04-13T09:12:58.721Z"
   },
   {
    "duration": 307,
    "start_time": "2024-04-13T09:12:58.735Z"
   },
   {
    "duration": 26,
    "start_time": "2024-04-13T09:12:59.044Z"
   },
   {
    "duration": 39,
    "start_time": "2024-04-13T09:12:59.072Z"
   },
   {
    "duration": 503,
    "start_time": "2024-04-13T09:12:59.116Z"
   },
   {
    "duration": 31,
    "start_time": "2024-04-13T09:12:59.621Z"
   },
   {
    "duration": 346,
    "start_time": "2024-04-13T09:12:59.655Z"
   },
   {
    "duration": 13,
    "start_time": "2024-04-13T09:13:00.003Z"
   },
   {
    "duration": 1144,
    "start_time": "2024-04-13T09:13:00.018Z"
   },
   {
    "duration": 1065,
    "start_time": "2024-04-13T09:13:01.164Z"
   },
   {
    "duration": 8,
    "start_time": "2024-04-13T09:13:02.231Z"
   },
   {
    "duration": 195,
    "start_time": "2024-04-13T09:13:02.241Z"
   },
   {
    "duration": 8,
    "start_time": "2024-04-13T09:13:02.438Z"
   },
   {
    "duration": 216,
    "start_time": "2024-04-13T09:13:02.448Z"
   },
   {
    "duration": 210,
    "start_time": "2024-04-13T09:13:02.667Z"
   },
   {
    "duration": 318,
    "start_time": "2024-04-13T09:13:02.879Z"
   },
   {
    "duration": 15,
    "start_time": "2024-04-13T09:13:03.198Z"
   },
   {
    "duration": 38,
    "start_time": "2024-04-13T09:13:03.214Z"
   },
   {
    "duration": 344,
    "start_time": "2024-04-13T09:13:03.254Z"
   },
   {
    "duration": 19,
    "start_time": "2024-04-13T09:13:03.599Z"
   },
   {
    "duration": 357,
    "start_time": "2024-04-13T09:13:03.619Z"
   },
   {
    "duration": 35,
    "start_time": "2024-04-13T09:13:03.978Z"
   },
   {
    "duration": 472,
    "start_time": "2024-04-13T09:13:04.015Z"
   },
   {
    "duration": 10,
    "start_time": "2024-04-13T09:13:04.491Z"
   },
   {
    "duration": 17,
    "start_time": "2024-04-13T09:13:04.503Z"
   },
   {
    "duration": 6,
    "start_time": "2024-04-13T09:13:04.522Z"
   },
   {
    "duration": 17,
    "start_time": "2024-04-13T09:13:04.530Z"
   },
   {
    "duration": 19,
    "start_time": "2024-04-13T09:13:04.549Z"
   },
   {
    "duration": 5,
    "start_time": "2024-04-13T09:13:04.569Z"
   },
   {
    "duration": 995,
    "start_time": "2024-04-13T16:40:52.222Z"
   },
   {
    "duration": 63,
    "start_time": "2024-04-13T16:40:53.219Z"
   },
   {
    "duration": 11,
    "start_time": "2024-04-13T16:40:53.283Z"
   },
   {
    "duration": 16,
    "start_time": "2024-04-13T16:40:53.295Z"
   },
   {
    "duration": 20,
    "start_time": "2024-04-13T16:40:53.312Z"
   },
   {
    "duration": 11,
    "start_time": "2024-04-13T16:40:53.333Z"
   },
   {
    "duration": 40,
    "start_time": "2024-04-13T16:40:53.345Z"
   },
   {
    "duration": 11,
    "start_time": "2024-04-13T16:40:53.386Z"
   },
   {
    "duration": 15,
    "start_time": "2024-04-13T16:40:53.398Z"
   },
   {
    "duration": 5,
    "start_time": "2024-04-13T16:40:53.416Z"
   },
   {
    "duration": 10,
    "start_time": "2024-04-13T16:40:53.422Z"
   },
   {
    "duration": 6,
    "start_time": "2024-04-13T16:40:53.433Z"
   },
   {
    "duration": 21,
    "start_time": "2024-04-13T16:40:53.440Z"
   },
   {
    "duration": 26,
    "start_time": "2024-04-13T16:40:53.462Z"
   },
   {
    "duration": 11,
    "start_time": "2024-04-13T16:40:53.489Z"
   },
   {
    "duration": 24,
    "start_time": "2024-04-13T16:40:53.501Z"
   },
   {
    "duration": 23,
    "start_time": "2024-04-13T16:40:53.526Z"
   },
   {
    "duration": 39,
    "start_time": "2024-04-13T16:40:53.550Z"
   },
   {
    "duration": 19,
    "start_time": "2024-04-13T16:40:53.591Z"
   },
   {
    "duration": 93,
    "start_time": "2024-04-13T16:40:53.611Z"
   },
   {
    "duration": 7,
    "start_time": "2024-04-13T16:40:53.705Z"
   },
   {
    "duration": 283,
    "start_time": "2024-04-13T16:40:53.713Z"
   },
   {
    "duration": 239,
    "start_time": "2024-04-13T16:40:53.997Z"
   },
   {
    "duration": 9,
    "start_time": "2024-04-13T16:40:54.237Z"
   },
   {
    "duration": 231,
    "start_time": "2024-04-13T16:40:54.247Z"
   },
   {
    "duration": 22,
    "start_time": "2024-04-13T16:40:54.479Z"
   },
   {
    "duration": 16,
    "start_time": "2024-04-13T16:40:54.502Z"
   },
   {
    "duration": 368,
    "start_time": "2024-04-13T16:40:54.521Z"
   },
   {
    "duration": 22,
    "start_time": "2024-04-13T16:40:54.891Z"
   },
   {
    "duration": 223,
    "start_time": "2024-04-13T16:40:54.915Z"
   },
   {
    "duration": 9,
    "start_time": "2024-04-13T16:40:55.139Z"
   },
   {
    "duration": 741,
    "start_time": "2024-04-13T16:40:55.149Z"
   },
   {
    "duration": 771,
    "start_time": "2024-04-13T16:40:55.892Z"
   },
   {
    "duration": 20,
    "start_time": "2024-04-13T16:40:56.665Z"
   },
   {
    "duration": 121,
    "start_time": "2024-04-13T16:40:56.686Z"
   },
   {
    "duration": 7,
    "start_time": "2024-04-13T16:40:56.808Z"
   },
   {
    "duration": 121,
    "start_time": "2024-04-13T16:40:56.816Z"
   },
   {
    "duration": 140,
    "start_time": "2024-04-13T16:40:56.938Z"
   },
   {
    "duration": 230,
    "start_time": "2024-04-13T16:40:57.079Z"
   },
   {
    "duration": 11,
    "start_time": "2024-04-13T16:40:57.310Z"
   },
   {
    "duration": 27,
    "start_time": "2024-04-13T16:40:57.322Z"
   },
   {
    "duration": 254,
    "start_time": "2024-04-13T16:40:57.350Z"
   },
   {
    "duration": 13,
    "start_time": "2024-04-13T16:40:57.605Z"
   },
   {
    "duration": 267,
    "start_time": "2024-04-13T16:40:57.619Z"
   },
   {
    "duration": 14,
    "start_time": "2024-04-13T16:40:57.887Z"
   },
   {
    "duration": 316,
    "start_time": "2024-04-13T16:40:57.902Z"
   },
   {
    "duration": 8,
    "start_time": "2024-04-13T16:40:58.219Z"
   },
   {
    "duration": 9,
    "start_time": "2024-04-13T16:40:58.228Z"
   },
   {
    "duration": 4,
    "start_time": "2024-04-13T16:40:58.238Z"
   },
   {
    "duration": 14,
    "start_time": "2024-04-13T16:40:58.243Z"
   },
   {
    "duration": 18,
    "start_time": "2024-04-13T16:40:58.258Z"
   },
   {
    "duration": 9,
    "start_time": "2024-04-13T16:40:58.277Z"
   },
   {
    "duration": 221,
    "start_time": "2024-04-13T16:57:29.081Z"
   },
   {
    "duration": 307,
    "start_time": "2024-04-13T16:58:00.517Z"
   },
   {
    "duration": 444,
    "start_time": "2024-04-13T16:58:10.848Z"
   },
   {
    "duration": 715,
    "start_time": "2024-04-13T16:58:48.235Z"
   }
  ],
  "kernelspec": {
   "display_name": "Python 3 (ipykernel)",
   "language": "python",
   "name": "python3"
  },
  "language_info": {
   "codemirror_mode": {
    "name": "ipython",
    "version": 3
   },
   "file_extension": ".py",
   "mimetype": "text/x-python",
   "name": "python",
   "nbconvert_exporter": "python",
   "pygments_lexer": "ipython3",
   "version": "3.9.5"
  },
  "toc": {
   "base_numbering": 1,
   "nav_menu": {},
   "number_sections": true,
   "sideBar": true,
   "skip_h1_title": true,
   "title_cell": "Table of Contents",
   "title_sidebar": "Contents",
   "toc_cell": false,
   "toc_position": {
    "height": "calc(100% - 180px)",
    "left": "10px",
    "top": "150px",
    "width": "245.148px"
   },
   "toc_section_display": true,
   "toc_window_display": true
  }
 },
 "nbformat": 4,
 "nbformat_minor": 2
}
